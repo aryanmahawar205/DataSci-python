{
 "cells": [
  {
   "cell_type": "code",
   "execution_count": null,
   "metadata": {
    "executionInfo": {
     "elapsed": 3,
     "status": "ok",
     "timestamp": 1637746843779,
     "user": {
      "displayName": "Sumit Atram",
      "photoUrl": "https://lh3.googleusercontent.com/a/default-user=s64",
      "userId": "08687274804023115560"
     },
     "user_tz": -330
    },
    "id": "J4t3JaZlRb_9"
   },
   "outputs": [],
   "source": [
    "## importing libraries\n",
    "import pandas as pd\n",
    "import numpy as np\n",
    "import matplotlib.pyplot as plt\n",
    "%matplotlib inline"
   ]
  },
  {
   "cell_type": "code",
   "execution_count": null,
   "metadata": {
    "id": "XIY82ZxkRcAD"
   },
   "outputs": [],
   "source": [
    "## generating a random variable\n",
    "exp=np.random.normal(25000,15000,1000) # (mean, std dev, no. of data points)\n",
    "\n",
    "exp"
   ]
  },
  {
   "cell_type": "code",
   "execution_count": null,
   "metadata": {},
   "outputs": [],
   "source": [
    "## plotting the randomly generated exp\n",
    "plt.hist(exp)\n",
    "plt.show()"
   ]
  },
  {
   "cell_type": "code",
   "execution_count": null,
   "metadata": {},
   "outputs": [],
   "source": [
    "import warnings\n",
    "warnings.filterwarnings('ignore')\n",
    "import seaborn as sns\n",
    "sns.distplot(exp)"
   ]
  },
  {
   "cell_type": "code",
   "execution_count": null,
   "metadata": {
    "colab": {
     "base_uri": "https://localhost:8080/"
    },
    "id": "mCDXFIVGRcAF",
    "outputId": "4cd6ea84-700d-472d-d83f-1ef04da6707f"
   },
   "outputs": [],
   "source": [
    "## calculating mean\n",
    "np.mean(exp)"
   ]
  },
  {
   "cell_type": "code",
   "execution_count": null,
   "metadata": {
    "colab": {
     "base_uri": "https://localhost:8080/"
    },
    "id": "oX08dPCqRcAF",
    "outputId": "fecdd40e-ec29-4d47-cad3-0f950298cea0"
   },
   "outputs": [],
   "source": [
    "## calculating median\n",
    "np.median(exp)"
   ]
  },
  {
   "cell_type": "code",
   "execution_count": null,
   "metadata": {
    "id": "Hqxa-he2RcAG"
   },
   "outputs": [],
   "source": [
    "## adding one huge point,outlier\n",
    "exp=np.append(exp,[100000000])"
   ]
  },
  {
   "cell_type": "code",
   "execution_count": null,
   "metadata": {
    "id": "JaduRSfGUEy0",
    "outputId": "dc183f7d-3fc9-401d-d646-fa1f0390fb8b"
   },
   "outputs": [],
   "source": [
    "import seaborn as sns\n",
    "sns.distplot(exp)"
   ]
  },
  {
   "cell_type": "code",
   "execution_count": null,
   "metadata": {
    "colab": {
     "base_uri": "https://localhost:8080/"
    },
    "id": "fb3ncYKNRcAH",
    "outputId": "8d4a3a5d-b255-4046-ecf0-e7a1d0b8537b"
   },
   "outputs": [],
   "source": [
    "np.mean(exp)"
   ]
  },
  {
   "cell_type": "code",
   "execution_count": null,
   "metadata": {
    "colab": {
     "base_uri": "https://localhost:8080/"
    },
    "id": "37HCP4vmRcAH",
    "outputId": "c2693b67-46bc-4db9-f536-906f4f4422cb"
   },
   "outputs": [],
   "source": [
    "np.median(exp)"
   ]
  },
  {
   "cell_type": "code",
   "execution_count": null,
   "metadata": {
    "id": "yEHrZJstRcAI"
   },
   "outputs": [],
   "source": [
    "## mode\n",
    "exp=np.random.randint(15,high=50,size=200) "
   ]
  },
  {
   "cell_type": "code",
   "execution_count": null,
   "metadata": {},
   "outputs": [],
   "source": [
    "exp"
   ]
  },
  {
   "cell_type": "code",
   "execution_count": null,
   "metadata": {
    "id": "cN_EPx7TRcAJ"
   },
   "outputs": [],
   "source": [
    "from scipy import stats"
   ]
  },
  {
   "cell_type": "code",
   "execution_count": null,
   "metadata": {
    "id": "QKhRx-TZRcAK",
    "outputId": "ee3e1a9b-0c06-4dc8-920b-45e7b7edd547"
   },
   "outputs": [],
   "source": [
    "stats.mode(exp)"
   ]
  },
  {
   "cell_type": "code",
   "execution_count": null,
   "metadata": {
    "id": "JN6F2ALKRcAL"
   },
   "outputs": [],
   "source": [
    "## calculating IQR\n",
    "data=[346,47,56,2,36,39,75,79,79,88,89,91,92,93,96,97,101,105,112,115]"
   ]
  },
  {
   "cell_type": "code",
   "execution_count": null,
   "metadata": {
    "id": "bD3ejF_lRcAL"
   },
   "outputs": [],
   "source": [
    "IQR= stats.iqr(data,interpolation='midpoint')"
   ]
  },
  {
   "cell_type": "code",
   "execution_count": null,
   "metadata": {
    "id": "TY0nmBODRcAM"
   },
   "outputs": [],
   "source": [
    "IQR # this is the spread of the middle 50% of values in the dataset"
   ]
  },
  {
   "cell_type": "code",
   "execution_count": null,
   "metadata": {
    "id": "rJdiczFIRcAN",
    "outputId": "00bbe601-4637-4113-c1e3-606a83f8b724"
   },
   "outputs": [],
   "source": [
    "## variance and standard deviation\n",
    "np.var(data)"
   ]
  },
  {
   "cell_type": "code",
   "execution_count": null,
   "metadata": {
    "id": "8ar7Fq5lRcAN",
    "outputId": "404a6570-541c-4499-e7db-5a1596b0366b"
   },
   "outputs": [],
   "source": [
    "np.std(data)"
   ]
  },
  {
   "cell_type": "code",
   "execution_count": null,
   "metadata": {},
   "outputs": [],
   "source": [
    "a = [20, 5, 7, 1, 34, 28, 26, 8, 19, 12, 35, 13, 44, 78, 67, 29]            \n",
    "\n",
    "print(\"12th percentile : \",\n",
    "       np.percentile(a, 12))\n",
    "\n",
    "print(\"50th percentile: \",\n",
    "       np.percentile(a, 50))\n",
    "\n",
    "print(\"75th percentile: \",\n",
    "       np.percentile(a, 75))"
   ]
  },
  {
   "cell_type": "code",
   "execution_count": null,
   "metadata": {},
   "outputs": [],
   "source": []
  }
 ],
 "metadata": {
  "colab": {
   "name": "Measure_of_central_tendencies_and_data_variability.ipynb",
   "provenance": []
  },
  "kernelspec": {
   "display_name": "Python 3 (ipykernel)",
   "language": "python",
   "name": "python3"
  },
  "language_info": {
   "codemirror_mode": {
    "name": "ipython",
    "version": 3
   },
   "file_extension": ".py",
   "mimetype": "text/x-python",
   "name": "python",
   "nbconvert_exporter": "python",
   "pygments_lexer": "ipython3",
   "version": "3.9.7"
  }
 },
 "nbformat": 4,
 "nbformat_minor": 1
}
