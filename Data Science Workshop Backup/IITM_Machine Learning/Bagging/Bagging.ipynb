{
 "cells": [
  {
   "cell_type": "markdown",
   "metadata": {},
   "source": [
    "# Bagging"
   ]
  },
  {
   "cell_type": "markdown",
   "metadata": {},
   "source": [
    "# what is bagging\n",
    "* Bagging, also known as bootstrap aggregation, is the ensemble learning method that is commonly used to reduce variance within a noisy dataset. In bagging, a random sample of data in a training set is selected with replacement—meaning that the individual data points can be chosen more than once\n",
    "\n",
    "\n",
    "* Bagging is used when the goal is to reduce the variance of a decision tree classifier. Here the objective is to create several subsets of data from training sample chosen randomly with replacement. Each collection of subset data is used to train\n",
    "\n",
    "![](bag.png)\n",
    "\n",
    "\n",
    "**Output side called as  Aggregation**\n",
    "\n",
    "**For regression task it will take average**\n",
    "\n",
    "\n",
    "\n",
    "**For classification it will count the output** \n",
    "\n",
    "## How bagging works\n",
    "\n",
    "#### Bootstrapping:\n",
    "*  Bagging leverages a bootstrapping sampling technique to create diverse samples. This resampling method generates different subsets of the training dataset by selecting data points at random and with replacement. This means that each time you select a data point from the training dataset, you are able to select the same instance multiple times. As a result, a value/instance repeated twice (or more) in a sample.\n",
    "\n",
    "#### Parallel training:\n",
    "* These bootstrap samples are then trained independently and in parallel with each other using weak or base learners.\n",
    "\n",
    "#### Aggregation:\n",
    "* Finally, depending on the task (i.e. regression or classification), an average or a majority of the predictions are taken to compute a more accurate estimate. In the case of regression, an average is taken of all the outputs predicted by the individual classifiers; this is known as soft voting. For classification problems, the class with the highest majority of votes is accepted; this is known as hard voting or majority voting.\n",
    "\n",
    "## Benefits :\n",
    "\n",
    "* The biggest advantage of bagging is that multiple weak learners can work better than a single strong learner.\n",
    "\n",
    "#### Ease of implementation: \n",
    "* Python libraries such as scikit-learn (also known as sklearn) make it easy to combine the predictions of base learners or estimators to improve model performance.\n",
    "\n",
    "\n",
    "#### Reduction of variance:\n",
    "* Bagging can reduce the variance within a learning algorithm. This is particularly helpful with high-dimensional data, where missing values can lead to higher variance, making it more prone to overfitting and preventing accurate generalization to new datasets.\n",
    "\n",
    "\n",
    "## challenges of bagging:\n",
    "\n",
    "\n",
    "#### Computationally expensive:\n",
    "* Bagging slows down and grows more intensive as the number of iterations increase. Clustered systems or a large number of processing cores are ideal for quickly creating bagged ensembles on large test sets.\n",
    "\n"
   ]
  },
  {
   "cell_type": "markdown",
   "metadata": {
    "id": "akZcYZjZBOWv"
   },
   "source": [
    "## First we will see Using single model"
   ]
  },
  {
   "cell_type": "markdown",
   "metadata": {
    "id": "NMVo4-JaBOWw"
   },
   "source": [
    "## Business case: Predicting  quality of wine with given feature."
   ]
  },
  {
   "cell_type": "code",
   "execution_count": null,
   "metadata": {
    "colab": {
     "base_uri": "https://localhost:8080/",
     "height": 417
    },
    "executionInfo": {
     "elapsed": 527,
     "status": "error",
     "timestamp": 1626368107774,
     "user": {
      "displayName": "yasmeen khan",
      "photoUrl": "https://lh3.googleusercontent.com/a-/AOh14GgCi4jhjE_cHqfsT8ooLGhQbbS7tY_36KSSRU1s=s64",
      "userId": "10228557724932646508"
     },
     "user_tz": -330
    },
    "id": "I5QjhJQhBOWx",
    "outputId": "27732893-318e-4df0-b349-ee4f7f8d62ae"
   },
   "outputs": [],
   "source": [
    "#importing package and loading data\n",
    "import pandas as pd\n",
    "import numpy as np\n",
    "import matplotlib.pyplot as plt\n",
    "import seaborn as sns\n",
    "\n",
    "import warnings\n",
    "warnings.filterwarnings('ignore')"
   ]
  },
  {
   "cell_type": "code",
   "execution_count": null,
   "metadata": {},
   "outputs": [],
   "source": [
    "# Laod the dataset\n",
    "data=pd.read_csv('wine.csv')"
   ]
  },
  {
   "cell_type": "markdown",
   "metadata": {},
   "source": [
    "# Basic check"
   ]
  },
  {
   "cell_type": "code",
   "execution_count": null,
   "metadata": {
    "colab": {
     "base_uri": "https://localhost:8080/",
     "height": 212
    },
    "executionInfo": {
     "elapsed": 1330,
     "status": "ok",
     "timestamp": 1617861202669,
     "user": {
      "displayName": "Thejus G",
      "photoUrl": "",
      "userId": "13903418510874538491"
     },
     "user_tz": -330
    },
    "id": "tzPDCnBNBOWy",
    "outputId": "79821488-1f73-4597-f499-1a96c2ab5765",
    "scrolled": true
   },
   "outputs": [],
   "source": [
    "data.head()#first five rows"
   ]
  },
  {
   "cell_type": "code",
   "execution_count": null,
   "metadata": {},
   "outputs": [],
   "source": [
    "data.wine.value_counts()"
   ]
  },
  {
   "cell_type": "code",
   "execution_count": null,
   "metadata": {},
   "outputs": [],
   "source": [
    "data.tail()#last 5 rows"
   ]
  },
  {
   "cell_type": "code",
   "execution_count": null,
   "metadata": {},
   "outputs": [],
   "source": [
    "data.info()# to know datatype and null count"
   ]
  },
  {
   "cell_type": "code",
   "execution_count": null,
   "metadata": {},
   "outputs": [],
   "source": [
    "data.describe()#used to view some basic statistical details like percentile, mean, std etc. "
   ]
  },
  {
   "cell_type": "code",
   "execution_count": null,
   "metadata": {
    "colab": {
     "base_uri": "https://localhost:8080/",
     "height": 172
    },
    "executionInfo": {
     "elapsed": 571,
     "status": "error",
     "timestamp": 1626367995752,
     "user": {
      "displayName": "yasmeen khan",
      "photoUrl": "https://lh3.googleusercontent.com/a-/AOh14GgCi4jhjE_cHqfsT8ooLGhQbbS7tY_36KSSRU1s=s64",
      "userId": "10228557724932646508"
     },
     "user_tz": -330
    },
    "id": "WhBmn7ihFVn5",
    "outputId": "cc4f6737-d598-4c19-efa5-76db47ed822c"
   },
   "outputs": [],
   "source": [
    "data.shape#rows and columns"
   ]
  },
  {
   "cell_type": "markdown",
   "metadata": {},
   "source": [
    "# EDA"
   ]
  },
  {
   "cell_type": "markdown",
   "metadata": {},
   "source": [
    "### Renaming the columns"
   ]
  },
  {
   "cell_type": "code",
   "execution_count": null,
   "metadata": {},
   "outputs": [],
   "source": [
    "data.rename(columns={'Alcalinity of ash':'AOA','Total phenols':'total_phe',\n",
    "                     'Nonflavanoid phenols':'NOP','Color intensity':'color_intensity','Hue':'hu',\n",
    "                     'OD280/OD315 of diluted wines':'DW','Malic acid':'M_acid'},inplace=True)\n",
    "#renaming all columns"
   ]
  },
  {
   "cell_type": "code",
   "execution_count": null,
   "metadata": {},
   "outputs": [],
   "source": [
    "data.head()#first 5 rows"
   ]
  },
  {
   "cell_type": "markdown",
   "metadata": {},
   "source": [
    "## checking distribution"
   ]
  },
  {
   "cell_type": "code",
   "execution_count": null,
   "metadata": {},
   "outputs": [],
   "source": [
    "#creation of data frame which continuous variable\n",
    "box = data[['Alcohol','M_acid','Ash',\n",
    "          'AOA','Magnesium','total_phe',\n",
    "          'Flavanoids','NOP','Proanthocyanins',\n",
    "          'color_intensity','hu','DW','Proline']]"
   ]
  },
  {
   "cell_type": "code",
   "execution_count": null,
   "metadata": {},
   "outputs": [],
   "source": [
    "plt.figure(figsize=(25,25),facecolor='white')#canvas size\n",
    "\n",
    "plotnum=1 #counter\n",
    "\n",
    "for c in box:#columns form dataFrame\n",
    "    if(plotnum<9):#checking whether counter less than 9\n",
    "        a=plt.subplot(4,2,plotnum)#plotting 8 graph\n",
    "        sns.distplot(box[c])#to know distribution\n",
    "    plotnum+=1#increment counter\n",
    "plt.tight_layout()    "
   ]
  },
  {
   "cell_type": "code",
   "execution_count": null,
   "metadata": {},
   "outputs": [],
   "source": [
    "sns.distplot(data.Proanthocyanins)"
   ]
  },
  {
   "cell_type": "code",
   "execution_count": null,
   "metadata": {},
   "outputs": [],
   "source": [
    "sns.distplot(data.color_intensity)"
   ]
  },
  {
   "cell_type": "markdown",
   "metadata": {},
   "source": [
    "# Data preprocessing"
   ]
  },
  {
   "cell_type": "markdown",
   "metadata": {},
   "source": [
    "# 1.checking null values "
   ]
  },
  {
   "cell_type": "code",
   "execution_count": null,
   "metadata": {},
   "outputs": [],
   "source": [
    "data.isnull().sum()"
   ]
  },
  {
   "cell_type": "markdown",
   "metadata": {},
   "source": [
    "## 2.checking constant columns:"
   ]
  },
  {
   "cell_type": "code",
   "execution_count": null,
   "metadata": {},
   "outputs": [],
   "source": [
    "data.describe()"
   ]
  },
  {
   "cell_type": "code",
   "execution_count": null,
   "metadata": {},
   "outputs": [],
   "source": [
    "## the standard deviation of all features are not 0 ,so there are no constant features in the dataset."
   ]
  },
  {
   "cell_type": "markdown",
   "metadata": {},
   "source": [
    "## 3.checking outlier"
   ]
  },
  {
   "cell_type": "code",
   "execution_count": null,
   "metadata": {},
   "outputs": [],
   "source": [
    "#creation of data frame which continuous variable\n",
    "box=data[['Alcohol','M_acid','Ash',\n",
    "          'AOA','Magnesium','total_phe',\n",
    "          'Flavanoids','NOP','Proanthocyanins',\n",
    "          'color_intensity','hu','DW','Proline']]"
   ]
  },
  {
   "cell_type": "code",
   "execution_count": null,
   "metadata": {},
   "outputs": [],
   "source": [
    "plt.figure(figsize=(25,25),facecolor='white')\n",
    "plotnum=1\n",
    "for c in box:\n",
    "    if(plotnum<14):\n",
    "        ax=plt.subplot(4,4,plotnum)\n",
    "        sns.boxplot(box[c])\n",
    "    plotnum+=1\n",
    "plt.tight_layout()    "
   ]
  },
  {
   "cell_type": "markdown",
   "metadata": {},
   "source": [
    "# Outlier Handling"
   ]
  },
  {
   "cell_type": "markdown",
   "metadata": {},
   "source": [
    "# M_acid"
   ]
  },
  {
   "cell_type": "code",
   "execution_count": null,
   "metadata": {},
   "outputs": [],
   "source": [
    "#outlier handling for M_acid and its not a normal so we use IQR range\n",
    "from scipy import stats\n"
   ]
  },
  {
   "cell_type": "code",
   "execution_count": null,
   "metadata": {},
   "outputs": [],
   "source": [
    "IQR = stats.iqr(data.M_acid, interpolation = 'midpoint') #calculating Inter quantile range\n",
    "\n",
    "IQR"
   ]
  },
  {
   "cell_type": "code",
   "execution_count": null,
   "metadata": {},
   "outputs": [],
   "source": [
    "Q1=data.M_acid.quantile(0.25)#defining 25% of data\n",
    "Q3=data.M_acid.quantile(0.75)##defining 75% of data\n",
    "\n",
    "min_limit=Q1 - 1.5*IQR #setting minimum limit\n",
    "\n",
    "max_limit=Q3 + 1.5*IQR #setting maximum limit\n"
   ]
  },
  {
   "cell_type": "code",
   "execution_count": null,
   "metadata": {},
   "outputs": [],
   "source": [
    "min_limit"
   ]
  },
  {
   "cell_type": "code",
   "execution_count": null,
   "metadata": {},
   "outputs": [],
   "source": [
    "max_limit"
   ]
  },
  {
   "cell_type": "code",
   "execution_count": null,
   "metadata": {},
   "outputs": [],
   "source": [
    "data.loc[data['M_acid']<min_limit] #checking values which are less than minimum limit"
   ]
  },
  {
   "cell_type": "code",
   "execution_count": null,
   "metadata": {
    "scrolled": true
   },
   "outputs": [],
   "source": [
    "data.loc[data['M_acid']>max_limit]#checking values which are greater than maximum limit\n"
   ]
  },
  {
   "cell_type": "code",
   "execution_count": null,
   "metadata": {},
   "outputs": [],
   "source": [
    "#imputing outlier with with median\n",
    "data.loc[data['M_acid']>max_limit,'M_acid']=np.median(data.M_acid)"
   ]
  },
  {
   "cell_type": "code",
   "execution_count": null,
   "metadata": {},
   "outputs": [],
   "source": [
    "data.loc[data['M_acid']>max_limit] #checking whether outlier remove or not"
   ]
  },
  {
   "cell_type": "markdown",
   "metadata": {},
   "source": [
    "# Ash"
   ]
  },
  {
   "cell_type": "markdown",
   "metadata": {},
   "source": [
    "### Using 3 sigma rule"
   ]
  },
  {
   "cell_type": "code",
   "execution_count": null,
   "metadata": {},
   "outputs": [],
   "source": [
    "# for ash we will use 3 sigma rule \n",
    "lower_limit=data.Ash.mean() - 3*data.Ash.std() #calculating lower limit\n",
    "print(lower_limit)\n",
    "\n",
    "upper_limit=data.Ash.mean() + 3*data.Ash.std() #calculating upper limit\n",
    "upper_limit"
   ]
  },
  {
   "cell_type": "code",
   "execution_count": null,
   "metadata": {},
   "outputs": [],
   "source": [
    "data.loc[data['Ash']<lower_limit] #checking values which are less than minimum limit"
   ]
  },
  {
   "cell_type": "code",
   "execution_count": null,
   "metadata": {},
   "outputs": [],
   "source": [
    "data.loc[data['Ash']<lower_limit,'Ash']=np.mean(data.Ash)"
   ]
  },
  {
   "cell_type": "code",
   "execution_count": null,
   "metadata": {},
   "outputs": [],
   "source": [
    "data.loc[data['Ash']<lower_limit]"
   ]
  },
  {
   "cell_type": "code",
   "execution_count": null,
   "metadata": {},
   "outputs": [],
   "source": [
    "data.loc[data['Ash']>upper_limit]#checking values which are greater than maximum limit"
   ]
  },
  {
   "cell_type": "code",
   "execution_count": null,
   "metadata": {},
   "outputs": [],
   "source": [
    "data.loc[data['Ash']>upper_limit,'Ash']=np.mean(data.Ash)#imputing value with mean"
   ]
  },
  {
   "cell_type": "code",
   "execution_count": null,
   "metadata": {},
   "outputs": [],
   "source": [
    "data.loc[data['Ash']>upper_limit]#recheck"
   ]
  },
  {
   "cell_type": "markdown",
   "metadata": {},
   "source": [
    "# AOA this is a normally distributed using 3 sigma rule"
   ]
  },
  {
   "cell_type": "code",
   "execution_count": null,
   "metadata": {},
   "outputs": [],
   "source": [
    "data.sort_values('AOA')"
   ]
  },
  {
   "cell_type": "code",
   "execution_count": null,
   "metadata": {},
   "outputs": [],
   "source": [
    "lower_limit=data.AOA.mean() - 3*data.AOA.std()##calculating lower limit\n",
    "print(lower_limit)\n",
    "\n",
    "upper_limit=data.AOA.mean() + 3*data.AOA.std()#calculating upper limit\n",
    "upper_limit"
   ]
  },
  {
   "cell_type": "code",
   "execution_count": null,
   "metadata": {},
   "outputs": [],
   "source": [
    "data.loc[data['AOA']<lower_limit]#checking values which are less than minimum limit"
   ]
  },
  {
   "cell_type": "code",
   "execution_count": null,
   "metadata": {},
   "outputs": [],
   "source": [
    "data.loc[data['AOA']<lower_limit,'AOA']=np.median(data.AOA)#imputing value with median"
   ]
  },
  {
   "cell_type": "code",
   "execution_count": null,
   "metadata": {},
   "outputs": [],
   "source": [
    "data.loc[data['AOA']<lower_limit]"
   ]
  },
  {
   "cell_type": "code",
   "execution_count": null,
   "metadata": {},
   "outputs": [],
   "source": [
    "data.loc[data['AOA']>upper_limit]#checking values which are greater than maximum limit"
   ]
  },
  {
   "cell_type": "code",
   "execution_count": null,
   "metadata": {},
   "outputs": [],
   "source": [
    "data.loc[data['AOA']>upper_limit,'AOA']=np.mean(data.AOA)#imputing value with mean"
   ]
  },
  {
   "cell_type": "code",
   "execution_count": null,
   "metadata": {},
   "outputs": [],
   "source": [
    "data.loc[data['AOA']>upper_limit]"
   ]
  },
  {
   "cell_type": "markdown",
   "metadata": {},
   "source": [
    "# Magnesium is normal curve so using 3 sigma rule"
   ]
  },
  {
   "cell_type": "code",
   "execution_count": null,
   "metadata": {},
   "outputs": [],
   "source": [
    "lower_limit=data.Magnesium.mean() - 3*data.Magnesium.std()#calculating lower limit\n",
    "print(lower_limit)\n",
    "\n",
    "upper_limit=data.Magnesium.mean() + 3*data.Magnesium.std()#calculating upper limit\n",
    "upper_limit"
   ]
  },
  {
   "cell_type": "code",
   "execution_count": null,
   "metadata": {},
   "outputs": [],
   "source": [
    "data.loc[data['Magnesium']<lower_limit]#checking values which are less than minimum limit"
   ]
  },
  {
   "cell_type": "code",
   "execution_count": null,
   "metadata": {},
   "outputs": [],
   "source": [
    "data.loc[data['Magnesium']>upper_limit]#checking values which are  greater than maximum limit"
   ]
  },
  {
   "cell_type": "code",
   "execution_count": null,
   "metadata": {},
   "outputs": [],
   "source": [
    "data.loc[data['Magnesium']>upper_limit,'Magnesium']=np.mean(data.Magnesium)#imputing values using mean"
   ]
  },
  {
   "cell_type": "code",
   "execution_count": null,
   "metadata": {},
   "outputs": [],
   "source": [
    "data.loc[data['Magnesium']>upper_limit]"
   ]
  },
  {
   "cell_type": "markdown",
   "metadata": {},
   "source": [
    "### Feature Selection"
   ]
  },
  {
   "cell_type": "code",
   "execution_count": null,
   "metadata": {},
   "outputs": [],
   "source": [
    "## Checking correlation\n",
    "\n",
    "plt.figure(figsize=(30, 30))#canvas size\n",
    "sns.heatmap(data.corr(), annot=True, cmap=\"RdYlGn\", annot_kws={\"size\":15})\n",
    "#plotting heat map to check correlation"
   ]
  },
  {
   "cell_type": "markdown",
   "metadata": {
    "id": "SYiDjznWCcPq"
   },
   "source": [
    "# Model building\n"
   ]
  },
  {
   "cell_type": "code",
   "execution_count": null,
   "metadata": {},
   "outputs": [],
   "source": [
    "data.head()"
   ]
  },
  {
   "cell_type": "code",
   "execution_count": null,
   "metadata": {
    "id": "3Y97Tb12BOWy"
   },
   "outputs": [],
   "source": [
    "## Creating independent and dependent variable\n",
    "X=data.iloc[:,1:] #from alcohol column\n",
    "y=data.wine"
   ]
  },
  {
   "cell_type": "code",
   "execution_count": null,
   "metadata": {
    "id": "6RwvQ7LiBOWy"
   },
   "outputs": [],
   "source": [
    "### creating train and test data\n",
    "from sklearn.model_selection import train_test_split\n",
    "X_train,X_test,y_train,y_test=train_test_split(X,y,test_size=0.25,random_state=42)"
   ]
  },
  {
   "cell_type": "code",
   "execution_count": null,
   "metadata": {
    "colab": {
     "base_uri": "https://localhost:8080/"
    },
    "executionInfo": {
     "elapsed": 2366,
     "status": "ok",
     "timestamp": 1617861846112,
     "user": {
      "displayName": "Thejus G",
      "photoUrl": "",
      "userId": "13903418510874538491"
     },
     "user_tz": -330
    },
    "id": "kCmA0VXPBOWz",
    "outputId": "d3bc1480-6047-4f02-e7b6-6343f8597e23"
   },
   "outputs": [],
   "source": [
    "## checking the train and test shape\n",
    "X_test.shape"
   ]
  },
  {
   "cell_type": "code",
   "execution_count": null,
   "metadata": {
    "colab": {
     "base_uri": "https://localhost:8080/"
    },
    "executionInfo": {
     "elapsed": 2362,
     "status": "ok",
     "timestamp": 1617861846112,
     "user": {
      "displayName": "Thejus G",
      "photoUrl": "",
      "userId": "13903418510874538491"
     },
     "user_tz": -330
    },
    "id": "4b8p0QuNBOWz",
    "outputId": "4c898905-c6e2-4369-9702-1489356d9024"
   },
   "outputs": [],
   "source": [
    "X_train.shape"
   ]
  },
  {
   "cell_type": "code",
   "execution_count": null,
   "metadata": {
    "id": "hpkT5XVuBOWz"
   },
   "outputs": [],
   "source": [
    "from sklearn.neighbors import KNeighborsClassifier#USING KNN\n",
    "KNN1=KNeighborsClassifier() ## model object creation\n",
    "KNN1.fit(X_train,y_train)  ## fitting the model\n",
    "y_hat_knn=KNN1.predict(X_test) ## getting the predict from created model"
   ]
  },
  {
   "cell_type": "code",
   "execution_count": null,
   "metadata": {
    "colab": {
     "base_uri": "https://localhost:8080/"
    },
    "executionInfo": {
     "elapsed": 2351,
     "status": "ok",
     "timestamp": 1617861846114,
     "user": {
      "displayName": "Thejus G",
      "photoUrl": "",
      "userId": "13903418510874538491"
     },
     "user_tz": -330
    },
    "id": "wmTeXfnTBOW0",
    "outputId": "f3ef8af5-2f68-412a-ad5d-bd5ae777640f"
   },
   "outputs": [],
   "source": [
    "from sklearn.metrics import f1_score \n",
    "f1_knn=f1_score(y_test,y_hat_knn,average='weighted')#checking model performance \n",
    "f1_knn"
   ]
  },
  {
   "cell_type": "markdown",
   "metadata": {
    "id": "ph2AjOscBOW0"
   },
   "source": [
    "## Using bagging\n"
   ]
  },
  {
   "cell_type": "code",
   "execution_count": null,
   "metadata": {
    "id": "pDi18obQBOW0"
   },
   "outputs": [],
   "source": [
    "from sklearn.ensemble import BaggingClassifier #import bagging \n",
    "\n",
    "## model object creation\n",
    "model_bagg1=BaggingClassifier(base_estimator=KNN1,n_estimators=100) \n",
    "\n",
    "# base_estimator---> algorithm which you want to pass\n",
    "# n_estimators-----> number of base learners\n",
    "\n",
    "\n",
    "## fitting the model\n",
    "model_bagg1.fit(X_train,y_train) \n",
    "\n",
    "\n",
    "## getting the prediction\n",
    "y_hat_bagg=model_bagg1.predict(X_test) "
   ]
  },
  {
   "cell_type": "code",
   "execution_count": null,
   "metadata": {
    "id": "AwTx9u2RBOW0"
   },
   "outputs": [],
   "source": [
    "f1_bagg=f1_score(y_test,y_hat_bagg,average='weighted') ## The weighted-averaged F1 score is calculated by taking \n",
    "                                             ## the mean of all per-class F1 scores while considering each class’s support."
   ]
  },
  {
   "cell_type": "code",
   "execution_count": null,
   "metadata": {
    "colab": {
     "base_uri": "https://localhost:8080/"
    },
    "executionInfo": {
     "elapsed": 1817,
     "status": "ok",
     "timestamp": 1617861848729,
     "user": {
      "displayName": "Thejus G",
      "photoUrl": "",
      "userId": "13903418510874538491"
     },
     "user_tz": -330
    },
    "id": "zuqHQq6iBOW1",
    "outputId": "9f22c126-1c49-403d-b508-c455ed24c708",
    "scrolled": true
   },
   "outputs": [],
   "source": [
    "f1_bagg #score after bagging"
   ]
  },
  {
   "cell_type": "code",
   "execution_count": null,
   "metadata": {},
   "outputs": [],
   "source": []
  },
  {
   "cell_type": "code",
   "execution_count": null,
   "metadata": {},
   "outputs": [],
   "source": []
  }
 ],
 "metadata": {
  "colab": {
   "collapsed_sections": [],
   "name": "Bagging.ipynb",
   "provenance": []
  },
  "kernelspec": {
   "display_name": "Python 3 (ipykernel)",
   "language": "python",
   "name": "python3"
  },
  "language_info": {
   "codemirror_mode": {
    "name": "ipython",
    "version": 3
   },
   "file_extension": ".py",
   "mimetype": "text/x-python",
   "name": "python",
   "nbconvert_exporter": "python",
   "pygments_lexer": "ipython3",
   "version": "3.9.7"
  }
 },
 "nbformat": 4,
 "nbformat_minor": 1
}
