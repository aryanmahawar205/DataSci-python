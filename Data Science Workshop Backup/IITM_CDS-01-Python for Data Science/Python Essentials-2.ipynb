{
 "cells": [
  {
   "cell_type": "markdown",
   "id": "bce3cc62",
   "metadata": {},
   "source": [
    "# Python Operators"
   ]
  },
  {
   "cell_type": "raw",
   "id": "e5156954",
   "metadata": {},
   "source": [
    "Operators are special symbols in Python which are used to perform operations on variables/values."
   ]
  },
  {
   "cell_type": "markdown",
   "id": "73bec088",
   "metadata": {},
   "source": [
    "## Arithmetic Operators"
   ]
  },
  {
   "cell_type": "code",
   "execution_count": null,
   "id": "9ceb2df2",
   "metadata": {},
   "outputs": [],
   "source": [
    "#  Addition\n",
    "a=5\n",
    "b=2\n",
    "c = a + b\n",
    "print('Addition  of  {}  and  {}  will  give  :-  {}'.format(a,b,c))"
   ]
  },
  {
   "cell_type": "code",
   "execution_count": null,
   "id": "c933a260",
   "metadata": {},
   "outputs": [],
   "source": [
    "#Concatenate string using plus operator\n",
    "x='Data' \n",
    "y ='Science'\n",
    "c = 6.9\n",
    "z = x+c\n",
    "print(z)"
   ]
  },
  {
   "cell_type": "code",
   "execution_count": null,
   "id": "2cfae568",
   "metadata": {},
   "outputs": [],
   "source": [
    "# Subtraction\n",
    "c = a - b\n",
    "print('Subtracting  {}  from  {}  will  give  :-  {}'.format(b,a,c))"
   ]
  },
  {
   "cell_type": "code",
   "execution_count": null,
   "id": "9fb8d151",
   "metadata": {},
   "outputs": [],
   "source": [
    "type(c)"
   ]
  },
  {
   "cell_type": "code",
   "execution_count": null,
   "id": "bf7cbce9",
   "metadata": {},
   "outputs": [],
   "source": [
    "# Multiplication\n",
    "c = a * b\n",
    "print('Multiplying  {}  and  {}  will  give  :-  {}'.format(a,b,c))"
   ]
  },
  {
   "cell_type": "code",
   "execution_count": null,
   "id": "4ed770b3",
   "metadata": {},
   "outputs": [],
   "source": [
    "type(c)"
   ]
  },
  {
   "cell_type": "code",
   "execution_count": null,
   "id": "9a7d0a59",
   "metadata": {},
   "outputs": [],
   "source": [
    "# Division\n",
    "c = a / b\n",
    "print('Dividing  {}  by  {}  will  give  :-  {}'.format(a,b,c))"
   ]
  },
  {
   "cell_type": "code",
   "execution_count": null,
   "id": "6a0d2df2",
   "metadata": {},
   "outputs": [],
   "source": [
    "type(c)"
   ]
  },
  {
   "cell_type": "code",
   "execution_count": null,
   "id": "27ef4d32",
   "metadata": {},
   "outputs": [],
   "source": [
    "# Modulo (reminder)\n",
    "c = a % b \n",
    "c\n",
    "#print('Modulo  of  {}  ,  {}  will  give  :-  {}'.format(a,b,c))"
   ]
  },
  {
   "cell_type": "code",
   "execution_count": null,
   "id": "221cd165",
   "metadata": {},
   "outputs": [],
   "source": [
    "# Power\n",
    "c = a ** b\n",
    "print('{}  raised  to  the  power  {}  will  give  :-  {}\\n'.format(a,b,c))"
   ]
  },
  {
   "cell_type": "code",
   "execution_count": null,
   "id": "de6eb709",
   "metadata": {},
   "outputs": [],
   "source": [
    "# Division(floor)\n",
    "c = a // b\n",
    "print('Floor  division  of  {}  by  {}  will  give  :-  {}\\n'.format(a,b,c))"
   ]
  },
  {
   "cell_type": "markdown",
   "id": "930e346a",
   "metadata": {},
   "source": [
    "## Comparison Operators\n",
    "- Will return True/False"
   ]
  },
  {
   "cell_type": "code",
   "execution_count": null,
   "id": "5af6d024",
   "metadata": {},
   "outputs": [],
   "source": [
    "x  = 20\n",
    "y  = 30\n",
    "# >, <, <=, >=, ==, !=\n",
    "\n",
    "print('Is  x  greater  than  y  :-  ',x>y ) \n",
    "print('Is  x  less  than    y  :-  ',x<y) \n",
    "print('Is  x  equal  to    y  :-  ',x==y)\n",
    "print('Is  x  not  equal  to  y  :-  ',x!=y)\n",
    "print('Is  x  greater  than  or  equal  to  y  :-  ',x>=y)\n",
    "print('Is  x  less  than  or  equal  to  y  :-  ',x<=y)"
   ]
  },
  {
   "cell_type": "code",
   "execution_count": null,
   "id": "f01557a6",
   "metadata": {},
   "outputs": [],
   "source": [
    "x<y"
   ]
  },
  {
   "cell_type": "code",
   "execution_count": null,
   "id": "06fb44bc",
   "metadata": {},
   "outputs": [],
   "source": [
    "# Comparison operators on string\n",
    "a = 'Data' \n",
    "b = 'Science' \n",
    "c = 'Dare'\n",
    "d = 'apple'\n",
    "\n",
    "print(a == b) \n",
    "print(c != a) \n",
    "print(a != b)\n",
    "print(a == d)\n",
    "print(a > b) \n",
    "print(c < a) \n",
    "print(a < b)\n",
    "print(a < d)\n",
    "print(a < c)"
   ]
  },
  {
   "cell_type": "code",
   "execution_count": null,
   "id": "a8493635",
   "metadata": {},
   "outputs": [],
   "source": [
    "# function to get the ascii value of any char\n",
    "ord('A')"
   ]
  },
  {
   "cell_type": "markdown",
   "id": "67b7ac81",
   "metadata": {},
   "source": [
    "## Logical Operators"
   ]
  },
  {
   "cell_type": "code",
   "execution_count": null,
   "id": "61901b93",
   "metadata": {},
   "outputs": [],
   "source": [
    "x = True\n",
    "y = False\n",
    "a=0\n",
    "b=6\n",
    "c=6\n",
    "\n",
    "print('Logical  AND  operation  :-  ', a>b  and  c>a)  #  True  if  both  values  are  true\n",
    "print('Logical  OR  operation  :-  ', x  or  y)  #  True  if  either  of  the  values  is  true\n",
    "print('NOT  operation  :-  ', not  y)  #  True  if  operand  is  false (If value is False, not value would be True)"
   ]
  },
  {
   "cell_type": "markdown",
   "id": "33a4db4b",
   "metadata": {},
   "source": [
    "# Input function\n",
    "- Allows to take user input\n",
    "- The input will be taken as string"
   ]
  },
  {
   "cell_type": "code",
   "execution_count": null,
   "id": "097023b4",
   "metadata": {},
   "outputs": [],
   "source": [
    "name = input(\"Enter your name:\")"
   ]
  },
  {
   "cell_type": "code",
   "execution_count": null,
   "id": "af9e9497",
   "metadata": {},
   "outputs": [],
   "source": [
    "name"
   ]
  },
  {
   "cell_type": "code",
   "execution_count": null,
   "id": "2f8c432e",
   "metadata": {},
   "outputs": [],
   "source": [
    "#int()\n",
    "b= int(input('Enter your marks:'))"
   ]
  },
  {
   "cell_type": "code",
   "execution_count": null,
   "id": "50229107",
   "metadata": {},
   "outputs": [],
   "source": [
    "b"
   ]
  },
  {
   "cell_type": "markdown",
   "id": "00fba424",
   "metadata": {},
   "source": [
    "# If  conditional statement"
   ]
  },
  {
   "cell_type": "markdown",
   "id": "7e4d095e",
   "metadata": {},
   "source": [
    "* A Python if statement evaluates whether a condition is equal to true or false. \n",
    "* The statement will execute a block of code if a specified condition is equal to true. Otherwise, the block of code within the if statement is not executed"
   ]
  },
  {
   "cell_type": "code",
   "execution_count": null,
   "id": "2a33e7e0",
   "metadata": {},
   "outputs": [],
   "source": [
    "x=2\n",
    "\n",
    "if x==2:# If condition is true\n",
    "    print('The if condition is true')\n",
    "    \n",
    "print(\"I'm out\")"
   ]
  },
  {
   "cell_type": "code",
   "execution_count": null,
   "id": "893f5fd7",
   "metadata": {},
   "outputs": [],
   "source": [
    "x=5\n",
    "if x==2: # If condition is false\n",
    "    print('The if condition is false')\n",
    "\n",
    "print(\"I'm out\")"
   ]
  },
  {
   "cell_type": "code",
   "execution_count": null,
   "id": "f6be2755",
   "metadata": {},
   "outputs": [],
   "source": [
    "# If else\n",
    "\n",
    "x=5\n",
    "if x==5: # If condition is false\n",
    "    print('The if condition is true')\n",
    "else:\n",
    "    print('Else part is executed')"
   ]
  },
  {
   "cell_type": "code",
   "execution_count": null,
   "id": "63acf878",
   "metadata": {},
   "outputs": [],
   "source": [
    "x=1\n",
    "\n",
    "if x>0:\n",
    "    print('i am in if block')\n",
    "else:\n",
    "    print('i am not')"
   ]
  },
  {
   "cell_type": "code",
   "execution_count": null,
   "id": "2fb0f1f1",
   "metadata": {},
   "outputs": [],
   "source": [
    "if(5<4):\n",
    "    print('5 is big')\n",
    "    print('i am in if block')\n",
    "\n",
    "\n",
    "print('i am out of if block')  "
   ]
  },
  {
   "cell_type": "code",
   "execution_count": null,
   "id": "5f624829",
   "metadata": {},
   "outputs": [],
   "source": [
    "x = 5\n",
    "\n",
    "if x>0:\n",
    "    print(\"X is positive\")\n",
    "    print(\"i am in IF block\")\n",
    "    \n",
    "print(\"i am  out of IF block\")"
   ]
  },
  {
   "cell_type": "code",
   "execution_count": null,
   "id": "b36032f3",
   "metadata": {},
   "outputs": [],
   "source": [
    "# if ... else\n",
    "x = -5\n",
    "\n",
    "if x<0:\n",
    "    print(\"X is positive\")\n",
    "    print(\"i am in IF block\")\n",
    "else:\n",
    "    print(\"X is Negative\")\n",
    "    print('i am in else block')\n",
    "    \n",
    "print(\"i am  out of IF block\")"
   ]
  },
  {
   "cell_type": "code",
   "execution_count": null,
   "id": "6d50e5ef",
   "metadata": {},
   "outputs": [],
   "source": [
    "# elif:\n",
    "    \n",
    "x=5\n",
    "\n",
    "if(x>10):\n",
    "    print('i am in if block')\n",
    "elif(x<6):   # elif will help in checking more than 1 if condition\n",
    "    print('i am in elif block')\n",
    "else:\n",
    "    print('i am in else block')  "
   ]
  },
  {
   "cell_type": "code",
   "execution_count": null,
   "id": "8ef1d76f",
   "metadata": {},
   "outputs": [],
   "source": [
    "# if... elif ... else\n",
    "x = int(input('enter the number'))\n",
    "\n",
    "if x>0:\n",
    "    print(\"X is positive\")\n",
    "elif x<0:\n",
    "    print(\"X is Negative\")\n",
    "    print('i am in elif block')\n",
    "else:\n",
    "    print(\"X is Zero\")\n",
    "    print('i am in else block')\n",
    "\n",
    "print('outside of the loop')  "
   ]
  },
  {
   "cell_type": "code",
   "execution_count": null,
   "id": "ae45a89c",
   "metadata": {},
   "outputs": [],
   "source": [
    "## Nesting\n",
    "x=2\n",
    "if(x<=3):\n",
    "    print('i am in 1st if')\n",
    "    if(x==2):\n",
    "        print('i am in 2nd if')\n",
    "        if(x==4):\n",
    "            print('i am in 3rd if ')"
   ]
  },
  {
   "cell_type": "code",
   "execution_count": null,
   "id": "9d40ede0",
   "metadata": {},
   "outputs": [],
   "source": [
    "i=6\n",
    "if(i==6):\n",
    "    print('first loop')\n",
    "    if(i>=5):\n",
    "        print('second loop')\n",
    "        print('number is in primary range')\n",
    "        if(i<5):\n",
    "            print('mid range')\n",
    "        else:\n",
    "            print('end of the loop')\n",
    "else:\n",
    "    print('number is negative')\n",
    "  \n",
    "print('out of the nested loop')  "
   ]
  },
  {
   "cell_type": "code",
   "execution_count": null,
   "id": "7e5b3ef8",
   "metadata": {},
   "outputs": [],
   "source": [
    "i = 10\n",
    "if (i == 10):\n",
    "    #  First if statement\n",
    "    if (i > 15):\n",
    "        print(\"i is smaller than 15\")\n",
    "    \n",
    "    # Nested - if statement\n",
    "    # Will only be executed if statement above\n",
    "    # it is true\n",
    "    if (i < 12):\n",
    "        print(\"i is smaller than 12 too\")\n",
    "    else:\n",
    "        print(\"i is greater than 15\")"
   ]
  },
  {
   "cell_type": "markdown",
   "id": "fcba5077",
   "metadata": {},
   "source": [
    "# Data Structures of Python\n",
    "\n",
    "Data structures organizes and stores the data in an efficient manner so that they can be modified and accessed easily."
   ]
  },
  {
   "cell_type": "raw",
   "id": "d93398d5",
   "metadata": {},
   "source": [
    "There are 4 major ds in python\n",
    "\n",
    "1)List\n",
    "2)Tuple\n",
    "3)Dictonary\n",
    "4)Sets"
   ]
  },
  {
   "cell_type": "markdown",
   "id": "7538dada",
   "metadata": {},
   "source": [
    "## List"
   ]
  },
  {
   "cell_type": "raw",
   "id": "0a684516",
   "metadata": {},
   "source": [
    "1)\tList is an ordered sequence of items.\n",
    "\n",
    "2)\tWe can have different data types under a list. E.g we can have integer, float and string items in a same list.\n"
   ]
  },
  {
   "cell_type": "code",
   "execution_count": null,
   "id": "1c89ab4e",
   "metadata": {},
   "outputs": [],
   "source": [
    "# List creation\n",
    "l1 = [] # Empty list \n",
    "type(l1)"
   ]
  },
  {
   "cell_type": "code",
   "execution_count": null,
   "id": "2a177adf",
   "metadata": {},
   "outputs": [],
   "source": [
    "# list()"
   ]
  },
  {
   "cell_type": "code",
   "execution_count": null,
   "id": "2f961072",
   "metadata": {},
   "outputs": [],
   "source": [
    "a = list((1,2,3,4)) # List of integer\n",
    "a"
   ]
  },
  {
   "cell_type": "code",
   "execution_count": null,
   "id": "b0e78212",
   "metadata": {},
   "outputs": [],
   "source": [
    "l3= [12.3,34.5,56.23,5.3] \n",
    "l3# List of float"
   ]
  },
  {
   "cell_type": "code",
   "execution_count": null,
   "id": "5f21fb99",
   "metadata": {},
   "outputs": [],
   "source": [
    "l4=['ABC','PQR','RES']  # List of strings\n",
    "l4"
   ]
  },
  {
   "cell_type": "code",
   "execution_count": null,
   "id": "23cdb805",
   "metadata": {},
   "outputs": [],
   "source": [
    "l5=['Data',  25.2 ,[50,  100],[150,  90]] #  Nested  Lists i.e list inside list\n",
    "l5"
   ]
  },
  {
   "cell_type": "code",
   "execution_count": null,
   "id": "7428dc93",
   "metadata": {},
   "outputs": [],
   "source": [
    "l6=[100,  'Data',  17.765, True] #  List  of  mixed  data  types"
   ]
  },
  {
   "cell_type": "code",
   "execution_count": null,
   "id": "984278b2",
   "metadata": {},
   "outputs": [],
   "source": [
    "len(l6) # Number of elements in list"
   ]
  },
  {
   "attachments": {
    "image-2.png": {
     "image/png": "[encoded data removed]"
    }
   },
   "cell_type": "markdown",
   "id": "1b49c927",
   "metadata": {},
   "source": [
    "![image-2.png](attachment:image-2.png)"
   ]
  },
  {
   "cell_type": "markdown",
   "id": "1aa1ca32",
   "metadata": {},
   "source": [
    "## List Indexing and  Slicing"
   ]
  },
  {
   "cell_type": "code",
   "execution_count": null,
   "id": "2b706da5",
   "metadata": {},
   "outputs": [],
   "source": [
    "mylist = ['one' , 'two' , 'three' , 'four' , 'five' , 'six' , 'seven' , 'eight']"
   ]
  },
  {
   "cell_type": "code",
   "execution_count": null,
   "id": "921e642f",
   "metadata": {},
   "outputs": [],
   "source": [
    "mylist[2]"
   ]
  },
  {
   "cell_type": "code",
   "execution_count": null,
   "id": "ba371077",
   "metadata": {},
   "outputs": [],
   "source": [
    "mylist[-1]"
   ]
  },
  {
   "cell_type": "code",
   "execution_count": null,
   "id": "2ee42b77",
   "metadata": {},
   "outputs": [],
   "source": [
    "mylist[0:3]  #  Return  all  items  from  0th  to  3rd  index  location  excluding  the  item at upper limit"
   ]
  },
  {
   "cell_type": "markdown",
   "id": "b46cc26d",
   "metadata": {},
   "source": [
    "## Add , Remove & Change Items"
   ]
  },
  {
   "cell_type": "code",
   "execution_count": null,
   "id": "e9e92b78",
   "metadata": {},
   "outputs": [],
   "source": [
    "mylist"
   ]
  },
  {
   "cell_type": "code",
   "execution_count": null,
   "id": "12234e89",
   "metadata": {},
   "outputs": [],
   "source": [
    "mylist.append('nine')  #  Add  an  item  to  the  end  of  the  list\n",
    "mylist"
   ]
  },
  {
   "cell_type": "code",
   "execution_count": null,
   "id": "365cec19",
   "metadata": {},
   "outputs": [],
   "source": [
    "mylist.insert(3,'ten')  #  Add  item  at  index  location  3\n",
    "mylist"
   ]
  },
  {
   "cell_type": "code",
   "execution_count": null,
   "id": "bbd921b2",
   "metadata": {},
   "outputs": [],
   "source": [
    "mylist.extend([1,2,3])  # Add multiple elements at a time at end of list\n",
    "print(mylist)"
   ]
  },
  {
   "cell_type": "code",
   "execution_count": null,
   "id": "3fc24493",
   "metadata": {},
   "outputs": [],
   "source": [
    "mylist.pop()  # Remove last  element from list"
   ]
  },
  {
   "cell_type": "code",
   "execution_count": null,
   "id": "98b1bf46",
   "metadata": {},
   "outputs": [],
   "source": [
    "mylist.pop(8) #  Remove  item  at  index  location  8\n",
    "mylist"
   ]
  },
  {
   "cell_type": "code",
   "execution_count": null,
   "id": "ad56e87a",
   "metadata": {},
   "outputs": [],
   "source": [
    "mylist.remove(2)  #  Remove  item  \"ONE\" (value)\n",
    "#mylist"
   ]
  },
  {
   "cell_type": "code",
   "execution_count": null,
   "id": "86e4f350",
   "metadata": {},
   "outputs": [],
   "source": [
    "mylist.remove('one')"
   ]
  },
  {
   "cell_type": "code",
   "execution_count": null,
   "id": "93f2c7ee",
   "metadata": {},
   "outputs": [],
   "source": [
    "mylist"
   ]
  },
  {
   "cell_type": "code",
   "execution_count": null,
   "id": "a2667e93",
   "metadata": {},
   "outputs": [],
   "source": [
    "del  mylist[7]  #  Remove  item  at  index  location  7\n",
    "mylist"
   ]
  },
  {
   "cell_type": "code",
   "execution_count": null,
   "id": "25b7dd47",
   "metadata": {},
   "outputs": [],
   "source": [
    "mylist.clear()# Empty List / Delete all items in the list\n",
    "mylist"
   ]
  },
  {
   "cell_type": "code",
   "execution_count": null,
   "id": "93ff6c9a",
   "metadata": {},
   "outputs": [],
   "source": [
    "del mylist # Delete entire list"
   ]
  },
  {
   "cell_type": "code",
   "execution_count": null,
   "id": "3d1572d1",
   "metadata": {},
   "outputs": [],
   "source": [
    "mylist"
   ]
  },
  {
   "cell_type": "markdown",
   "id": "46aa6701",
   "metadata": {},
   "source": [
    "## Join Lists"
   ]
  },
  {
   "cell_type": "code",
   "execution_count": null,
   "id": "76b7b145",
   "metadata": {},
   "outputs": [],
   "source": [
    "list1 = ['one', 'two', 'three', 'four']\n",
    "list2 = ['five', 'six', 'seven', 'eight']\n"
   ]
  },
  {
   "cell_type": "code",
   "execution_count": null,
   "id": "d7b97342",
   "metadata": {},
   "outputs": [],
   "source": [
    "list3 = list1 + list2 # Join two lists by '+' operator\n",
    "list3"
   ]
  },
  {
   "cell_type": "code",
   "execution_count": null,
   "id": "88b00f56",
   "metadata": {},
   "outputs": [],
   "source": [
    "list1.extend(list2) #Append list2 with list1\n",
    "list1"
   ]
  },
  {
   "cell_type": "code",
   "execution_count": null,
   "id": "d42e764c",
   "metadata": {},
   "outputs": [],
   "source": [
    "list4 = ['one', 'two', 'three', 'four']\n",
    "list1.extend(list4)\n",
    "print(list1)"
   ]
  },
  {
   "cell_type": "markdown",
   "id": "60e46d90",
   "metadata": {},
   "source": [
    "## List Membership"
   ]
  },
  {
   "cell_type": "code",
   "execution_count": null,
   "id": "84a00792",
   "metadata": {},
   "outputs": [],
   "source": [
    "print(list1)"
   ]
  },
  {
   "cell_type": "code",
   "execution_count": null,
   "id": "ae71db76",
   "metadata": {},
   "outputs": [],
   "source": [
    "'one' in list1 # Check if 'one' exist in the list"
   ]
  },
  {
   "cell_type": "code",
   "execution_count": null,
   "id": "86b994ae",
   "metadata": {},
   "outputs": [],
   "source": [
    "1 in list1 # Check if 'ten' exist in the list"
   ]
  },
  {
   "cell_type": "code",
   "execution_count": null,
   "id": "71937c7d",
   "metadata": {},
   "outputs": [],
   "source": [
    "if 'three' in list1: # Check if 'three' exist in the list\n",
    "    print('Three is present in the list')\n",
    "else:\n",
    "    print('Three is not present in the list')\n"
   ]
  },
  {
   "cell_type": "markdown",
   "id": "57d40be1",
   "metadata": {},
   "source": [
    "## Reverse & Sort List"
   ]
  },
  {
   "cell_type": "code",
   "execution_count": null,
   "id": "eb867dec",
   "metadata": {},
   "outputs": [],
   "source": [
    "print(list1)"
   ]
  },
  {
   "cell_type": "code",
   "execution_count": null,
   "id": "4d00081f",
   "metadata": {},
   "outputs": [],
   "source": [
    "list1.reverse() # Reverse the list\n",
    "print(list1)"
   ]
  },
  {
   "cell_type": "code",
   "execution_count": null,
   "id": "d7d46941",
   "metadata": {},
   "outputs": [],
   "source": [
    "print(list1[::-1] ) #  Reverse  the  list"
   ]
  },
  {
   "cell_type": "code",
   "execution_count": null,
   "id": "6c36ebe8",
   "metadata": {},
   "outputs": [],
   "source": [
    "print(list1)"
   ]
  },
  {
   "cell_type": "code",
   "execution_count": null,
   "id": "11283ce8",
   "metadata": {},
   "outputs": [],
   "source": [
    "mylist3  =  [9,5,2,99,12,88,34]\n",
    "mylist3.sort() # Sort list in ascending order\n",
    "mylist3"
   ]
  },
  {
   "cell_type": "code",
   "execution_count": null,
   "id": "675135ba",
   "metadata": {},
   "outputs": [],
   "source": [
    "mylist3  =  [9,5,2,99,12,88,34]\n",
    "mylist3.sort(reverse=True)  #  Sort  list  in  descending  order\n",
    "mylist3"
   ]
  },
  {
   "cell_type": "markdown",
   "id": "93722144",
   "metadata": {},
   "source": [
    "## All / Any\n",
    "\n",
    "\n",
    "\n"
   ]
  },
  {
   "cell_type": "raw",
   "id": "a4f5e776",
   "metadata": {},
   "source": [
    "The all() method returns:\n",
    "\n",
    "True - If all elements in a list are true\n",
    "False - If any element in a list is false\n",
    "\n",
    "The any() function returns True if any element in the list is True. \n",
    "If not, any() returns False."
   ]
  },
  {
   "cell_type": "code",
   "execution_count": null,
   "id": "a8410967",
   "metadata": {},
   "outputs": [],
   "source": [
    "L1  =  [1, 2, 3, 4, 5]"
   ]
  },
  {
   "cell_type": "code",
   "execution_count": null,
   "id": "90b5d4e5",
   "metadata": {},
   "outputs": [],
   "source": [
    "all(L1) # Will Return false as one value is false (Value 0)"
   ]
  },
  {
   "cell_type": "code",
   "execution_count": null,
   "id": "481ab806",
   "metadata": {},
   "outputs": [],
   "source": [
    "any(L1)# Will Return True as we have items in the list with \n",
    "#True value"
   ]
  },
  {
   "cell_type": "code",
   "execution_count": null,
   "id": "3096aad9",
   "metadata": {},
   "outputs": [],
   "source": [
    "L2  =  [1,2,3,4,True,\" \", False]"
   ]
  },
  {
   "cell_type": "code",
   "execution_count": null,
   "id": "b87169d4",
   "metadata": {},
   "outputs": [],
   "source": [
    "all(L2) # Returns false as one value is false"
   ]
  },
  {
   "cell_type": "code",
   "execution_count": null,
   "id": "973c0c73",
   "metadata": {},
   "outputs": [],
   "source": [
    "any(L2)\t# Will Return True as we have items in the list with True value"
   ]
  },
  {
   "cell_type": "markdown",
   "id": "486a59cb",
   "metadata": {},
   "source": [
    "# Tuples"
   ]
  },
  {
   "cell_type": "raw",
   "id": "7d567fad",
   "metadata": {},
   "source": [
    "1.\tTuple is similar to List except that the objects in tuple are immutable which means we cannot change the elements of a tuple once assigned.\n",
    "2.\tWhen we do not want to change the data over time, tuple is a preferred data type.\n",
    "3.\tIterating over the elements of a tuple is faster compared to iterating over a list.\n"
   ]
  },
  {
   "cell_type": "markdown",
   "id": "87a90b6f",
   "metadata": {},
   "source": [
    "# Tuple Creation"
   ]
  },
  {
   "cell_type": "code",
   "execution_count": null,
   "id": "9b4a8d28",
   "metadata": {},
   "outputs": [],
   "source": [
    "tup1 = () # Empty tuple\n",
    "tup = tuple()\n",
    "tup"
   ]
  },
  {
   "cell_type": "code",
   "execution_count": null,
   "id": "09680490",
   "metadata": {},
   "outputs": [],
   "source": [
    "anil = tuple(['hi', 'hello'])\n",
    "anil"
   ]
  },
  {
   "cell_type": "code",
   "execution_count": null,
   "id": "b956fc64",
   "metadata": {},
   "outputs": [],
   "source": [
    "h = tuple((2, 3, 4))\n",
    "h"
   ]
  },
  {
   "cell_type": "code",
   "execution_count": null,
   "id": "b54396d4",
   "metadata": {},
   "outputs": [],
   "source": [
    "tup2  =  (10,30,60) #  tuple  of  integers  numbers\n",
    "tup2"
   ]
  },
  {
   "cell_type": "code",
   "execution_count": null,
   "id": "d2dab20a",
   "metadata": {},
   "outputs": [],
   "source": [
    "tup3 = (10.77,30.66,60.89) # tuple of float numbers"
   ]
  },
  {
   "cell_type": "code",
   "execution_count": null,
   "id": "4783658d",
   "metadata": {},
   "outputs": [],
   "source": [
    "tup4 =  ('one','two' , \"three\") # tuple of strings"
   ]
  },
  {
   "cell_type": "code",
   "execution_count": null,
   "id": "1d826f25",
   "metadata": {},
   "outputs": [],
   "source": [
    "tup5  =  ('Data',  25  ,(50,  100),(150,  90)) #  Nested  tuples"
   ]
  },
  {
   "cell_type": "code",
   "execution_count": null,
   "id": "7330bc0d",
   "metadata": {},
   "outputs": [],
   "source": [
    "tup6  =  (100,  'Data',  17.765) #  Tuple  of  mixed  data  types"
   ]
  },
  {
   "cell_type": "code",
   "execution_count": null,
   "id": "19200835",
   "metadata": {},
   "outputs": [],
   "source": [
    "tup7  =  ('Data',  25  ,[50,  100],[150,  90] ,  ['John','David'] , \n",
    "          (99,22,33))"
   ]
  },
  {
   "cell_type": "code",
   "execution_count": null,
   "id": "7b622f86",
   "metadata": {},
   "outputs": [],
   "source": [
    "len(tup7) #Length of tuple"
   ]
  },
  {
   "cell_type": "markdown",
   "id": "4da5ffe5",
   "metadata": {},
   "source": [
    "## Tuple Indexing"
   ]
  },
  {
   "cell_type": "code",
   "execution_count": null,
   "id": "80ae1bf3",
   "metadata": {},
   "outputs": [],
   "source": [
    "tup2"
   ]
  },
  {
   "cell_type": "code",
   "execution_count": null,
   "id": "9a4c2b36",
   "metadata": {},
   "outputs": [],
   "source": [
    "tup2[0]  #  Retreive  first  element  of  the  tuple"
   ]
  },
  {
   "cell_type": "code",
   "execution_count": null,
   "id": "65ea6bb8",
   "metadata": {},
   "outputs": [],
   "source": [
    "tup8=('Data', 25, [50, 100], [150, 90], ['David', 'John'], (99, 22, 33)) "
   ]
  },
  {
   "cell_type": "code",
   "execution_count": null,
   "id": "f798de0a",
   "metadata": {},
   "outputs": [],
   "source": [
    "tup8[2][1]     #  Nested  indexing  -  Access  the  first  character  of  the  first  tuple  element"
   ]
  },
  {
   "cell_type": "markdown",
   "id": "eb883e32",
   "metadata": {},
   "source": [
    "## Tuple Slicing"
   ]
  },
  {
   "cell_type": "code",
   "execution_count": null,
   "id": "91efac69",
   "metadata": {},
   "outputs": [],
   "source": [
    "mytuple = ('one' , 'two' , 'three' , 'four' , 'five' , 'six' , 'seven' , 'eight')"
   ]
  },
  {
   "cell_type": "code",
   "execution_count": null,
   "id": "c93c1ff3",
   "metadata": {},
   "outputs": [],
   "source": [
    "mytuple[2:5]  #  Return  all  items  from  0th  to \n",
    "#3rd  index  location  excluding  the  upper limit"
   ]
  },
  {
   "cell_type": "code",
   "execution_count": null,
   "id": "7f4dcc64",
   "metadata": {},
   "outputs": [],
   "source": [
    "mytuple[5:3:-1]"
   ]
  },
  {
   "cell_type": "code",
   "execution_count": null,
   "id": "162eab30",
   "metadata": {},
   "outputs": [],
   "source": [
    "mytuple1=mytuple[0:3]\n",
    "mytuple1"
   ]
  },
  {
   "cell_type": "code",
   "execution_count": null,
   "id": "97a870c3",
   "metadata": {},
   "outputs": [],
   "source": [
    "mytuple1[::-1]"
   ]
  },
  {
   "cell_type": "markdown",
   "id": "d15ede0c",
   "metadata": {},
   "source": [
    "## Remove & Change Items"
   ]
  },
  {
   "cell_type": "code",
   "execution_count": null,
   "id": "03bc3836",
   "metadata": {},
   "outputs": [],
   "source": [
    "mytuple"
   ]
  },
  {
   "cell_type": "code",
   "execution_count": null,
   "id": "e620b090",
   "metadata": {},
   "outputs": [],
   "source": [
    "del  mytuple[0]  #  Tuples  are  immutable  which  means  we  can't  DELETE  tuple  items"
   ]
  },
  {
   "cell_type": "code",
   "execution_count": null,
   "id": "607feb1b",
   "metadata": {},
   "outputs": [],
   "source": [
    "li = [6,7,8]\n",
    "li[0] = 5\n",
    "li"
   ]
  },
  {
   "cell_type": "code",
   "execution_count": null,
   "id": "d04193ac",
   "metadata": {},
   "outputs": [],
   "source": [
    "mytuple[0]  =  1  #  Tuples  are  immutable  which  means  we  can't  CHANGE  tuple  items"
   ]
  },
  {
   "cell_type": "code",
   "execution_count": null,
   "id": "8f68e70c",
   "metadata": {},
   "outputs": [],
   "source": [
    "del mytuple # Deleting entire tuple object is possible"
   ]
  },
  {
   "cell_type": "code",
   "execution_count": null,
   "id": "b0510f9a",
   "metadata": {},
   "outputs": [],
   "source": [
    "mytuple"
   ]
  },
  {
   "cell_type": "markdown",
   "id": "3cfc3337",
   "metadata": {},
   "source": [
    "## Count"
   ]
  },
  {
   "cell_type": "code",
   "execution_count": null,
   "id": "493a5cd5",
   "metadata": {},
   "outputs": [],
   "source": [
    "mytuple1  =('one', 'two', 'three', 'four', 'one', 'one', 'two', 'three')"
   ]
  },
  {
   "cell_type": "code",
   "execution_count": null,
   "id": "f23935d6",
   "metadata": {},
   "outputs": [],
   "source": [
    "mytuple1.count('one') # Number of times item \"one\" \n",
    "# occurred in the tuple."
   ]
  },
  {
   "cell_type": "markdown",
   "id": "561ee223",
   "metadata": {},
   "source": [
    "## Tuple Membership"
   ]
  },
  {
   "cell_type": "code",
   "execution_count": null,
   "id": "c598e898",
   "metadata": {},
   "outputs": [],
   "source": [
    "'one' in mytuple1 # Check if 'one' exist in the tuple"
   ]
  },
  {
   "cell_type": "code",
   "execution_count": null,
   "id": "143d5338",
   "metadata": {},
   "outputs": [],
   "source": [
    "3 in mytuple1"
   ]
  },
  {
   "cell_type": "code",
   "execution_count": null,
   "id": "ef6f87ea",
   "metadata": {},
   "outputs": [],
   "source": [
    "if 'Three' in mytuple1: # Check if 'three' exist in the tuple\n",
    "    print('Three is present in the tuple')\n",
    "else:\n",
    "    print('Three is not present in the tuple')\n"
   ]
  },
  {
   "cell_type": "markdown",
   "id": "1d24390f",
   "metadata": {},
   "source": [
    "## Index Position"
   ]
  },
  {
   "cell_type": "code",
   "execution_count": null,
   "id": "76dff63c",
   "metadata": {},
   "outputs": [],
   "source": [
    "mytuple1"
   ]
  },
  {
   "cell_type": "code",
   "execution_count": null,
   "id": "c974357d",
   "metadata": {
    "scrolled": true
   },
   "outputs": [],
   "source": [
    "mytuple1.index('two') # Index of first element equal to 'one'"
   ]
  },
  {
   "cell_type": "markdown",
   "id": "07f9da09",
   "metadata": {},
   "source": [
    "## Sorting"
   ]
  },
  {
   "cell_type": "code",
   "execution_count": null,
   "id": "5afd12a0",
   "metadata": {},
   "outputs": [],
   "source": [
    "mytuple2  =  (43,67,99,12,6,90,67)"
   ]
  },
  {
   "cell_type": "code",
   "execution_count": null,
   "id": "9390d830",
   "metadata": {},
   "outputs": [],
   "source": [
    "sorted(mytuple2) # Returns a new sorted list and doesn't change original tuple"
   ]
  },
  {
   "cell_type": "code",
   "execution_count": null,
   "id": "cbe70710",
   "metadata": {},
   "outputs": [],
   "source": [
    "mytuple2"
   ]
  },
  {
   "cell_type": "code",
   "execution_count": null,
   "id": "e79cb32a",
   "metadata": {
    "scrolled": true
   },
   "outputs": [],
   "source": [
    "tup = sorted(mytuple2, reverse=True) # Sort in descending order"
   ]
  },
  {
   "cell_type": "code",
   "execution_count": null,
   "id": "2d0e6599",
   "metadata": {},
   "outputs": [],
   "source": [
    "tup"
   ]
  },
  {
   "cell_type": "markdown",
   "id": "9f93e937",
   "metadata": {},
   "source": [
    "# Sets\n"
   ]
  },
  {
   "cell_type": "raw",
   "id": "d70a4804",
   "metadata": {},
   "source": [
    "1)\tSet is an unordered and unindexed collection of items in Python. Unordered means when we display the elements of a set, it will come out in a random order. Unindexed means, we cannot access the elements of a set using the indexes like we can do in list and tuples.\n",
    "\n",
    "The elements of a set are defined inside curly brackets and are separated by commas.\n",
    "\n",
    "2)\tSet elements are unique. Duplicate elements are not allowed.\n",
    "\n",
    "3)\tSet elements are immutable (cannot be changed).\n",
    "\n",
    "4)\tSet itself is mutable. We can add or remove items from it.\n",
    "\n"
   ]
  },
  {
   "cell_type": "markdown",
   "id": "596a1f30",
   "metadata": {},
   "source": [
    "## Set Creation"
   ]
  },
  {
   "cell_type": "code",
   "execution_count": null,
   "id": "09e8e959",
   "metadata": {},
   "outputs": [],
   "source": [
    "myset1={} # Empty set CANNOT be created by curly braces"
   ]
  },
  {
   "cell_type": "code",
   "execution_count": null,
   "id": "05fa1815",
   "metadata": {},
   "outputs": [],
   "source": [
    "type(myset1)"
   ]
  },
  {
   "cell_type": "code",
   "execution_count": null,
   "id": "e8d81450",
   "metadata": {},
   "outputs": [],
   "source": [
    "myset = set() # Create an empty set\n",
    "print(type(myset))"
   ]
  },
  {
   "cell_type": "code",
   "execution_count": null,
   "id": "32d43fc8",
   "metadata": {},
   "outputs": [],
   "source": [
    "myset  =  {1,2,3,6,5}  #  Set  of  numbers\n",
    "myset"
   ]
  },
  {
   "cell_type": "code",
   "execution_count": null,
   "id": "27c5b1b3",
   "metadata": {},
   "outputs": [],
   "source": [
    "type(myset)"
   ]
  },
  {
   "cell_type": "code",
   "execution_count": null,
   "id": "49da6e3d",
   "metadata": {},
   "outputs": [],
   "source": [
    "len(myset) #Length or number of elements of the set"
   ]
  },
  {
   "cell_type": "code",
   "execution_count": null,
   "id": "3b6b7916",
   "metadata": {},
   "outputs": [],
   "source": [
    "# Duplicate elements are not allowed.\n",
    "my_set  =  {1,1,2,2,3,4,5,5}\n",
    "my_set  "
   ]
  },
  {
   "cell_type": "code",
   "execution_count": null,
   "id": "36fa0643",
   "metadata": {},
   "outputs": [],
   "source": [
    "myset1 = {1.79,2.08,3.99,4.56,5.45} # Set of float numbers\n",
    "myset1"
   ]
  },
  {
   "cell_type": "code",
   "execution_count": null,
   "id": "69b7216d",
   "metadata": {},
   "outputs": [],
   "source": [
    "myset2 = {'Data' , 'John' , 'Tyrion'} # Set of Strings\n",
    "myset2"
   ]
  },
  {
   "cell_type": "code",
   "execution_count": null,
   "id": "6ede22d7",
   "metadata": {},
   "outputs": [],
   "source": [
    "se = {1, 3, 4.5, 'hi', (5, 6), 'hey', 9, True, False, 0} # Ignores True by considering it as 1 (duplicate). Returns only 1\n",
    "se"
   ]
  },
  {
   "cell_type": "code",
   "execution_count": null,
   "id": "2f585bd9",
   "metadata": {},
   "outputs": [],
   "source": [
    "se = {1, 3, True, 0, False} # Ignores True (duplicate) by considering it as 1. Returns only 1\n",
    "se"
   ]
  },
  {
   "cell_type": "code",
   "execution_count": null,
   "id": "f5752e3a",
   "metadata": {},
   "outputs": [],
   "source": [
    "se = {3, True, 1, False, 0} # Ignores 1 (duplicate) by considering True as 1. Returns only True\n",
    "se"
   ]
  },
  {
   "cell_type": "code",
   "execution_count": null,
   "id": "582a7efd",
   "metadata": {},
   "outputs": [],
   "source": [
    "se = {\"two\", True, 1, 0, False}\n",
    "se"
   ]
  },
  {
   "cell_type": "code",
   "execution_count": null,
   "id": "a875fc83",
   "metadata": {},
   "outputs": [],
   "source": [
    "myset3  =  {10, 20,  \"Hola\",  (11,  22,  32)}  # Mixed  datatypes (only immutable datatype)\n",
    "myset3"
   ]
  },
  {
   "cell_type": "code",
   "execution_count": null,
   "id": "9e0bb6e1",
   "metadata": {},
   "outputs": [],
   "source": [
    "# In Python, any immutable object (such as an integer, boolean, string, tuple) is hashable, \n",
    "# meaning its value does not change during its lifetime."
   ]
  },
  {
   "cell_type": "markdown",
   "id": "9d8df5f3",
   "metadata": {},
   "source": [
    "## Set Membership"
   ]
  },
  {
   "cell_type": "code",
   "execution_count": null,
   "id": "c0166c9b",
   "metadata": {},
   "outputs": [],
   "source": [
    "myset = {'one', 'two', 'three', 'four', 'five', 'six', 'seven', 'eight'}"
   ]
  },
  {
   "cell_type": "code",
   "execution_count": null,
   "id": "a7b305fe",
   "metadata": {},
   "outputs": [],
   "source": [
    "myset # elements in alphabet order"
   ]
  },
  {
   "cell_type": "code",
   "execution_count": null,
   "id": "70cf4fb0",
   "metadata": {},
   "outputs": [],
   "source": [
    "'one' in myset # Check if 'one' exist in the set"
   ]
  },
  {
   "cell_type": "code",
   "execution_count": null,
   "id": "ec692bd1",
   "metadata": {},
   "outputs": [],
   "source": [
    "if 'three' in myset: # Check if 'three' exist in the set\n",
    "    print('Three is present in the set')\n",
    "else:\n",
    "    print('Three is not present in the set')"
   ]
  },
  {
   "cell_type": "markdown",
   "id": "ad563622",
   "metadata": {},
   "source": [
    "## Add & Remove Items"
   ]
  },
  {
   "cell_type": "code",
   "execution_count": null,
   "id": "f1bc84c8",
   "metadata": {},
   "outputs": [],
   "source": [
    "myset"
   ]
  },
  {
   "cell_type": "code",
   "execution_count": null,
   "id": "c6a5dd03",
   "metadata": {},
   "outputs": [],
   "source": [
    "myset.add(True)  #  Add  item  to  a  set  using  add()  method\n",
    "myset\n",
    "# check with bool and float"
   ]
  },
  {
   "cell_type": "code",
   "execution_count": null,
   "id": "dbb02149",
   "metadata": {},
   "outputs": [],
   "source": [
    "myset.add(5.6)"
   ]
  },
  {
   "cell_type": "code",
   "execution_count": null,
   "id": "bc1fef29",
   "metadata": {},
   "outputs": [],
   "source": [
    "myset"
   ]
  },
  {
   "cell_type": "code",
   "execution_count": null,
   "id": "eee17b8f",
   "metadata": {},
   "outputs": [],
   "source": [
    "myset.add(\"hi\")\n",
    "print(myset)"
   ]
  },
  {
   "cell_type": "code",
   "execution_count": null,
   "id": "9b7445df",
   "metadata": {},
   "outputs": [],
   "source": [
    "# Add multiple item to a set using\n",
    "myset.update(['TEN' , 'ELEVEN' , 'TWELVE'])\n",
    "print(myset)"
   ]
  },
  {
   "cell_type": "code",
   "execution_count": null,
   "id": "98f79d93",
   "metadata": {},
   "outputs": [],
   "source": [
    "print(myset)"
   ]
  },
  {
   "cell_type": "code",
   "execution_count": null,
   "id": "58507899",
   "metadata": {},
   "outputs": [],
   "source": [
    "#  remove  item  in  a  set  using  remove()  method\n",
    "#myset.remove('two') \n",
    "myset.remove('hey')  \n",
    "#print(myset)"
   ]
  },
  {
   "cell_type": "code",
   "execution_count": null,
   "id": "d629656a",
   "metadata": {},
   "outputs": [],
   "source": [
    "# remove item from a set using discard() method\n",
    "myset.discard('hello') \n",
    "print(myset)"
   ]
  },
  {
   "cell_type": "code",
   "execution_count": null,
   "id": "416ddde3",
   "metadata": {},
   "outputs": [],
   "source": [
    "myset.clear() # Delete all items in a set\n",
    "myset"
   ]
  },
  {
   "cell_type": "code",
   "execution_count": null,
   "id": "24506165",
   "metadata": {},
   "outputs": [],
   "source": [
    "del myset # Delete the set object"
   ]
  },
  {
   "cell_type": "code",
   "execution_count": null,
   "id": "1d1aa633",
   "metadata": {},
   "outputs": [],
   "source": [
    "myset"
   ]
  },
  {
   "cell_type": "markdown",
   "id": "a46a7b1e",
   "metadata": {},
   "source": [
    "## Set Operation"
   ]
  },
  {
   "cell_type": "code",
   "execution_count": null,
   "id": "986a8ead",
   "metadata": {},
   "outputs": [],
   "source": [
    "A  =  {1,2,3,4,5}\n",
    "B  =  {4,5,6,7,8}\n",
    "C  =  {4, 8,9,10}\n"
   ]
  },
  {
   "cell_type": "code",
   "execution_count": null,
   "id": "7d094ecf",
   "metadata": {},
   "outputs": [],
   "source": [
    "A | B # Union of A and B (All elements from both sets.\n",
    "#NO DUPLICATES)"
   ]
  },
  {
   "cell_type": "code",
   "execution_count": null,
   "id": "a991056f",
   "metadata": {},
   "outputs": [],
   "source": [
    "A.union(B)  #  Union  of  A  and  B"
   ]
  },
  {
   "cell_type": "code",
   "execution_count": null,
   "id": "646b5111",
   "metadata": {},
   "outputs": [],
   "source": [
    "D = B.union(A)\n",
    "D"
   ]
  },
  {
   "cell_type": "code",
   "execution_count": null,
   "id": "6718de09",
   "metadata": {},
   "outputs": [],
   "source": [
    "A.union(B, C) #  Union  of  A,  B  and  C.    # A|B|C"
   ]
  },
  {
   "cell_type": "code",
   "execution_count": null,
   "id": "56439fe0",
   "metadata": {},
   "outputs": [],
   "source": [
    "A  =  {1,2,3,4,5}\n",
    "B  =  {4,5,6,7,8}"
   ]
  },
  {
   "cell_type": "code",
   "execution_count": null,
   "id": "4df2c730",
   "metadata": {},
   "outputs": [],
   "source": [
    "A  =  {1.2,2.4,3.4,4.2,5.4}\n",
    "B  =  {4.2,5.4,6.8,7.1,8.2}"
   ]
  },
  {
   "cell_type": "code",
   "execution_count": null,
   "id": "68430cfd",
   "metadata": {},
   "outputs": [],
   "source": [
    "A.intersection(B) # A&B"
   ]
  },
  {
   "cell_type": "code",
   "execution_count": null,
   "id": "5dafdf1a",
   "metadata": {},
   "outputs": [],
   "source": [
    "A.intersection(B, C)  # A & B & C"
   ]
  },
  {
   "cell_type": "code",
   "execution_count": null,
   "id": "feb44c41",
   "metadata": {},
   "outputs": [],
   "source": [
    "A.difference(B)  #  Difference  of set. set of elements that are only in A but not in B"
   ]
  },
  {
   "cell_type": "code",
   "execution_count": null,
   "id": "0aa61b9d",
   "metadata": {},
   "outputs": [],
   "source": [
    "B.difference(A) #  set  of  elements  that  are  only  in  B  but  not  in  A"
   ]
  },
  {
   "cell_type": "markdown",
   "id": "abf69658",
   "metadata": {},
   "source": [
    "# Dictionary"
   ]
  },
  {
   "cell_type": "markdown",
   "id": "05b3ae17",
   "metadata": {},
   "source": [
    "Dictionary is a mutable data type in Python.\n",
    "A python dictionary is a collection of key and value pairs separated by a colon (:) & enclosed in curly braces {}.\n",
    "Keys must be unique in a dictionary, duplicate values are allowed\n"
   ]
  },
  {
   "attachments": {
    "image.png": {
     "image/png": "[encoded data removed]"
    }
   },
   "cell_type": "markdown",
   "id": "ae73a30a",
   "metadata": {},
   "source": [
    "![image.png](attachment:image.png)"
   ]
  },
  {
   "cell_type": "markdown",
   "id": "dde5b0c8",
   "metadata": {},
   "source": [
    "## Create Dictionary"
   ]
  },
  {
   "cell_type": "code",
   "execution_count": null,
   "id": "872084fe",
   "metadata": {},
   "outputs": [],
   "source": [
    "mydict = dict() # empty dictionary\n",
    "mydict"
   ]
  },
  {
   "cell_type": "code",
   "execution_count": null,
   "id": "8d11a2cd",
   "metadata": {},
   "outputs": [],
   "source": [
    "type(mydict)"
   ]
  },
  {
   "cell_type": "code",
   "execution_count": null,
   "id": "2e3cbd3c",
   "metadata": {},
   "outputs": [],
   "source": [
    "mydict  =  {1:'one'  ,  2:'two'  ,  3:'three'}  #  \n",
    "#dictionary  with  integer  keys\n",
    "mydict"
   ]
  },
  {
   "cell_type": "code",
   "execution_count": null,
   "id": "872a2b73",
   "metadata": {},
   "outputs": [],
   "source": [
    "mydict  =  dict({2:'one',  True:'two',  3.1:'three'})  #  Create  dictionary  using  dict()\n",
    "mydict"
   ]
  },
  {
   "cell_type": "code",
   "execution_count": null,
   "id": "b138d9f6",
   "metadata": {},
   "outputs": [],
   "source": [
    "mydict = {'A':'one' , 'B':'two' , 'C':'three'} \n",
    "# dictionary with character keys\n",
    "mydict"
   ]
  },
  {
   "cell_type": "code",
   "execution_count": null,
   "id": "748c57e3",
   "metadata": {},
   "outputs": [],
   "source": [
    "mydict  =  {1:'one'  ,  'A':'two'  ,  3:'three'}  \n",
    "#  dictionary  with  mixed  keys\n",
    "mydict"
   ]
  },
  {
   "cell_type": "code",
   "execution_count": null,
   "id": "4fe95bcf",
   "metadata": {},
   "outputs": [],
   "source": [
    "mydict.keys() # Return Dictionary Keys using\n",
    "# keys() method"
   ]
  },
  {
   "cell_type": "code",
   "execution_count": null,
   "id": "772c3238",
   "metadata": {},
   "outputs": [],
   "source": [
    "mydict.values() # Return Dictionary Values using \n",
    "#values() method"
   ]
  },
  {
   "cell_type": "code",
   "execution_count": null,
   "id": "bf5a01c4",
   "metadata": {},
   "outputs": [],
   "source": [
    "mydict.items() # Access each key-value pair within a dictionary"
   ]
  },
  {
   "cell_type": "code",
   "execution_count": null,
   "id": "783810c8",
   "metadata": {},
   "outputs": [],
   "source": [
    "mydict  =  {1:'one',  2:'two', 'A':['Data'  ,  'john'  ,  'Maria']} \n",
    "#  dictionary  with one value as list\n",
    "mydict"
   ]
  },
  {
   "cell_type": "code",
   "execution_count": null,
   "id": "d2e48c6f",
   "metadata": {},
   "outputs": [],
   "source": [
    "mydict['A']"
   ]
  },
  {
   "cell_type": "code",
   "execution_count": null,
   "id": "1357a433",
   "metadata": {},
   "outputs": [],
   "source": [
    "mydict['A'][1]"
   ]
  },
  {
   "cell_type": "code",
   "execution_count": null,
   "id": "a04b476c",
   "metadata": {},
   "outputs": [],
   "source": [
    "d={0:{'one':1,'two':2,'three':3,'four':4},\n",
    "   1:{'city':'bangalore','area':'kudlu'},\n",
    "   'three':{'city':'mumbai','area':'Dharavi'}} # nested dictonary"
   ]
  },
  {
   "cell_type": "code",
   "execution_count": null,
   "id": "84764b70",
   "metadata": {},
   "outputs": [],
   "source": [
    "d[1]['city']"
   ]
  },
  {
   "cell_type": "code",
   "execution_count": null,
   "id": "04c82a04",
   "metadata": {},
   "outputs": [],
   "source": [
    "## Access the value kudlu\n",
    "d[1]['area']"
   ]
  },
  {
   "cell_type": "code",
   "execution_count": null,
   "id": "35fdd65d",
   "metadata": {},
   "outputs": [],
   "source": [
    "v=[0,1,2,3,[8,{5:[67,89,90,{'area':'kudlu','city':'bangalore'}]}]]  "
   ]
  },
  {
   "cell_type": "code",
   "execution_count": null,
   "id": "ed4c097e",
   "metadata": {},
   "outputs": [],
   "source": [
    "\n",
    "v[4][1][5]"
   ]
  },
  {
   "cell_type": "code",
   "execution_count": null,
   "id": "e60e0359",
   "metadata": {},
   "outputs": [],
   "source": [
    "#Kudlu\n",
    "v[4][1][5][3]['area']"
   ]
  },
  {
   "cell_type": "code",
   "execution_count": null,
   "id": "29267c7b",
   "metadata": {},
   "outputs": [],
   "source": [
    "## Access elements from nested dictonary\n",
    "v[4][1][5][3]['city']"
   ]
  },
  {
   "cell_type": "code",
   "execution_count": null,
   "id": "4d829cad",
   "metadata": {},
   "outputs": [],
   "source": [
    "di = {1:(4, 5, 6), 2:[3, 4, 5]}\n",
    "di"
   ]
  },
  {
   "cell_type": "markdown",
   "id": "f5fc5982",
   "metadata": {},
   "source": [
    "## Add, Remove & Change Items"
   ]
  },
  {
   "cell_type": "code",
   "execution_count": null,
   "id": "4ebb7601",
   "metadata": {},
   "outputs": [],
   "source": [
    "mydict1 = {'Name':'Data' , 'ID': 12345 , 'DOB': 1991 , 'Address' : 'Hilsinki'} \n",
    "mydict1"
   ]
  },
  {
   "cell_type": "code",
   "execution_count": null,
   "id": "5e848906",
   "metadata": {},
   "outputs": [],
   "source": [
    "mydict1['DOB'] = 1992  # Changing Dictionary Items\n",
    "mydict1['Address'] = 'Delhi'\n",
    "mydict1"
   ]
  },
  {
   "cell_type": "code",
   "execution_count": null,
   "id": "fd2ad34e",
   "metadata": {},
   "outputs": [],
   "source": [
    "mydict1['Job'] = 'Analyst' # Adding items in the dictionary\n",
    "mydict1"
   ]
  },
  {
   "cell_type": "code",
   "execution_count": null,
   "id": "ab4cb1b8",
   "metadata": {},
   "outputs": [],
   "source": [
    "m={1:'one', 2:'two',3:'three'} #  Removing  items  in  the  dictionary  using  Pop  method\n",
    "m"
   ]
  },
  {
   "cell_type": "code",
   "execution_count": null,
   "id": "8d7e55a6",
   "metadata": {},
   "outputs": [],
   "source": [
    "m.pop(1)"
   ]
  },
  {
   "cell_type": "code",
   "execution_count": null,
   "id": "3f61dbe8",
   "metadata": {},
   "outputs": [],
   "source": [
    "m"
   ]
  },
  {
   "cell_type": "code",
   "execution_count": null,
   "id": "2e08e11b",
   "metadata": {},
   "outputs": [],
   "source": [
    "mydict1"
   ]
  },
  {
   "cell_type": "code",
   "execution_count": null,
   "id": "933e5d2c",
   "metadata": {},
   "outputs": [],
   "source": [
    "mydict1.pop('Job')  \n",
    "mydict1"
   ]
  },
  {
   "cell_type": "code",
   "execution_count": null,
   "id": "1c74596d",
   "metadata": {},
   "outputs": [],
   "source": [
    "mydict1.popitem() #It removes the last item from the dictionary"
   ]
  },
  {
   "cell_type": "code",
   "execution_count": null,
   "id": "5246e1eb",
   "metadata": {},
   "outputs": [],
   "source": [
    "mydict1"
   ]
  },
  {
   "cell_type": "code",
   "execution_count": null,
   "id": "b67eea30",
   "metadata": {},
   "outputs": [],
   "source": [
    "del[mydict1['ID']] # Removing item using del method\n",
    "mydict1"
   ]
  },
  {
   "cell_type": "code",
   "execution_count": null,
   "id": "1f922949",
   "metadata": {},
   "outputs": [],
   "source": [
    "mydict1.clear() # Delete all items of the dictionary using clear method\n",
    "mydict1"
   ]
  },
  {
   "cell_type": "code",
   "execution_count": null,
   "id": "299c42d9",
   "metadata": {},
   "outputs": [],
   "source": [
    "del mydict1 # Delete the dictionary object"
   ]
  },
  {
   "cell_type": "code",
   "execution_count": null,
   "id": "3e8a0a8d",
   "metadata": {},
   "outputs": [],
   "source": []
  },
  {
   "cell_type": "markdown",
   "id": "c37178e5",
   "metadata": {},
   "source": [
    "# Packages"
   ]
  },
  {
   "cell_type": "raw",
   "id": "c698edeb",
   "metadata": {},
   "source": [
    "Packages are software which holds certain functionalities to work on.In python, we have many built-in packages which we will be\n",
    "using.\n",
    "\n",
    "Packages contains modules and submodules.\n",
    "\n",
    "Each and every module and submodule can be used independently by using certain keywords."
   ]
  },
  {
   "cell_type": "raw",
   "id": "54cd0623",
   "metadata": {},
   "source": [
    "So lets assume we want to build a software where we need 4 functionalities like A,B,C,D.So you cannot go directly and we build the software,you need to break down this into logical smaller parts.So lets say A and C have similar types of functionality, B and D takes similar type of functionality so we will group them under same module."
   ]
  },
  {
   "attachments": {
    "image.png": {
     "image/png": "[encoded data removed]"
    }
   },
   "cell_type": "markdown",
   "id": "65139785",
   "metadata": {},
   "source": [
    "![image.png](attachment:image.png)"
   ]
  },
  {
   "cell_type": "raw",
   "id": "457dce93",
   "metadata": {},
   "source": [
    "Modules and submodules provide very efficient way of writing code.If you want to make changes in A,you need to disturb any modules,you can go ahead and make the chnages.\n",
    "\n",
    "Modules also provide code resuibilty.If we want to develop new software which uses only A and D,they can be used."
   ]
  },
  {
   "cell_type": "markdown",
   "id": "926c1075",
   "metadata": {},
   "source": [
    "# Datetime Package"
   ]
  },
  {
   "cell_type": "raw",
   "id": "76953579",
   "metadata": {},
   "source": [
    "In Python, date and time are not a data type of their own, but a module named datetime can be imported to work with the date as well as time. Python Datetime module comes built into Python, so there is no need to install it externally. "
   ]
  },
  {
   "cell_type": "raw",
   "id": "a7c252cf",
   "metadata": {},
   "source": [
    "1)date – An idealized naive date, assuming the current Gregorian calendar always was, and always will be, in effect. Its attributes are year, month and day.\n",
    "\n",
    "\n",
    "2)time – An idealized time, independent of any particular day, assuming that every day has exactly 24*60*60 seconds. Its attributes are hour, minute, second\n",
    "\n",
    "3)datetime – Its a combination of date and time along with the attributes year, month, day, hour, minute, second, microsecond\n",
    "\n",
    "4)timedelta – A duration expressing the difference between two date, time, or datetime instances to microsecond resolution."
   ]
  },
  {
   "cell_type": "code",
   "execution_count": null,
   "id": "ded2a04d",
   "metadata": {},
   "outputs": [],
   "source": [
    "import datetime"
   ]
  },
  {
   "cell_type": "code",
   "execution_count": null,
   "id": "e9998679",
   "metadata": {},
   "outputs": [],
   "source": [
    "from datetime import date"
   ]
  },
  {
   "cell_type": "code",
   "execution_count": null,
   "id": "4d716da0",
   "metadata": {},
   "outputs": [],
   "source": [
    "my_date = date(1996, 12, 11) ## Simple date creation"
   ]
  },
  {
   "cell_type": "code",
   "execution_count": null,
   "id": "0a13d557",
   "metadata": {},
   "outputs": [],
   "source": [
    "my_date"
   ]
  },
  {
   "cell_type": "code",
   "execution_count": null,
   "id": "173f18ed",
   "metadata": {},
   "outputs": [],
   "source": [
    "# Getting today's date\n",
    "today1 = date.today()\n",
    "\n",
    "print(\"Today's date is\", today1)"
   ]
  },
  {
   "cell_type": "code",
   "execution_count": null,
   "id": "bf39033b",
   "metadata": {},
   "outputs": [],
   "source": [
    "date.today()"
   ]
  },
  {
   "cell_type": "code",
   "execution_count": null,
   "id": "114f84d5",
   "metadata": {},
   "outputs": [],
   "source": [
    "# Get Today’s Year, Month, and Date\n",
    "\n",
    "print(\"Current year:\", today1.year)\n",
    "print(\"Current month:\", today1.month)\n",
    "print(\"Current day:\", today1.day)"
   ]
  },
  {
   "cell_type": "code",
   "execution_count": null,
   "id": "169c6728",
   "metadata": {},
   "outputs": [],
   "source": [
    "# Get date from datetime sub module\n",
    "from datetime import datetime as dt   # alias\n",
    "\n",
    "date1=dt.now()\n",
    "date1"
   ]
  },
  {
   "cell_type": "code",
   "execution_count": null,
   "id": "3c2095ec",
   "metadata": {},
   "outputs": [],
   "source": [
    "dt.date(date1)"
   ]
  },
  {
   "cell_type": "code",
   "execution_count": null,
   "id": "4d3a9341",
   "metadata": {},
   "outputs": [],
   "source": [
    "date1.day"
   ]
  },
  {
   "cell_type": "code",
   "execution_count": null,
   "id": "c2720dd9",
   "metadata": {},
   "outputs": [],
   "source": [
    "date1.minute"
   ]
  },
  {
   "cell_type": "code",
   "execution_count": null,
   "id": "1d5d0d5e",
   "metadata": {},
   "outputs": [],
   "source": [
    "date1.second"
   ]
  },
  {
   "cell_type": "code",
   "execution_count": null,
   "id": "e8686b1a",
   "metadata": {},
   "outputs": [],
   "source": [
    "date1.microsecond"
   ]
  },
  {
   "cell_type": "code",
   "execution_count": null,
   "id": "13284818",
   "metadata": {
    "scrolled": true
   },
   "outputs": [],
   "source": [
    "date1.isoweekday() #It returns an integer which corresponds to a day (Monday is 1, Tuesday is 2 and so on)"
   ]
  },
  {
   "cell_type": "code",
   "execution_count": null,
   "id": "0cff618b",
   "metadata": {},
   "outputs": [],
   "source": [
    "date1.weekday() #Monday: 0, Tuesday:1"
   ]
  },
  {
   "cell_type": "code",
   "execution_count": null,
   "id": "82024d32",
   "metadata": {},
   "outputs": [],
   "source": [
    "# Time submodule\n",
    "\n",
    "from datetime import time"
   ]
  },
  {
   "cell_type": "code",
   "execution_count": null,
   "id": "483b3fc4",
   "metadata": {},
   "outputs": [],
   "source": [
    "my_time = time(12, 24, 56)\n",
    " \n",
    "print(\"Entered time\", my_time)"
   ]
  },
  {
   "cell_type": "code",
   "execution_count": null,
   "id": "2e8cb4db",
   "metadata": {},
   "outputs": [],
   "source": [
    "my_time.hour"
   ]
  },
  {
   "cell_type": "code",
   "execution_count": null,
   "id": "da53a259",
   "metadata": {},
   "outputs": [],
   "source": [
    "my_time.second"
   ]
  },
  {
   "cell_type": "code",
   "execution_count": null,
   "id": "ee3701bb",
   "metadata": {},
   "outputs": [],
   "source": [
    "# Timedelta function demonstration\n",
    " \n",
    "from datetime import date, timedelta\n",
    "\n",
    "current_time = date.today()\n",
    " \n",
    "# printing initial_date\n",
    "print(\"initial_date\", str(current_time))\n",
    " \n",
    "# Calculating future dates\n",
    "# for 730 days\n",
    "future_date_after_2yrs = current_time + timedelta(days=730)\n",
    "future_date_after_2yrs"
   ]
  },
  {
   "cell_type": "code",
   "execution_count": null,
   "id": "59e6be16",
   "metadata": {},
   "outputs": [],
   "source": [
    "current_time - timedelta(1)"
   ]
  },
  {
   "cell_type": "code",
   "execution_count": null,
   "id": "df463248",
   "metadata": {},
   "outputs": [],
   "source": [
    "dt.now() - timedelta(1)"
   ]
  },
  {
   "cell_type": "code",
   "execution_count": null,
   "id": "a6ae8b57",
   "metadata": {},
   "outputs": [],
   "source": [
    "current_time + timedelta(1)"
   ]
  },
  {
   "cell_type": "code",
   "execution_count": null,
   "id": "5521e650",
   "metadata": {},
   "outputs": [],
   "source": []
  }
 ],
 "metadata": {
  "kernelspec": {
   "display_name": "Python 3 (ipykernel)",
   "language": "python",
   "name": "python3"
  },
  "language_info": {
   "codemirror_mode": {
    "name": "ipython",
    "version": 3
   },
   "file_extension": ".py",
   "mimetype": "text/x-python",
   "name": "python",
   "nbconvert_exporter": "python",
   "pygments_lexer": "ipython3",
   "version": "3.9.7"
  }
 },
 "nbformat": 4,
 "nbformat_minor": 5
}
