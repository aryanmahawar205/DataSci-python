{
 "cells": [
  {
   "cell_type": "markdown",
   "metadata": {
    "id": "CVTrilRYn71q"
   },
   "source": [
    "# QQ Plot implementation"
   ]
  },
  {
   "cell_type": "code",
   "execution_count": 1,
   "metadata": {
    "colab": {
     "base_uri": "https://localhost:8080/",
     "height": 279
    },
    "executionInfo": {
     "elapsed": 15,
     "status": "ok",
     "timestamp": 1640526987349,
     "user": {
      "displayName": "Sumit Atram",
      "photoUrl": "https://lh3.googleusercontent.com/a/default-user=s64",
      "userId": "08687274804023115560"
     },
     "user_tz": -330
    },
    "id": "FM7J6hD_mP-b",
    "outputId": "0f62bd56-f411-49b3-eee2-8c0d5a1f760d"
   },
   "outputs": [
    {
     "data": {
      "image/png": "[encoded data removed]",
      "text/plain": [
       "<Figure size 432x288 with 1 Axes>"
      ]
     },
     "metadata": {
      "needs_background": "light"
     },
     "output_type": "display_data"
    },
    {
     "data": {
      "image/png": "[encoded data removed]",
      "text/plain": [
       "<Figure size 432x288 with 1 Axes>"
      ]
     },
     "metadata": {
      "needs_background": "light"
     },
     "output_type": "display_data"
    }
   ],
   "source": [
    "import numpy as np \n",
    "import statsmodels.api as sm\n",
    "import pylab as py \n",
    "import warnings\n",
    "warnings.filterwarnings('ignore')\n",
    "  \n",
    "# np.random generates different random numbers everytime the code is executed.\n",
    "data_points = np.random.normal(0, 1, 100)   \n",
    "\n",
    "data=np.random.randint(0,100,100)  \n",
    "\n",
    "sm.qqplot(data_points, line ='45') # That data_points that are normally distributed\n",
    "sm.qqplot(data, line ='45') # data is not normally distirbuted.\n",
    "py.show()\n"
   ]
  },
  {
   "cell_type": "markdown",
   "metadata": {
    "id": "I-Kre9b6oJ0h"
   },
   "source": [
    "# HeatMap and Correlation"
   ]
  },
  {
   "cell_type": "code",
   "execution_count": null,
   "metadata": {
    "id": "4t1lUR3d0-f4"
   },
   "outputs": [],
   "source": [
    "import matplotlib.pyplot as plt\n",
    "import seaborn as sns\n",
    "import pandas as pd\n",
    "import numpy as np"
   ]
  },
  {
   "cell_type": "code",
   "execution_count": null,
   "metadata": {
    "colab": {
     "base_uri": "https://localhost:8080/"
    },
    "executionInfo": {
     "elapsed": 333,
     "status": "ok",
     "timestamp": 1640057063395,
     "user": {
      "displayName": "Shubhangi Sakarkar",
      "photoUrl": "https://lh3.googleusercontent.com/a-/AOh14GjiJriRrUWKSeoxmYnVoL2uz2i6E3RLOwZgeqHG=s64",
      "userId": "12180749557274197061"
     },
     "user_tz": -330
    },
    "id": "-CNRZpgPAhBT",
    "outputId": "6ecd4ddc-8e23-421a-dc34-ec31192de8ee"
   },
   "outputs": [],
   "source": [
    "# getting the builtin datasets of seaborn.\n",
    "sns.get_dataset_names()"
   ]
  },
  {
   "cell_type": "code",
   "execution_count": null,
   "metadata": {
    "id": "5WkzYH0Zbiyb"
   },
   "outputs": [],
   "source": [
    "# loading dataset \n",
    "df= sns.load_dataset(\"iris\")"
   ]
  },
  {
   "cell_type": "code",
   "execution_count": null,
   "metadata": {
    "colab": {
     "base_uri": "https://localhost:8080/",
     "height": 419
    },
    "executionInfo": {
     "elapsed": 353,
     "status": "ok",
     "timestamp": 1640057074729,
     "user": {
      "displayName": "Shubhangi Sakarkar",
      "photoUrl": "https://lh3.googleusercontent.com/a-/AOh14GjiJriRrUWKSeoxmYnVoL2uz2i6E3RLOwZgeqHG=s64",
      "userId": "12180749557274197061"
     },
     "user_tz": -330
    },
    "id": "C-i66qE9AhBU",
    "outputId": "4231a562-eac3-44c4-d775-69af5c619c14"
   },
   "outputs": [],
   "source": [
    "df"
   ]
  },
  {
   "cell_type": "code",
   "execution_count": null,
   "metadata": {
    "colab": {
     "base_uri": "https://localhost:8080/",
     "height": 270
    },
    "executionInfo": {
     "elapsed": 397,
     "status": "ok",
     "timestamp": 1640057396155,
     "user": {
      "displayName": "Shubhangi Sakarkar",
      "photoUrl": "https://lh3.googleusercontent.com/a-/AOh14GjiJriRrUWKSeoxmYnVoL2uz2i6E3RLOwZgeqHG=s64",
      "userId": "12180749557274197061"
     },
     "user_tz": -330
    },
    "id": "JQxuH_z9Aqit",
    "outputId": "032d9a64-530e-4be8-c764-f14869739e1c"
   },
   "outputs": [],
   "source": [
    "##Heat map\n",
    "## Heatmap is defined as a graphical representation of data using colors to visualize the value of the matrix.\n",
    "## In this, to represent more common values or higher activities brighter colors basically reddish colors are used and \n",
    "## to represent less common or activity values, darker colors are preferred\n",
    "\n",
    "# correlation between the different parameters \n",
    "tc = df.corr()\n",
    "tc"
   ]
  },
  {
   "cell_type": "code",
   "execution_count": null,
   "metadata": {},
   "outputs": [],
   "source": [
    "  \n",
    "sns.heatmap(tc)\n",
    "plt.show()"
   ]
  },
  {
   "cell_type": "code",
   "execution_count": null,
   "metadata": {
    "colab": {
     "base_uri": "https://localhost:8080/",
     "height": 173
    },
    "executionInfo": {
     "elapsed": 597,
     "status": "ok",
     "timestamp": 1640057100406,
     "user": {
      "displayName": "Shubhangi Sakarkar",
      "photoUrl": "https://lh3.googleusercontent.com/a-/AOh14GjiJriRrUWKSeoxmYnVoL2uz2i6E3RLOwZgeqHG=s64",
      "userId": "12180749557274197061"
     },
     "user_tz": -330
    },
    "id": "KZQgKQVDBTu9",
    "outputId": "fd5dbdb9-74aa-4f93-9e29-49df180ce01b"
   },
   "outputs": [],
   "source": [
    "df.corr()"
   ]
  },
  {
   "cell_type": "code",
   "execution_count": null,
   "metadata": {},
   "outputs": [],
   "source": []
  },
  {
   "cell_type": "code",
   "execution_count": null,
   "metadata": {},
   "outputs": [],
   "source": []
  },
  {
   "cell_type": "code",
   "execution_count": null,
   "metadata": {},
   "outputs": [],
   "source": [
    "https://towardsdatascience.com/types-of-transformations-for-better-normal-distribution-61c22668d3b9#:~:text=%20Types%20Of%20Transformations%20For%20Better%20Normal%20Distribution,favorite%20transformation%20techniques.%20Box-cox%20transformation%20works...%20More%20"
   ]
  }
 ],
 "metadata": {
  "colab": {
   "collapsed_sections": [],
   "name": "QQ-Plot using Python and Heatmap.ipynb",
   "provenance": []
  },
  "kernelspec": {
   "display_name": "Python 3 (ipykernel)",
   "language": "python",
   "name": "python3"
  },
  "language_info": {
   "codemirror_mode": {
    "name": "ipython",
    "version": 3
   },
   "file_extension": ".py",
   "mimetype": "text/x-python",
   "name": "python",
   "nbconvert_exporter": "python",
   "pygments_lexer": "ipython3",
   "version": "3.9.7"
  }
 },
 "nbformat": 4,
 "nbformat_minor": 1
}
