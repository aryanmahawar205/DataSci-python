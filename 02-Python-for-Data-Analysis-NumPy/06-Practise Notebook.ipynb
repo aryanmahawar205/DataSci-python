{
 "cells": [
  {
   "cell_type": "code",
   "execution_count": 1,
   "metadata": {},
   "outputs": [
    {
     "name": "stdout",
     "output_type": "stream",
     "text": [
      "[1 2 3]\n"
     ]
    }
   ],
   "source": [
    "#to create a 1D numpy array, use a 1D list viz.\n",
    "\n",
    "import numpy as np\n",
    "ls = [1, 2, 3]\n",
    "arr = np.array(ls) #this creates a 1D numpy array since we have passed ls list which is a 1D structure in python\n",
    "print(arr) #printing the created 1D numpy array"
   ]
  },
  {
   "cell_type": "code",
   "execution_count": 4,
   "metadata": {},
   "outputs": [
    {
     "name": "stdout",
     "output_type": "stream",
     "text": [
      "[[1 2 3]\n",
      " [4 5 6]\n",
      " [7 8 9]]\n"
     ]
    }
   ],
   "source": [
    "#to create a 2D numpy array, use a 2D list viz.\n",
    "\n",
    "import numpy as np\n",
    "ls = [[1, 2, 3], [4, 5, 6], [7, 8, 9]]\n",
    "arr = np.array(ls) #this creates a 2D numpy array since we have passed ls list which is a 2D structure in python\n",
    "print(arr) #printing the created 2D numpy array"
   ]
  },
  {
   "cell_type": "code",
   "execution_count": 13,
   "metadata": {},
   "outputs": [
    {
     "name": "stdout",
     "output_type": "stream",
     "text": [
      "[0 2 4 6 8]\n"
     ]
    }
   ],
   "source": [
    "#numpy .arange() function\n",
    "\n",
    "'''\n",
    "The .arange() function in numpy is very similar to the range function in python\n",
    "The .arange() function automatically creates the numpy array and has the same parameters as the range function, ie; start, stop and step\n",
    "Note that here too, the last value in the stop parameter is not inclusive just like the range fuction properties\n",
    "'''\n",
    "\n",
    "import numpy as np\n",
    "data = np.arange(0, 10, 2)\n",
    "print(data)"
   ]
  },
  {
   "cell_type": "code",
   "execution_count": 20,
   "metadata": {},
   "outputs": [
    {
     "name": "stdout",
     "output_type": "stream",
     "text": [
      "[0. 0. 0.]\n",
      "\n",
      "[[0. 0. 0.]\n",
      " [0. 0. 0.]]\n",
      "\n",
      "\n",
      "[1. 1. 1.]\n",
      "\n",
      "[[1. 1. 1.]\n",
      " [1. 1. 1.]]\n"
     ]
    }
   ],
   "source": [
    "#creating special types of numpy arrays\n",
    "\n",
    "import numpy as np\n",
    "\n",
    "data1 = np.zeros(3) #creates a numpy array with only zeroes, here we will have a single 1D array with 3 zeroes\n",
    "\n",
    "data2 = np.zeros((2, 3)) #creates a numpy array again only with zeroes, but with a 2D framework. Here we mention the rows, columns; ie; r, c. This case we have 2 rows and 3 columns\n",
    "\n",
    "print(data1)\n",
    "\n",
    "print()\n",
    "\n",
    "print(data2)\n",
    "\n",
    "data3 = np.ones(3) #creates a numpy array with only ones, here we will have a single 1D array with 3 ones\n",
    "\n",
    "data4 = np.ones((2, 3)) #creates a numpy array again only with ones, but with a 2D framework. Here we mention the rows, columns; ie; r, c. This case we have 2 rows and 3 columns\n",
    "\n",
    "print()\n",
    "print()\n",
    "\n",
    "print(data3)\n",
    "\n",
    "print()\n",
    "\n",
    "print(data4)\n"
   ]
  },
  {
   "cell_type": "code",
   "execution_count": 27,
   "metadata": {},
   "outputs": [
    {
     "name": "stdout",
     "output_type": "stream",
     "text": [
      "[0.         0.05050505 0.1010101  0.15151515 0.2020202  0.25252525\n",
      " 0.3030303  0.35353535 0.4040404  0.45454545 0.50505051 0.55555556\n",
      " 0.60606061 0.65656566 0.70707071 0.75757576 0.80808081 0.85858586\n",
      " 0.90909091 0.95959596 1.01010101 1.06060606 1.11111111 1.16161616\n",
      " 1.21212121 1.26262626 1.31313131 1.36363636 1.41414141 1.46464646\n",
      " 1.51515152 1.56565657 1.61616162 1.66666667 1.71717172 1.76767677\n",
      " 1.81818182 1.86868687 1.91919192 1.96969697 2.02020202 2.07070707\n",
      " 2.12121212 2.17171717 2.22222222 2.27272727 2.32323232 2.37373737\n",
      " 2.42424242 2.47474747 2.52525253 2.57575758 2.62626263 2.67676768\n",
      " 2.72727273 2.77777778 2.82828283 2.87878788 2.92929293 2.97979798\n",
      " 3.03030303 3.08080808 3.13131313 3.18181818 3.23232323 3.28282828\n",
      " 3.33333333 3.38383838 3.43434343 3.48484848 3.53535354 3.58585859\n",
      " 3.63636364 3.68686869 3.73737374 3.78787879 3.83838384 3.88888889\n",
      " 3.93939394 3.98989899 4.04040404 4.09090909 4.14141414 4.19191919\n",
      " 4.24242424 4.29292929 4.34343434 4.39393939 4.44444444 4.49494949\n",
      " 4.54545455 4.5959596  4.64646465 4.6969697  4.74747475 4.7979798\n",
      " 4.84848485 4.8989899  4.94949495 5.        ]\n"
     ]
    }
   ],
   "source": [
    "#using the .linspace() function\n",
    "\n",
    "'''\n",
    "The .linspace() function of numpy returns a 1D array of the evenly spaced points (no. of evenly spaced points generated = number passed as the\n",
    "paramater with stop). This function generates the evenly spaced points between the start and stop, inclusive of both start and stop.\n",
    "'''\n",
    "\n",
    "import numpy as np\n",
    "\n",
    "data = np.linspace(0, 5, 100) #this statement will generate a 1D numpy array with 100 evenly spaced points bewteen 0 to 5, including both 0 and 5\n",
    "\n",
    "print(data)"
   ]
  },
  {
   "cell_type": "code",
   "execution_count": 25,
   "metadata": {},
   "outputs": [
    {
     "name": "stdout",
     "output_type": "stream",
     "text": [
      "[[1. 0. 0. 0.]\n",
      " [0. 1. 0. 0.]\n",
      " [0. 0. 1. 0.]\n",
      " [0. 0. 0. 1.]]\n"
     ]
    }
   ],
   "source": [
    "#identity matrix using .eye() function of numpy. Mention the order of the matrix within the function paranthesis\n",
    "#returns a 2D square matrix\n",
    "\n",
    "import numpy as np\n",
    "\n",
    "identity = np.eye(4) #generates a 2D identity matrix of order = 4\n",
    "\n",
    "print(identity)"
   ]
  },
  {
   "cell_type": "code",
   "execution_count": 35,
   "metadata": {},
   "outputs": [
    {
     "name": "stdout",
     "output_type": "stream",
     "text": [
      "[0.42200285 0.14950351 0.50431218 0.49407031 0.52440267]\n",
      "\n",
      "[[0.26136178 0.53190396 0.14300564 0.11017908 0.84712174]\n",
      " [0.1832706  0.4024465  0.83858495 0.73902852 0.81954851]\n",
      " [0.10095411 0.35124007 0.29809728 0.44441788 0.76730241]\n",
      " [0.60556577 0.66245658 0.64860831 0.19591238 0.04667276]\n",
      " [0.52032448 0.13234848 0.52501255 0.48520936 0.76461783]]\n",
      "\n",
      "\n",
      "[ 0.01555911  2.36536034 -0.14858666  0.46058065 -0.98548847]\n",
      "\n",
      "[[-0.23378855  1.52470393  0.96804354  0.88972853  0.28407547]\n",
      " [ 1.1793526  -1.01539734  0.49438438  0.99365552 -0.71631553]\n",
      " [-0.57353055  0.3945485   1.30399114  3.34783386 -0.25951354]\n",
      " [-1.47441461 -1.99169077  0.86258284  0.1433539  -0.1592464 ]\n",
      " [ 0.14228341 -0.85334528 -0.15746772 -0.68166384 -0.4931895 ]]\n",
      "\n",
      "\n",
      "4\n",
      "\n",
      "[47 57 21  6 58 87 35 47 56 77]\n"
     ]
    }
   ],
   "source": [
    "#generating random numbers arrays in numpy\n",
    "\n",
    "import numpy as np\n",
    "\n",
    "data1 = np.random.rand(5) #.rand() returns random numbers between 0 to 1. Here it gives 5 random numbers between 0 to 1. Gives 1D matrix\n",
    "\n",
    "data2 = np.random.rand(5,5) #.rand(a, b) does the same thing, but as a 5x5 2D matrix. The matrix entries are still numbers b/w 0 to 1\n",
    "\n",
    "print(data1)\n",
    "\n",
    "print()\n",
    "\n",
    "print(data2)\n",
    "\n",
    "print()\n",
    "print()\n",
    "\n",
    "data3 = np.random.randn(5) #.rand() returns random numbers between the standard numbers. Here it gives 5 random numbers from the number line. Gives 1D matrix\n",
    "\n",
    "data4 = np.random.randn(5,5) #.rand(a, b) does the same thing, but as a 5x5 2D matrix. The matrix entries are still random numbers from the number line\n",
    "\n",
    "print(data3)\n",
    "\n",
    "print()\n",
    "\n",
    "print(data4)\n",
    "\n",
    "print()\n",
    "print()\n",
    "\n",
    "#.randint(low, high, size) - the .randint() function generates random integers between the low to high interval.\n",
    "#its inclusive of the low and exclusive of the high. The size is the number of random number you wish to generate\n",
    "\n",
    "data5 = np.random.randint(5) #returns one random integer between 0 to 5, including 0 and exculding 5\n",
    "\n",
    "data6 = np.random.randint(1, 100, 10) #return 10 random integers between 1 to 100, including 1 and exculding 100. Returns a 1D array\n",
    "\n",
    "print(data5)\n",
    "\n",
    "print()\n",
    "\n",
    "print(data6)"
   ]
  },
  {
   "cell_type": "code",
   "execution_count": 36,
   "metadata": {},
   "outputs": [
    {
     "name": "stdout",
     "output_type": "stream",
     "text": [
      "[[ 0  1  2  3  4]\n",
      " [ 5  6  7  8  9]\n",
      " [10 11 12 13 14]\n",
      " [15 16 17 18 19]\n",
      " [20 21 22 23 24]]\n"
     ]
    }
   ],
   "source": [
    "#.reshape() array function in numpy\n",
    "\n",
    "import numpy as np\n",
    "\n",
    "arr = np.arange(25)\n",
    "\n",
    "shaped = arr.reshape(5, 5) #.reshape(r, c); where r is the number of rows and c is the number of columns. Thus, it returns a 2D array\n",
    "\n",
    "'''\n",
    "Note that the python interpreter throws an error if the number of elements in the array you wish to reshape != r*c product\n",
    "'''\n",
    "\n",
    "print(shaped)"
   ]
  },
  {
   "cell_type": "code",
   "execution_count": 48,
   "metadata": {},
   "outputs": [
    {
     "name": "stdout",
     "output_type": "stream",
     "text": [
      "41\n",
      "1\n",
      "\n",
      "\n",
      "2\n",
      "4\n"
     ]
    }
   ],
   "source": [
    "#max, min values and their location in the array\n",
    "\n",
    "import numpy as np\n",
    "\n",
    "ranarr = np.random.randint(0, 50, 10)\n",
    "\n",
    "max = ranarr.max()\n",
    "min = ranarr.min()\n",
    "\n",
    "print(max)\n",
    "print(min)\n",
    "\n",
    "print()\n",
    "#to know the index location of the max and min values, use .argmax() and .argmin() functions viz.\n",
    "print()\n",
    "\n",
    "max_id = ranarr.argmax()\n",
    "min_id = ranarr.argmin()\n",
    "\n",
    "print(max_id)\n",
    "print(min_id)"
   ]
  },
  {
   "cell_type": "code",
   "execution_count": 54,
   "metadata": {},
   "outputs": [
    {
     "name": "stdout",
     "output_type": "stream",
     "text": [
      "(25,)\n"
     ]
    },
    {
     "data": {
      "text/plain": [
       "(5, 5)"
      ]
     },
     "execution_count": 54,
     "metadata": {},
     "output_type": "execute_result"
    }
   ],
   "source": [
    "#.shape method to get to know the schema/type of the array/matrix\n",
    "\n",
    "import numpy as np\n",
    "\n",
    "arr = np.arange(25)\n",
    "\n",
    "print(arr.shape) #will give (25,), which is a 1D matrix\n",
    "\n",
    "arr = arr.reshape(5, 5)\n",
    "\n",
    "arr.shape #will give (5, 5), indicating a 2D matirx of order 5x5"
   ]
  },
  {
   "cell_type": "code",
   "execution_count": 59,
   "metadata": {},
   "outputs": [
    {
     "data": {
      "text/plain": [
       "dtype('int32')"
      ]
     },
     "execution_count": 59,
     "metadata": {},
     "output_type": "execute_result"
    }
   ],
   "source": [
    "#.dtype method to get to know what datatypes you have in your array\n",
    "\n",
    "import numpy as np\n",
    "\n",
    "arr = np.arange(25)\n",
    "\n",
    "arr.dtype"
   ]
  },
  {
   "cell_type": "code",
   "execution_count": 73,
   "metadata": {},
   "outputs": [
    {
     "name": "stdout",
     "output_type": "stream",
     "text": [
      "[ 0  1  2  3  4  5  6  7  8  9 10]\n",
      "8\n",
      "[1 2 3 4]\n",
      "\n",
      "\n",
      "[[1 2 3]\n",
      " [4 5 6]\n",
      " [7 8 9]]\n",
      "\n",
      "6\n"
     ]
    }
   ],
   "source": [
    "#indexing and selection of numpy arrays\n",
    "\n",
    "import numpy as np\n",
    "\n",
    "arr = np.arange(0, 11)\n",
    "\n",
    "print(arr)\n",
    "\n",
    "print(arr[8])\n",
    "print(arr[1:5])\n",
    "print()\n",
    "print()\n",
    "\n",
    "arr2D = np.array(ls)\n",
    "\n",
    "print(arr2D)\n",
    "\n",
    "#there are two ways to access the elements of teh 2D array. Firstly, the regular 2 brackets way we have been doing so far with lists and tuples\n",
    "#and the second way it to use comma within one single bracket\n",
    "#basically, in the former way, we did something like ls[5][4], so here we use comma instead viz; ls[5, 4]\n",
    "#hence in numpy arrays alone, arr[5][4] == ls[5, 4]\n",
    "print()\n",
    "\n",
    "print(arr2D[1, 2])"
   ]
  },
  {
   "cell_type": "code",
   "execution_count": 10,
   "metadata": {},
   "outputs": [
    {
     "name": "stdout",
     "output_type": "stream",
     "text": [
      "[[ 5 10 15]\n",
      " [20 25 30]\n",
      " [35 40 45]]\n",
      "\n",
      "[[10 15]\n",
      " [25 30]]\n"
     ]
    }
   ],
   "source": [
    "#accesssing sub-sections of a numpy matrix/array\n",
    "\n",
    "import numpy as np\n",
    "\n",
    "ls = [[5, 10, 15], [20, 25, 30], [35, 40, 45]]\n",
    "\n",
    "arr_2D = np.array(ls)   \n",
    "\n",
    "print(arr_2D)\n",
    "print()\n",
    "\n",
    "#now say we don't want to slice a particular element off the array or display a set of elements in order, but just wish to have like a bunch of elements\n",
    "#say i need to access elements 10, 15, 25, 30. How would I do that?\n",
    "\n",
    "#to do so -\n",
    "\n",
    "print(arr_2D[:2, 1:]) #basically it meant, rows starting from 0 upto row 1 (ie, 2-1=1) and columns starting from 1 till then end."
   ]
  },
  {
   "cell_type": "code",
   "execution_count": 23,
   "metadata": {},
   "outputs": [
    {
     "name": "stdout",
     "output_type": "stream",
     "text": [
      "[ 0  1  2  3  4  5  6  7  8  9 10]\n",
      "[ 0  2  4  6  8 10 12 14 16 18 20]\n",
      "[0 0 0 0 0 0 0 0 0 0 0]\n",
      "[100 101 102 103 104 105 106 107 108 109 110]\n",
      "[   0  100  200  300  400  500  600  700  800  900 1000]\n",
      "[  0   1   4   9  16  25  36  49  64  81 100]\n",
      "[0.   0.01 0.02 0.03 0.04 0.05 0.06 0.07 0.08 0.09 0.1 ]\n",
      "[0 0 0 0 0 0 0 0 0 0 0]\n",
      "[0 1 0 1 0 1 0 1 0 1 0]\n",
      "[  0   1   4   9  16  25  36  49  64  81 100]\n",
      "[         1          1          4         27        256       3125\n",
      "      46656     823543   16777216  387420489 1410065408]\n",
      "[nan  1.  1.  1.  1.  1.  1.  1.  1.  1.  1.]\n",
      "[0 1 1 1 1 1 1 1 1 1 1]\n",
      "\n",
      "\n",
      "[0.         1.         1.41421356 1.73205081 2.         2.23606798\n",
      " 2.44948974 2.64575131 2.82842712 3.         3.16227766]\n",
      "[1.00000000e+00 2.71828183e+00 7.38905610e+00 2.00855369e+01\n",
      " 5.45981500e+01 1.48413159e+02 4.03428793e+02 1.09663316e+03\n",
      " 2.98095799e+03 8.10308393e+03 2.20264658e+04]\n",
      "[ 0.          0.84147098  0.90929743  0.14112001 -0.7568025  -0.95892427\n",
      " -0.2794155   0.6569866   0.98935825  0.41211849 -0.54402111]\n",
      "[ 1.          0.54030231 -0.41614684 -0.9899925  -0.65364362  0.28366219\n",
      "  0.96017029  0.75390225 -0.14550003 -0.91113026 -0.83907153]\n",
      "[ 0.          1.55740772 -2.18503986 -0.14254654  1.15782128 -3.38051501\n",
      " -0.29100619  0.87144798 -6.79971146 -0.45231566  0.64836083]\n",
      "[0.00000000e+00 1.17520119e+00 3.62686041e+00 1.00178749e+01\n",
      " 2.72899172e+01 7.42032106e+01 2.01713157e+02 5.48316123e+02\n",
      " 1.49047883e+03 4.05154190e+03 1.10132329e+04]\n",
      "[1.00000000e+00 1.54308063e+00 3.76219569e+00 1.00676620e+01\n",
      " 2.73082328e+01 7.42099485e+01 2.01715636e+02 5.48317035e+02\n",
      " 1.49047916e+03 4.05154203e+03 1.10132329e+04]\n",
      "[      -inf 0.         0.69314718 1.09861229 1.38629436 1.60943791\n",
      " 1.79175947 1.94591015 2.07944154 2.19722458 2.30258509]\n"
     ]
    },
    {
     "name": "stderr",
     "output_type": "stream",
     "text": [
      "C:\\Users\\mahaw\\AppData\\Local\\Temp\\ipykernel_6352\\37626356.py:26: RuntimeWarning: invalid value encountered in divide\n",
      "  print(arr/arr)\n",
      "C:\\Users\\mahaw\\AppData\\Local\\Temp\\ipykernel_6352\\37626356.py:27: RuntimeWarning: divide by zero encountered in floor_divide\n",
      "  print(arr//arr)\n",
      "C:\\Users\\mahaw\\AppData\\Local\\Temp\\ipykernel_6352\\37626356.py:39: RuntimeWarning: divide by zero encountered in log\n",
      "  print(np.log(arr))\n"
     ]
    }
   ],
   "source": [
    "#numpy operations\n",
    "\n",
    "# ~ Array with Array operations\n",
    "# ~ Array with Scalars operations\n",
    "# ~ Universal Array Functions\n",
    "\n",
    "\n",
    "import numpy as np\n",
    "\n",
    "arr = np.arange(0, 11)\n",
    "\n",
    "print(arr)\n",
    "print(arr+arr)\n",
    "print(arr-arr)\n",
    "print(arr+100)\n",
    "print(arr*100)\n",
    "print(arr**2)\n",
    "print(arr/100)\n",
    "print(arr//100)\n",
    "print(arr%2)\n",
    "print(arr*arr)\n",
    "print(arr**arr)\n",
    "print(arr/arr)\n",
    "print(arr//arr)\n",
    "\n",
    "print()\n",
    "print()\n",
    "\n",
    "print(np.sqrt(arr))\n",
    "print(np.exp(arr))\n",
    "print(np.sin(arr))\n",
    "print(np.cos(arr))\n",
    "print(np.tan(arr))\n",
    "print(np.sinh(arr))\n",
    "print(np.cosh(arr))\n",
    "print(np.log(arr))"
   ]
  }
 ],
 "metadata": {
  "kernelspec": {
   "display_name": "Python 3",
   "language": "python",
   "name": "python3"
  },
  "language_info": {
   "codemirror_mode": {
    "name": "ipython",
    "version": 3
   },
   "file_extension": ".py",
   "mimetype": "text/x-python",
   "name": "python",
   "nbconvert_exporter": "python",
   "pygments_lexer": "ipython3",
   "version": "3.11.5"
  }
 },
 "nbformat": 4,
 "nbformat_minor": 2
}
