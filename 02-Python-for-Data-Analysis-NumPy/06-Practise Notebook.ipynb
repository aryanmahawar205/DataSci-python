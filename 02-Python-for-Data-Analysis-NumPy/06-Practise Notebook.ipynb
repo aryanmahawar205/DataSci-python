{
 "cells": [
  {
   "cell_type": "code",
   "execution_count": 13,
   "metadata": {},
   "outputs": [
    {
     "name": "stdout",
     "output_type": "stream",
     "text": [
      "[1 2 3]\n"
     ]
    }
   ],
   "source": [
    "#to create a 1D numpy array, use a 1D list viz.\n",
    "\n",
    "import numpy as np\n",
    "ls = [1, 2, 3]\n",
    "arr = np.array(ls) #this creates a 1D numpy array since we have passed ls list which is a 1D structure in python\n",
    "print(arr) #printing the created 1D numpy array"
   ]
  }
 ],
 "metadata": {
  "kernelspec": {
   "display_name": "Python 3",
   "language": "python",
   "name": "python3"
  },
  "language_info": {
   "codemirror_mode": {
    "name": "ipython",
    "version": 3
   },
   "file_extension": ".py",
   "mimetype": "text/x-python",
   "name": "python",
   "nbconvert_exporter": "python",
   "pygments_lexer": "ipython3",
   "version": "3.11.5"
  }
 },
 "nbformat": 4,
 "nbformat_minor": 2
}
