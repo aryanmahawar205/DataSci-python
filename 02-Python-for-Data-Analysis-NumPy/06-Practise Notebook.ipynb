{
 "cells": [
  {
   "cell_type": "code",
   "execution_count": 5,
   "metadata": {},
   "outputs": [
    {
     "name": "stdout",
     "output_type": "stream",
     "text": [
      "[1 2 3]\n"
     ]
    }
   ],
   "source": [
    "#to create a 1D numpy array, use a 1D list viz.\n",
    "\n",
    "import numpy as np\n",
    "ls = [1, 2, 3]\n",
    "arr = np.array(ls) #this creates a 1D numpy array since we have passed ls list which is a 1D structure in python\n",
    "print(arr) #printing the created 1D numpy array"
   ]
  },
  {
   "cell_type": "code",
   "execution_count": 6,
   "metadata": {},
   "outputs": [
    {
     "name": "stdout",
     "output_type": "stream",
     "text": [
      "[[1 2 3]\n",
      " [4 5 6]\n",
      " [7 8 9]]\n"
     ]
    }
   ],
   "source": [
    "#to create a 2D numpy array, use a 2D list viz.\n",
    "\n",
    "import numpy as np\n",
    "ls = [[1, 2, 3], [4, 5, 6], [7, 8, 9]]\n",
    "arr = np.array(ls) #this creates a 2D numpy array since we have passed ls list which is a 2D structure in python\n",
    "print(arr) #printing the created 2D numpy array"
   ]
  },
  {
   "cell_type": "code",
   "execution_count": 10,
   "metadata": {},
   "outputs": [
    {
     "name": "stdout",
     "output_type": "stream",
     "text": [
      "[0 2 4 6 8]\n"
     ]
    }
   ],
   "source": [
    "#numpy .arange() function\n",
    "\n",
    "'''\n",
    "The .arange() function in numpy is very similar to the range function in python\n",
    "The .arange() function automatically creates the numpy array and has the same parameters as the range function, ie; start, stop and step\n",
    "Note that here too, the last value in the stop parameter is not inclusive just like the range fuction properties\n",
    "'''\n",
    "\n",
    "import numpy as np\n",
    "data = np.arange(0, 10, 2)\n",
    "print(data)"
   ]
  }
 ],
 "metadata": {
  "kernelspec": {
   "display_name": "Python 3",
   "language": "python",
   "name": "python3"
  },
  "language_info": {
   "codemirror_mode": {
    "name": "ipython",
    "version": 3
   },
   "file_extension": ".py",
   "mimetype": "text/x-python",
   "name": "python",
   "nbconvert_exporter": "python",
   "pygments_lexer": "ipython3",
   "version": "3.11.5"
  }
 },
 "nbformat": 4,
 "nbformat_minor": 2
}
