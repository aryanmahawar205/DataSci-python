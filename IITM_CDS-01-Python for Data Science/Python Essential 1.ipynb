{
 "cells": [
  {
   "cell_type": "markdown",
   "id": "5573a58b",
   "metadata": {},
   "source": [
    "# What is Jupyter  Notebook\n",
    "* The Jupyter Notebook is an open-source web application that allows data scientists to create and share documents that           integrate live code, equations, computational output, visualizations, and other multimedia resources,\n",
    "\n",
    "* Uses include data cleaning and transformation, numerical simulation, statistical modeling, data visualization, machine         learning, and much more.\n"
   ]
  },
  {
   "cell_type": "raw",
   "id": "803e001c",
   "metadata": {},
   "source": [
    "# Tutorial\n",
    "- Interactive\n",
    "- Results/outputs are stored so it is easy to review\n",
    "- Friendly for documentation\n",
    "- No limitation from performance \n",
    "- helpful shortcuts\n",
    "- Industry standard for all data science, ML, AI projects.\n",
    "\n",
    "<p> Extension of jupyter file is ipynb (i python notebook, previous name of Jupyter) </p>\n",
    "\n"
   ]
  },
  {
   "cell_type": "code",
   "execution_count": null,
   "id": "b611209b",
   "metadata": {},
   "outputs": [],
   "source": [
    "!python --version"
   ]
  },
  {
   "cell_type": "markdown",
   "id": "11993094",
   "metadata": {},
   "source": [
    "<u>Heading</u>"
   ]
  },
  {
   "cell_type": "raw",
   "id": "9dc7dafd",
   "metadata": {},
   "source": [
    "**This is plain text** usadysgdhsudusjhsddhhdjdsf "
   ]
  },
  {
   "cell_type": "code",
   "execution_count": null,
   "id": "23466b36",
   "metadata": {},
   "outputs": [],
   "source": [
    "HiHi"
   ]
  },
  {
   "cell_type": "code",
   "execution_count": null,
   "id": "43a273a9",
   "metadata": {},
   "outputs": [],
   "source": [
    "Hi"
   ]
  },
  {
   "cell_type": "markdown",
   "id": "ee8239e8",
   "metadata": {},
   "source": [
    "# This is a markdown\n",
    "\n",
    "**this is bold** \n",
    "\n",
    "this is not bold\n",
    "\n"
   ]
  },
  {
   "cell_type": "markdown",
   "id": "89f12a78",
   "metadata": {},
   "source": [
    "This is Raw NBConvert\n",
    "python is coding language\n",
    "\n",
    "This is a raw cell\n"
   ]
  },
  {
   "cell_type": "markdown",
   "id": "ec91a308",
   "metadata": {},
   "source": [
    "### mode \n",
    "* Green----> edit mode(Enter button)\n",
    "* blue-----> command mode(Esc button)\n"
   ]
  },
  {
   "cell_type": "code",
   "execution_count": null,
   "id": "6bb1d4ee",
   "metadata": {},
   "outputs": [],
   "source": [
    "# new cell"
   ]
  },
  {
   "cell_type": "code",
   "execution_count": null,
   "id": "dc29dbe1",
   "metadata": {},
   "outputs": [],
   "source": [
    "# new cell"
   ]
  },
  {
   "cell_type": "code",
   "execution_count": null,
   "id": "5ad86b35",
   "metadata": {},
   "outputs": [],
   "source": [
    "# new cell"
   ]
  },
  {
   "cell_type": "code",
   "execution_count": null,
   "id": "76c72b69",
   "metadata": {},
   "outputs": [],
   "source": [
    "jhsdyu"
   ]
  },
  {
   "cell_type": "markdown",
   "id": "e6babead",
   "metadata": {},
   "source": [
    "# Short Cuts\n",
    "\n",
    "[shift] + [enter] : run a cell\n",
    "\n",
    "Command mode: <br>\n",
    "[esc] + <br>\n",
    "a : insert cell above\n",
    "\n",
    "b : insert cell below\n",
    "\n",
    "dd : delete a cell\n",
    "\n",
    "z : undo a delete cell\n",
    "\n",
    "r : convert cell to raw cell\n",
    "\n",
    "m : convert cell to Markdown cell\n",
    "\n",
    "y : convert cell to code cell\n",
    "\n",
    "c: copy a cell\n",
    "\n",
    "v : paste a cell\n",
    "\n",
    "x : cut a cell\n",
    "\n",
    "o : toggle output\n",
    "\n",
    "# Edit Mode:\n",
    "\n",
    "Ctrl + C : copy a text\n",
    "\n",
    "Ctrl + V : paste\n",
    "\n",
    "Ctrl + X : cut\n",
    "\n",
    "Ctrl + Z : undo"
   ]
  },
  {
   "cell_type": "markdown",
   "id": "cd840a4f",
   "metadata": {},
   "source": [
    "# Keywords\n"
   ]
  },
  {
   "cell_type": "markdown",
   "id": "62590721",
   "metadata": {},
   "source": [
    "* Keywords in python are reserved words in python and cant be used as identifiers."
   ]
  },
  {
   "cell_type": "code",
   "execution_count": null,
   "id": "0c064f9f",
   "metadata": {},
   "outputs": [],
   "source": [
    "import keyword\n",
    "print(keyword.kwlist)  # It will give all keywords of python"
   ]
  },
  {
   "cell_type": "code",
   "execution_count": null,
   "id": "7a9ef08d",
   "metadata": {},
   "outputs": [],
   "source": [
    "# len() \n",
    "len(keyword.kwlist)"
   ]
  },
  {
   "cell_type": "markdown",
   "id": "c15e70c8",
   "metadata": {},
   "source": [
    "# Identifiers"
   ]
  },
  {
   "cell_type": "markdown",
   "id": "41911e15",
   "metadata": {},
   "source": [
    "* An identifier is the name given to entities like functions,variables etc.\n",
    "* It helps in differentiating one entity from other."
   ]
  },
  {
   "cell_type": "code",
   "execution_count": null,
   "id": "66cb1403",
   "metadata": {},
   "outputs": [],
   "source": [
    "2var=34  #identifier can not be initiated with digit."
   ]
  },
  {
   "cell_type": "code",
   "execution_count": null,
   "id": "c100d47b",
   "metadata": {},
   "outputs": [],
   "source": [
    "var@123='abc' # Identifer cannot use special symbol "
   ]
  },
  {
   "cell_type": "code",
   "execution_count": null,
   "id": "57ac31ff",
   "metadata": {
    "scrolled": true
   },
   "outputs": [],
   "source": [
    "import=123 # Keywords cannot be used as identifier"
   ]
  },
  {
   "cell_type": "code",
   "execution_count": null,
   "id": "2bba50bc",
   "metadata": {},
   "outputs": [],
   "source": [
    "\"\"\"\n",
    "Correct way of defining an identifier\n",
    "(Identifiers can be a combination of letters in lowercase (a to z) or uppercase and only\n",
    "special chararcter allowed is _) \"\"\"\n",
    "\n",
    "\n",
    "var=2\n",
    "# var is entity called as variable has been created and assigned with value of 2"
   ]
  },
  {
   "cell_type": "code",
   "execution_count": null,
   "id": "1f250660",
   "metadata": {},
   "outputs": [],
   "source": [
    "_VAR3 = 3\n",
    "var = 3\n",
    "var2c = 3"
   ]
  },
  {
   "cell_type": "code",
   "execution_count": null,
   "id": "683313e3",
   "metadata": {},
   "outputs": [],
   "source": [
    "var_12='Data'"
   ]
  },
  {
   "cell_type": "markdown",
   "id": "97b903b7",
   "metadata": {},
   "source": [
    "# Comments"
   ]
  },
  {
   "cell_type": "markdown",
   "id": "d915980a",
   "metadata": {},
   "source": [
    "* Comments can be used to explain the code for more readabilty."
   ]
  },
  {
   "cell_type": "code",
   "execution_count": null,
   "id": "bba78a99",
   "metadata": {},
   "outputs": [],
   "source": [
    "# Creating a variable \n",
    "val1 = 10"
   ]
  },
  {
   "cell_type": "code",
   "execution_count": null,
   "id": "2f772d53",
   "metadata": {},
   "outputs": [],
   "source": [
    "# Multiple \n",
    "# line\n",
    "# comment"
   ]
  },
  {
   "cell_type": "code",
   "execution_count": null,
   "id": "31a80171",
   "metadata": {},
   "outputs": [],
   "source": [
    "'''\n",
    "Multiple line\n",
    "comment ''' "
   ]
  },
  {
   "cell_type": "code",
   "execution_count": null,
   "id": "c700542b",
   "metadata": {},
   "outputs": [],
   "source": [
    "\"\"\"\n",
    "Multiple \n",
    "line\n",
    "comment \"\"\"\n",
    "\n",
    "val1= 10\n"
   ]
  },
  {
   "cell_type": "markdown",
   "id": "a76869bd",
   "metadata": {},
   "source": [
    "# Statements"
   ]
  },
  {
   "cell_type": "markdown",
   "id": "8bf438c4",
   "metadata": {},
   "source": [
    "* Instructions that a Python interpreter can execute."
   ]
  },
  {
   "cell_type": "code",
   "execution_count": null,
   "id": "49b580e9",
   "metadata": {},
   "outputs": [],
   "source": [
    "# Single line statement\n",
    "p2 = ['a' , 'b' , 'c' , 'd']\n",
    "p2\n"
   ]
  },
  {
   "cell_type": "code",
   "execution_count": null,
   "id": "0465af83",
   "metadata": {},
   "outputs": [],
   "source": [
    "# Multiple line statement\n",
    "p1 = 20 + 30 \\\n",
    "+  40  +  50  \\\n",
    "+ 70 + 80\n",
    "\n",
    "p1\n"
   ]
  },
  {
   "cell_type": "markdown",
   "id": "88031484",
   "metadata": {},
   "source": [
    "# Indentation"
   ]
  },
  {
   "cell_type": "markdown",
   "id": "24395cc4",
   "metadata": {},
   "source": [
    "* Indentation refers to the spaces at the beginning of a code line. It is very important \n",
    "as Python uses indentation to indicate a block of code.If the indentation is not \n",
    "correct we will endup with IndentationError error."
   ]
  },
  {
   "cell_type": "code",
   "execution_count": null,
   "id": "e56b8e0a",
   "metadata": {
    "scrolled": true
   },
   "outputs": [],
   "source": [
    "# if indentation is skipped we will encounter \"IndentationError: expected an ind\n",
    "p = 10\n",
    "if  p  ==  10:    \n",
    "    print ('P is equal to 10')\n"
   ]
  },
  {
   "cell_type": "code",
   "execution_count": null,
   "id": "11262e4e",
   "metadata": {},
   "outputs": [],
   "source": [
    "p = 10\n",
    "if  p  ==  12:\n",
    "    print('Correct Indentation') \n",
    "    \n",
    "print('hi')"
   ]
  },
  {
   "cell_type": "markdown",
   "id": "a130bd3a",
   "metadata": {},
   "source": [
    "# Docstrings"
   ]
  },
  {
   "cell_type": "markdown",
   "id": "39dde5a3",
   "metadata": {},
   "source": [
    "\n",
    "1)\tDocstrings provide a convenient way of associating documentation with functions, \n",
    "classes, methods or modules.\n",
    "\n",
    "2)\tThey appear right after the definition of a function, method, class, or module.\n"
   ]
  },
  {
   "cell_type": "code",
   "execution_count": null,
   "id": "be7d1c17",
   "metadata": {},
   "outputs": [],
   "source": [
    "def  square(num):\n",
    "    '''Square Function :- This function will return the square of a number'''\n",
    "    return num**2"
   ]
  },
  {
   "cell_type": "code",
   "execution_count": null,
   "id": "7b59cc3e",
   "metadata": {},
   "outputs": [],
   "source": [
    "square(5)"
   ]
  },
  {
   "cell_type": "code",
   "execution_count": null,
   "id": "20038a88",
   "metadata": {},
   "outputs": [],
   "source": [
    "square.__doc__"
   ]
  },
  {
   "cell_type": "code",
   "execution_count": null,
   "id": "d11dddca",
   "metadata": {},
   "outputs": [],
   "source": [
    "print(square.__doc__)  # We can access the Docstring using doc method"
   ]
  },
  {
   "cell_type": "code",
   "execution_count": null,
   "id": "9310d505",
   "metadata": {
    "scrolled": false
   },
   "outputs": [],
   "source": [
    "help(square)"
   ]
  },
  {
   "cell_type": "markdown",
   "id": "a48922a0",
   "metadata": {},
   "source": [
    "# Variables"
   ]
  },
  {
   "cell_type": "markdown",
   "id": "33961071",
   "metadata": {},
   "source": [
    "*  A Python variable is a reserved memory location to store values.A variable is \n",
    "created the moment you first assign a value to it.\n"
   ]
  },
  {
   "cell_type": "code",
   "execution_count": null,
   "id": "85427289",
   "metadata": {},
   "outputs": [],
   "source": [
    "p=30"
   ]
  },
  {
   "cell_type": "code",
   "execution_count": null,
   "id": "1367854c",
   "metadata": {},
   "outputs": [],
   "source": [
    "p"
   ]
  },
  {
   "cell_type": "code",
   "execution_count": null,
   "id": "3424e9fb",
   "metadata": {},
   "outputs": [],
   "source": [
    "a=4 # Create a variable a and assign the value 4.\n",
    "b = 6"
   ]
  },
  {
   "cell_type": "code",
   "execution_count": null,
   "id": "33a88b02",
   "metadata": {},
   "outputs": [],
   "source": [
    "a # This is how we call variable\n",
    "b"
   ]
  },
  {
   "cell_type": "code",
   "execution_count": null,
   "id": "377c75f6",
   "metadata": {},
   "outputs": [],
   "source": [
    "print(a) # Print function is used to print outputs\n",
    "print(b)"
   ]
  },
  {
   "cell_type": "code",
   "execution_count": null,
   "id": "9c8a0bc3",
   "metadata": {},
   "outputs": [],
   "source": [
    "print('This is the value of a:', a)"
   ]
  },
  {
   "cell_type": "code",
   "execution_count": null,
   "id": "ad65dafa",
   "metadata": {},
   "outputs": [],
   "source": [
    "print('This is print function')"
   ]
  },
  {
   "cell_type": "code",
   "execution_count": null,
   "id": "016fda5e",
   "metadata": {},
   "outputs": [],
   "source": [
    "type(a) # To know the datatype of python objects"
   ]
  },
  {
   "cell_type": "markdown",
   "id": "1f40f00f",
   "metadata": {},
   "source": [
    "id():\n",
    "We can find the address of a variable using the id function.\n",
    "This function returns an integer that indicates the virtual address of that variable."
   ]
  },
  {
   "cell_type": "code",
   "execution_count": null,
   "id": "9c2fdbda",
   "metadata": {},
   "outputs": [],
   "source": [
    "'''\n",
    "id() function returns the “identity” of the object. \n",
    "The identity of an object - Is an integer\n",
    " - Guaranteed to be unique\n",
    " - Constant for this object during its lifetime. \n",
    "'''\n",
    "id(p)"
   ]
  },
  {
   "cell_type": "markdown",
   "id": "f427d9bd",
   "metadata": {},
   "source": [
    "The above address can be converted to hexadecimal format using hex function.\n",
    "hex() returns the hexadecimal value"
   ]
  },
  {
   "cell_type": "code",
   "execution_count": null,
   "id": "1cbe041e",
   "metadata": {
    "scrolled": true
   },
   "outputs": [],
   "source": [
    "#hex()\n",
    "hex(id(p)) # Memory address of the variable in hexadecimal format"
   ]
  },
  {
   "cell_type": "code",
   "execution_count": null,
   "id": "dc5abf36",
   "metadata": {},
   "outputs": [],
   "source": [
    "p  =  20  #Creates  an  integer object with value 20  and  assigns the variable p  to p \n",
    "q = 20   # Create new reference q which will point to value 20. p & q will be poiting to 20. \n",
    "r = q  #  variable r will also point to the same location where  p  &  q  are pointing.\n"
   ]
  },
  {
   "cell_type": "code",
   "execution_count": null,
   "id": "d1da22e4",
   "metadata": {},
   "outputs": [],
   "source": [
    "type(p), hex(id(p)) "
   ]
  },
  {
   "cell_type": "code",
   "execution_count": null,
   "id": "b4198a7b",
   "metadata": {
    "scrolled": true
   },
   "outputs": [],
   "source": [
    "q , type(q), hex(id(q))"
   ]
  },
  {
   "cell_type": "code",
   "execution_count": null,
   "id": "f3f26b49",
   "metadata": {},
   "outputs": [],
   "source": [
    "r, type(r),hex(id(r))"
   ]
  },
  {
   "attachments": {
    "image.png": {
     "image/png": "[encoded data removed]"
    }
   },
   "cell_type": "markdown",
   "id": "3357de40",
   "metadata": {},
   "source": [
    "![image.png](attachment:image.png)"
   ]
  },
  {
   "cell_type": "markdown",
   "id": "c4e3a2d2",
   "metadata": {},
   "source": [
    "# Variable Assignment"
   ]
  },
  {
   "cell_type": "code",
   "execution_count": null,
   "id": "f741d376",
   "metadata": {
    "scrolled": true
   },
   "outputs": [],
   "source": [
    "intv = 10 # Integer variable\n",
    "floatvar = 2.57 # Float Variable\n",
    "strvar = \"Python Language\" # String variable\n",
    "\n",
    "print(intv)\n",
    "print(floatvar)\n",
    "print(strvar)"
   ]
  },
  {
   "cell_type": "markdown",
   "id": "aff84426",
   "metadata": {},
   "source": [
    "# Multiple Assignment"
   ]
  },
  {
   "cell_type": "code",
   "execution_count": null,
   "id": "d4683b2a",
   "metadata": {
    "scrolled": true
   },
   "outputs": [],
   "source": [
    "intvar , floatvar , strvar = 10, 2.57, \"Python Language\" # Using commas to separate variables\n",
    "print(intvar)\n",
    "print(floatvar)\n",
    "print(strvar)"
   ]
  },
  {
   "cell_type": "code",
   "execution_count": null,
   "id": "f486c066",
   "metadata": {},
   "outputs": [],
   "source": [
    "print(intvar,floatvar,strvar)"
   ]
  },
  {
   "cell_type": "code",
   "execution_count": null,
   "id": "1644ff55",
   "metadata": {
    "scrolled": true
   },
   "outputs": [],
   "source": [
    "p1 = p2 = p3 = p4 = 44 # All variables pointing to same value\n",
    "#print(p1,p2,p3,p4)\n",
    "\n",
    "print(p1,\"\\n\",p2,\"\\n\",p3,\"\\n\",p4)"
   ]
  },
  {
   "cell_type": "code",
   "execution_count": null,
   "id": "40ff3e5a",
   "metadata": {},
   "outputs": [],
   "source": [
    "print(p1,p2,p3,p4,sep='\\n')"
   ]
  },
  {
   "cell_type": "markdown",
   "id": "37f99688",
   "metadata": {},
   "source": [
    "# Data Types"
   ]
  },
  {
   "cell_type": "markdown",
   "id": "5a9a8cd3",
   "metadata": {},
   "source": [
    "## Numeric "
   ]
  },
  {
   "cell_type": "code",
   "execution_count": null,
   "id": "e3f338ef",
   "metadata": {},
   "outputs": [],
   "source": [
    "import sys"
   ]
  },
  {
   "cell_type": "code",
   "execution_count": null,
   "id": "7515e270",
   "metadata": {
    "scrolled": true
   },
   "outputs": [],
   "source": [
    "val1 = 10 # Integer data type\n",
    "print(val1)\n",
    "print(type(val1)) # type of object\n",
    "print(sys.getsizeof(val1)) # size of integer object in bytes \n",
    "print(val1, \" is Integer?\", isinstance(val1, float)) # val1 is an instance of int datatype"
   ]
  },
  {
   "cell_type": "code",
   "execution_count": null,
   "id": "2fa04823",
   "metadata": {
    "scrolled": true
   },
   "outputs": [],
   "source": [
    "val2 = 92.78 # Float data type\n",
    "print(val2)\n",
    "print(type(val2)) # type of object\n",
    "print(sys.getsizeof(val2)) # size of float object in bytes\n",
    "print(val2, \" is float?\", isinstance(val2, int)) # Val2 is an instance of float"
   ]
  },
  {
   "cell_type": "code",
   "execution_count": null,
   "id": "61eda00f",
   "metadata": {},
   "outputs": [],
   "source": [
    "val3 = 25 + 10j # Complex data type\n",
    "print(val3)\n",
    "print(type(val3)) # type of object\n",
    "print(sys.getsizeof(val3)) # size of float object in bytes\n",
    "print(val3, \" is complex?\", isinstance(val3, complex)) # val3 is an instance of complex"
   ]
  },
  {
   "cell_type": "markdown",
   "id": "d7c74ac7",
   "metadata": {},
   "source": [
    "## Boolean"
   ]
  },
  {
   "cell_type": "markdown",
   "id": "807bb3c7",
   "metadata": {},
   "source": [
    "* Boolean data type can have only two possible values true or false."
   ]
  },
  {
   "cell_type": "code",
   "execution_count": null,
   "id": "052cf431",
   "metadata": {},
   "outputs": [],
   "source": [
    "b1= True"
   ]
  },
  {
   "cell_type": "code",
   "execution_count": null,
   "id": "9cb97c89",
   "metadata": {},
   "outputs": [],
   "source": [
    "b2=False"
   ]
  },
  {
   "cell_type": "code",
   "execution_count": null,
   "id": "0f453174",
   "metadata": {
    "scrolled": true
   },
   "outputs": [],
   "source": [
    "type(b1)"
   ]
  },
  {
   "cell_type": "code",
   "execution_count": null,
   "id": "6211346a",
   "metadata": {},
   "outputs": [],
   "source": [
    "isinstance(b1, bool)"
   ]
  },
  {
   "cell_type": "code",
   "execution_count": null,
   "id": "8c600c49",
   "metadata": {
    "scrolled": true
   },
   "outputs": [],
   "source": [
    "bool(0)"
   ]
  },
  {
   "cell_type": "code",
   "execution_count": null,
   "id": "5b17409e",
   "metadata": {},
   "outputs": [],
   "source": [
    "bool(-98) # Anything apart from 0 everything is True"
   ]
  },
  {
   "cell_type": "code",
   "execution_count": null,
   "id": "87c9bad4",
   "metadata": {},
   "outputs": [],
   "source": [
    "bool(2.3)"
   ]
  },
  {
   "cell_type": "markdown",
   "id": "b40a9db7",
   "metadata": {},
   "source": [
    "## String\n",
    "Strings are used for processing text data in Python. "
   ]
  },
  {
   "cell_type": "markdown",
   "id": "6580adac",
   "metadata": {},
   "source": [
    "###  String creation"
   ]
  },
  {
   "cell_type": "code",
   "execution_count": null,
   "id": "54346673",
   "metadata": {},
   "outputs": [],
   "source": [
    "str1 = \"HELLO PYTHON\"\n",
    "print(str1)\n",
    "type(str1)"
   ]
  },
  {
   "cell_type": "code",
   "execution_count": null,
   "id": "34012e79",
   "metadata": {},
   "outputs": [],
   "source": [
    "mystr = 'Hello World' # Define string using single quotes\n",
    "print(mystr)"
   ]
  },
  {
   "cell_type": "code",
   "execution_count": null,
   "id": "b3e60e59",
   "metadata": {},
   "outputs": [],
   "source": [
    "mystr2='Woohoo '\n",
    "mystr2=mystr2 * 3\n",
    "print(mystr2)\n",
    "type(mystr2)"
   ]
  },
  {
   "cell_type": "markdown",
   "id": "21e9ae35",
   "metadata": {},
   "source": [
    "### String indexing\n",
    "While processing strings, we often need to access a certain part of the string. We can extract parts of a string using indexing in Python. In python, we can use positive as well as negative numbers for string indexing."
   ]
  },
  {
   "attachments": {
    "image.png": {
     "image/png": "[encoded data removed]"
    }
   },
   "cell_type": "markdown",
   "id": "6ba02321",
   "metadata": {},
   "source": [
    "![image.png](attachment:image.png)"
   ]
  },
  {
   "cell_type": "code",
   "execution_count": null,
   "id": "cd4091f8",
   "metadata": {
    "scrolled": true
   },
   "outputs": [],
   "source": [
    "str1 = \"HELLO PYTHON\"\n",
    "str1"
   ]
  },
  {
   "cell_type": "code",
   "execution_count": null,
   "id": "bb12a213",
   "metadata": {},
   "outputs": [],
   "source": [
    "str1[0] # First character in string \"str1\""
   ]
  },
  {
   "cell_type": "code",
   "execution_count": null,
   "id": "f4bc7dfc",
   "metadata": {},
   "outputs": [],
   "source": [
    "len(str1) # Number of elements in given string."
   ]
  },
  {
   "cell_type": "code",
   "execution_count": null,
   "id": "2e238e59",
   "metadata": {},
   "outputs": [],
   "source": [
    "str1[len(str1)-1] # Last character in string using len functio"
   ]
  },
  {
   "cell_type": "code",
   "execution_count": null,
   "id": "686c1440",
   "metadata": {},
   "outputs": [],
   "source": [
    "str1[-1] # Last character in string"
   ]
  },
  {
   "cell_type": "code",
   "execution_count": null,
   "id": "d64f7a19",
   "metadata": {},
   "outputs": [],
   "source": [
    "str1"
   ]
  },
  {
   "cell_type": "code",
   "execution_count": null,
   "id": "ae641b47",
   "metadata": {},
   "outputs": [],
   "source": [
    "str1[11]"
   ]
  },
  {
   "cell_type": "code",
   "execution_count": null,
   "id": "123531e7",
   "metadata": {
    "scrolled": true
   },
   "outputs": [],
   "source": [
    "str1[6] #Fetch 7th element of the string"
   ]
  },
  {
   "cell_type": "code",
   "execution_count": null,
   "id": "47f9ed1c",
   "metadata": {},
   "outputs": [],
   "source": [
    "str1[5]"
   ]
  },
  {
   "cell_type": "markdown",
   "id": "617e14ce",
   "metadata": {},
   "source": [
    "### String Slicing"
   ]
  },
  {
   "cell_type": "code",
   "execution_count": null,
   "id": "803eef0b",
   "metadata": {},
   "outputs": [],
   "source": [
    "str1"
   ]
  },
  {
   "cell_type": "code",
   "execution_count": null,
   "id": "cb2c62f1",
   "metadata": {},
   "outputs": [],
   "source": [
    "str1[0:5] # String slicing - Fetch all characters from 0 to 5 index \n",
    "# location excluding the upper limit"
   ]
  },
  {
   "cell_type": "code",
   "execution_count": null,
   "id": "f59e906f",
   "metadata": {},
   "outputs": [],
   "source": [
    "str1[6:20] # String slicing - Retreive all characters between 6 - 12 index loc excluding the upper limit"
   ]
  },
  {
   "cell_type": "code",
   "execution_count": null,
   "id": "8146ce76",
   "metadata": {},
   "outputs": [],
   "source": [
    "str1 [-7:-4]"
   ]
  },
  {
   "cell_type": "code",
   "execution_count": null,
   "id": "0882fb00",
   "metadata": {},
   "outputs": [],
   "source": [
    "str2='Data is new fuel'\n",
    "# Task:-Extract new from above string"
   ]
  },
  {
   "cell_type": "code",
   "execution_count": null,
   "id": "bf289d10",
   "metadata": {},
   "outputs": [],
   "source": [
    "print(str2[8:11])"
   ]
  },
  {
   "cell_type": "code",
   "execution_count": null,
   "id": "73331cfa",
   "metadata": {},
   "outputs": [],
   "source": [
    "str1 = \"HELLO PYTHON\"\n",
    "str1"
   ]
  },
  {
   "cell_type": "code",
   "execution_count": null,
   "id": "59a24210",
   "metadata": {},
   "outputs": [],
   "source": [
    "str1[-6:] # Retreive last six characters of the string"
   ]
  },
  {
   "cell_type": "code",
   "execution_count": null,
   "id": "b9980e4c",
   "metadata": {},
   "outputs": [],
   "source": [
    "str1[-11:-6]"
   ]
  },
  {
   "cell_type": "code",
   "execution_count": null,
   "id": "67a23f12",
   "metadata": {},
   "outputs": [],
   "source": [
    "str1[-1:-11]"
   ]
  },
  {
   "cell_type": "code",
   "execution_count": null,
   "id": "a0a6b758",
   "metadata": {
    "scrolled": true
   },
   "outputs": [],
   "source": [
    "str1[:] # All characters "
   ]
  },
  {
   "cell_type": "code",
   "execution_count": null,
   "id": "d8894020",
   "metadata": {},
   "outputs": [],
   "source": [
    "str1[:5]"
   ]
  },
  {
   "cell_type": "code",
   "execution_count": null,
   "id": "17d3e24e",
   "metadata": {},
   "outputs": [],
   "source": [
    "str1[4:]"
   ]
  },
  {
   "cell_type": "markdown",
   "id": "26ea1f22",
   "metadata": {},
   "source": [
    "### Update and Delete string"
   ]
  },
  {
   "cell_type": "markdown",
   "id": "8be8dec6",
   "metadata": {},
   "source": [
    "* Strings are immutable which means elements of a\n",
    "string cannot be changed once they are assigned with\n",
    "any values\n"
   ]
  },
  {
   "cell_type": "code",
   "execution_count": null,
   "id": "b48e5be5",
   "metadata": {},
   "outputs": [],
   "source": [
    "str1"
   ]
  },
  {
   "cell_type": "code",
   "execution_count": null,
   "id": "67aec6de",
   "metadata": {
    "scrolled": true
   },
   "outputs": [],
   "source": [
    "str1[0:5]='HEYA'"
   ]
  },
  {
   "cell_type": "code",
   "execution_count": null,
   "id": "14da5e50",
   "metadata": {
    "scrolled": true
   },
   "outputs": [],
   "source": [
    "del str1 # Delete a string"
   ]
  },
  {
   "cell_type": "code",
   "execution_count": null,
   "id": "1500df89",
   "metadata": {},
   "outputs": [],
   "source": [
    "str1"
   ]
  },
  {
   "cell_type": "markdown",
   "id": "b5b59f30",
   "metadata": {},
   "source": [
    "### String concatenation\n"
   ]
  },
  {
   "cell_type": "code",
   "execution_count": null,
   "id": "4c2cc25b",
   "metadata": {},
   "outputs": [],
   "source": [
    "#  String concatenation\n",
    "s1 = \"Data\"\n",
    "s2 = \"Science\"\n",
    "s3 = s1 + s2"
   ]
  },
  {
   "cell_type": "code",
   "execution_count": null,
   "id": "ab79168c",
   "metadata": {},
   "outputs": [],
   "source": [
    "s1"
   ]
  },
  {
   "cell_type": "code",
   "execution_count": null,
   "id": "bb5628b2",
   "metadata": {},
   "outputs": [],
   "source": [
    "s2"
   ]
  },
  {
   "cell_type": "code",
   "execution_count": null,
   "id": "668e22ee",
   "metadata": {
    "scrolled": true
   },
   "outputs": [],
   "source": [
    "print(s3)"
   ]
  },
  {
   "cell_type": "code",
   "execution_count": null,
   "id": "b9a1bc0e",
   "metadata": {},
   "outputs": [],
   "source": [
    "#  String concatenation\n",
    "s1 = \"Data\"\n",
    "s2 = \"Science\"\n",
    "s3 = s1 +\" \"+ s2"
   ]
  },
  {
   "cell_type": "code",
   "execution_count": null,
   "id": "d8f423bd",
   "metadata": {},
   "outputs": [],
   "source": [
    "print(s3)"
   ]
  },
  {
   "cell_type": "markdown",
   "id": "7b1f3379",
   "metadata": {},
   "source": [
    "### String Membership"
   ]
  },
  {
   "cell_type": "code",
   "execution_count": null,
   "id": "86d2b79a",
   "metadata": {},
   "outputs": [],
   "source": [
    "# String membership\n",
    "mystr1 = \"Hello Everyone\"\n",
    "mystr1"
   ]
  },
  {
   "cell_type": "code",
   "execution_count": null,
   "id": "073089bb",
   "metadata": {},
   "outputs": [],
   "source": [
    "print ('hello' in mystr1) # Check whether substring \"Hello\" is present in given string - Returns True/False"
   ]
  },
  {
   "cell_type": "code",
   "execution_count": null,
   "id": "9c9a0c62",
   "metadata": {},
   "outputs": [],
   "source": [
    "print ('Everyone' in mystr1) # Check whether substring \"Everyone\" is present in given string\n",
    "print ('Hi' in mystr1) # Check whether substring \"Hi\" is present in given string "
   ]
  },
  {
   "cell_type": "markdown",
   "id": "8ece4e99",
   "metadata": {},
   "source": [
    "### String Partioning"
   ]
  },
  {
   "cell_type": "code",
   "execution_count": null,
   "id": "0ba08747",
   "metadata": {},
   "outputs": [],
   "source": [
    "\"\"\"\n",
    "The partition() method searches for a specified string and splits the string into\n",
    " - The first element contains the part before the argument string.\n",
    " - The second element contains the argument string.\n",
    " - The third element contains the part after the argument string.\n",
    "\"\"\"\n",
    "\n",
    "\n",
    "str5 = \"Natural language processing with Python and R and Java\"\n",
    "str5.partition(\"and\") \n",
    "\n",
    "\n",
    "L = str5.partition(\"Python\") \n",
    "print(L)"
   ]
  },
  {
   "cell_type": "code",
   "execution_count": null,
   "id": "17a5f6a5",
   "metadata": {},
   "outputs": [],
   "source": [
    "Var = 'Hi this is Sathwik'\n",
    "Var1 = Var.partition('is')\n",
    "print(Var1)  \n"
   ]
  },
  {
   "cell_type": "markdown",
   "id": "8c3d4fc9",
   "metadata": {},
   "source": [
    "### String Functions"
   ]
  },
  {
   "cell_type": "code",
   "execution_count": null,
   "id": "be81f2fa",
   "metadata": {},
   "outputs": [],
   "source": [
    "mystr2 = \" Hello Everyone \"\n",
    "mystr2"
   ]
  },
  {
   "cell_type": "code",
   "execution_count": null,
   "id": "e7a3b771",
   "metadata": {},
   "outputs": [],
   "source": [
    "mystr2.strip() # Removes white space from begining & end"
   ]
  },
  {
   "cell_type": "code",
   "execution_count": null,
   "id": "adfd0c11",
   "metadata": {
    "scrolled": true
   },
   "outputs": [],
   "source": [
    "mystr2.rstrip() # Removes all whitespaces at the end of the string"
   ]
  },
  {
   "cell_type": "code",
   "execution_count": null,
   "id": "ddba005e",
   "metadata": {
    "scrolled": true
   },
   "outputs": [],
   "source": [
    "mystr2.lstrip() # Removes all whitespaces at the begining of the string"
   ]
  },
  {
   "cell_type": "code",
   "execution_count": null,
   "id": "c747149b",
   "metadata": {},
   "outputs": [],
   "source": [
    "mystr2"
   ]
  },
  {
   "cell_type": "code",
   "execution_count": null,
   "id": "b7afef19",
   "metadata": {},
   "outputs": [],
   "source": [
    "mystr2 = \"*********Hello Everyone***********All the Best**********\"\n",
    "mystr2"
   ]
  },
  {
   "cell_type": "code",
   "execution_count": null,
   "id": "dbb00304",
   "metadata": {
    "scrolled": true
   },
   "outputs": [],
   "source": [
    "mystr2.strip('*') # Removes all '*' characters from beginning \n",
    "#& end of the string"
   ]
  },
  {
   "cell_type": "code",
   "execution_count": null,
   "id": "445c7f26",
   "metadata": {},
   "outputs": [],
   "source": [
    "# rstrip,lstrip"
   ]
  },
  {
   "cell_type": "code",
   "execution_count": null,
   "id": "a61e8d4f",
   "metadata": {},
   "outputs": [],
   "source": [
    "st1 = \"hello how are you\"\n",
    "st1.strip(\"hello\")"
   ]
  },
  {
   "cell_type": "code",
   "execution_count": null,
   "id": "af7c9b10",
   "metadata": {},
   "outputs": [],
   "source": [
    "mystr2"
   ]
  },
  {
   "cell_type": "code",
   "execution_count": null,
   "id": "9a08cfda",
   "metadata": {},
   "outputs": [],
   "source": [
    "mystr2.lower()"
   ]
  },
  {
   "cell_type": "code",
   "execution_count": null,
   "id": "340e2449",
   "metadata": {
    "scrolled": true
   },
   "outputs": [],
   "source": [
    "mystr2.upper()"
   ]
  },
  {
   "cell_type": "code",
   "execution_count": null,
   "id": "f8eb385a",
   "metadata": {},
   "outputs": [],
   "source": [
    "mystr2"
   ]
  },
  {
   "cell_type": "code",
   "execution_count": null,
   "id": "7f5a1f0b",
   "metadata": {},
   "outputs": [],
   "source": [
    "mystr2.replace('He','HI')"
   ]
  },
  {
   "cell_type": "code",
   "execution_count": null,
   "id": "ec2faeac",
   "metadata": {},
   "outputs": [],
   "source": [
    "mystr2=mystr2.replace('HI', 'He')"
   ]
  },
  {
   "cell_type": "code",
   "execution_count": null,
   "id": "55ca5302",
   "metadata": {},
   "outputs": [],
   "source": [
    "mystr2"
   ]
  },
  {
   "cell_type": "code",
   "execution_count": null,
   "id": "ba2d6448",
   "metadata": {},
   "outputs": [],
   "source": [
    "#count()\n",
    "mystr3 = \"one two Three one two two three\""
   ]
  },
  {
   "cell_type": "code",
   "execution_count": null,
   "id": "74926b2c",
   "metadata": {},
   "outputs": [],
   "source": [
    "mystr3.count('two')"
   ]
  },
  {
   "cell_type": "code",
   "execution_count": null,
   "id": "fad85656",
   "metadata": {},
   "outputs": [],
   "source": [
    "# Return boolean value True if string starts with \"on\"\n",
    "mystr3.startswith(\"two\")"
   ]
  },
  {
   "cell_type": "code",
   "execution_count": null,
   "id": "6305a0b1",
   "metadata": {
    "scrolled": true
   },
   "outputs": [],
   "source": [
    "# Return boolean value True if string ends with \"rte\"\n",
    "mystr3.endswith(\"ree\") "
   ]
  },
  {
   "cell_type": "code",
   "execution_count": null,
   "id": "f7d7c529",
   "metadata": {},
   "outputs": [],
   "source": [
    "#split()\n",
    "mystr4 = \"one two three four one two two three five five five six seven six seven one five oneone ten eight ten nine eleven ten ten nine\""
   ]
  },
  {
   "cell_type": "code",
   "execution_count": null,
   "id": "fcb30b96",
   "metadata": {},
   "outputs": [],
   "source": [
    "mystr4.split()"
   ]
  },
  {
   "cell_type": "code",
   "execution_count": null,
   "id": "99d413e4",
   "metadata": {},
   "outputs": [],
   "source": [
    "mystr4.split('five')"
   ]
  },
  {
   "cell_type": "code",
   "execution_count": null,
   "id": "a8c2ae2d",
   "metadata": {},
   "outputs": [],
   "source": [
    "mystr = \"The main idea of this is to explain about the split\"\n",
    "mystr.split('five')"
   ]
  },
  {
   "cell_type": "code",
   "execution_count": null,
   "id": "488eee1e",
   "metadata": {},
   "outputs": [],
   "source": [
    "a = 5\n",
    "print(\"this is the value of a: \", a)"
   ]
  },
  {
   "cell_type": "markdown",
   "id": "06d39b9d",
   "metadata": {},
   "source": [
    "### format()"
   ]
  },
  {
   "cell_type": "code",
   "execution_count": null,
   "id": "f5720d76",
   "metadata": {},
   "outputs": [],
   "source": [
    "#format()\n",
    "a = 5\n",
    "b = 6\n",
    "print(\"The value of a and b is \", a, b)"
   ]
  },
  {
   "cell_type": "code",
   "execution_count": null,
   "id": "a959454a",
   "metadata": {},
   "outputs": [],
   "source": [
    "# format() uses placeholder {}\n",
    "print(\"the value of a is {} and b is {}\".format(a, b))"
   ]
  },
  {
   "cell_type": "code",
   "execution_count": null,
   "id": "0362f463",
   "metadata": {},
   "outputs": [],
   "source": [
    "# Combining string & numbers using format method\n",
    "a=5\n",
    "b=3\n",
    "c=9\n",
    "print('The value of a is {} and the value of b is {} value of c is {}  '.format(a, b, c))"
   ]
  },
  {
   "cell_type": "code",
   "execution_count": null,
   "id": "ff8f5f98",
   "metadata": {},
   "outputs": [],
   "source": [
    "item1 = 40\n",
    "item2 = 55\n",
    "item3 = 77\n",
    "res = \"Cost of item1 , item2 and item3 are {} , {} and {}\"\n",
    "print(res.format(item1,item2,item3))\n"
   ]
  },
  {
   "cell_type": "code",
   "execution_count": null,
   "id": "ec360f03",
   "metadata": {},
   "outputs": [],
   "source": [
    "# using format() method and referring to the position of the object\n",
    "\n",
    "print('{0} and {1}'.format('Geeks', 'Portal'))"
   ]
  },
  {
   "cell_type": "raw",
   "id": "7a336ac2",
   "metadata": {},
   "source": [
    "To use formatted string (f-string), begin a string with f or F before the opening quotation mark."
   ]
  },
  {
   "cell_type": "code",
   "execution_count": null,
   "id": "f1f3cd4a",
   "metadata": {},
   "outputs": [],
   "source": [
    "# using f-Strings\n",
    "a=5\n",
    "b=3\n",
    "print(f\"The value of a is {a} and the value of b is {b} value of c is {a+b}\")"
   ]
  },
  {
   "cell_type": "raw",
   "id": "6169e1bb",
   "metadata": {},
   "source": [
    "Formatting output using String modulo operator(%)"
   ]
  },
  {
   "cell_type": "code",
   "execution_count": null,
   "id": "13464423",
   "metadata": {},
   "outputs": [],
   "source": [
    "# %d-int, %f-float, %s-str \n",
    "print(\"Geeks : %d, Portal : %f\" % (1, 05.333))"
   ]
  },
  {
   "cell_type": "code",
   "execution_count": null,
   "id": "dfbd53c4",
   "metadata": {},
   "outputs": [],
   "source": [
    "# 2d- 2 int characters, 5.2f - 2 precision values\n",
    "\n",
    "print(\"Geeks : %2d, Portal : %5.2f\" % (1, 05.333))"
   ]
  },
  {
   "cell_type": "markdown",
   "id": "ed364f92",
   "metadata": {},
   "source": [
    "# Typecasting"
   ]
  },
  {
   "cell_type": "markdown",
   "id": "1eee6a0d",
   "metadata": {},
   "source": [
    "* Type Casting is the method to convert the variable data type into a certain data type in order to the operation required to be performed by users.\n",
    "\n",
    "* There are 2 ways in which typecasting is performed.\n",
    "\n",
    "1) Autotypecasting\n",
    "\n",
    "\n",
    "2) Forced Typecasting"
   ]
  },
  {
   "cell_type": "markdown",
   "id": "202310c5",
   "metadata": {},
   "source": [
    "## Auto Typecasting\n",
    "* The Python interpreter automatically converts one data type to another without any user involvement. "
   ]
  },
  {
   "cell_type": "code",
   "execution_count": null,
   "id": "85f98668",
   "metadata": {
    "scrolled": true
   },
   "outputs": [],
   "source": [
    "4 + 5.67 + False # 4.0 + 5.6 + 0.0 ( background processing of the code) due to the  higher hierarchy of float datatype"
   ]
  },
  {
   "cell_type": "code",
   "execution_count": null,
   "id": "5ae66f4a",
   "metadata": {},
   "outputs": [],
   "source": [
    "4 + 5.6 + False + True # 4.0+5.6+0.0+1.0"
   ]
  },
  {
   "cell_type": "code",
   "execution_count": null,
   "id": "d2d1107a",
   "metadata": {
    "scrolled": true
   },
   "outputs": [],
   "source": [
    "4+3+'data'+6.7"
   ]
  },
  {
   "cell_type": "code",
   "execution_count": null,
   "id": "d272b730",
   "metadata": {
    "scrolled": true
   },
   "outputs": [],
   "source": [
    "True + 3 # True is convert int 1 / True : 1, False : 0"
   ]
  },
  {
   "cell_type": "markdown",
   "id": "86d08aae",
   "metadata": {},
   "source": [
    "## Forced Typecasting"
   ]
  },
  {
   "cell_type": "code",
   "execution_count": null,
   "id": "d42d6532",
   "metadata": {},
   "outputs": [],
   "source": [
    "a=9.7"
   ]
  },
  {
   "cell_type": "code",
   "execution_count": null,
   "id": "5c4bd907",
   "metadata": {},
   "outputs": [],
   "source": [
    "type(a)"
   ]
  },
  {
   "cell_type": "code",
   "execution_count": null,
   "id": "52c773ff",
   "metadata": {},
   "outputs": [],
   "source": [
    "int(a) #int()"
   ]
  },
  {
   "cell_type": "code",
   "execution_count": null,
   "id": "62a2c67f",
   "metadata": {},
   "outputs": [],
   "source": [
    "a=int(9.7)#coverting float type into int\n",
    "print(a)"
   ]
  },
  {
   "cell_type": "code",
   "execution_count": null,
   "id": "f4e7c68a",
   "metadata": {},
   "outputs": [],
   "source": [
    "int('data')"
   ]
  },
  {
   "cell_type": "code",
   "execution_count": null,
   "id": "bd684c6f",
   "metadata": {},
   "outputs": [],
   "source": [
    "int('7')"
   ]
  },
  {
   "cell_type": "code",
   "execution_count": null,
   "id": "9e8361d5",
   "metadata": {},
   "outputs": [],
   "source": [
    "int(True)"
   ]
  },
  {
   "cell_type": "code",
   "execution_count": null,
   "id": "75f03975",
   "metadata": {
    "scrolled": true
   },
   "outputs": [],
   "source": [
    "int(False)"
   ]
  },
  {
   "cell_type": "code",
   "execution_count": null,
   "id": "8210d728",
   "metadata": {},
   "outputs": [],
   "source": [
    "int('True')"
   ]
  },
  {
   "cell_type": "code",
   "execution_count": null,
   "id": "dc81f7e9",
   "metadata": {
    "scrolled": true
   },
   "outputs": [],
   "source": [
    "float(5)"
   ]
  },
  {
   "cell_type": "code",
   "execution_count": null,
   "id": "7fadaa1a",
   "metadata": {
    "scrolled": true
   },
   "outputs": [],
   "source": [
    "float(True)"
   ]
  },
  {
   "cell_type": "code",
   "execution_count": null,
   "id": "2c1e5c2c",
   "metadata": {},
   "outputs": [],
   "source": [
    "a='abc'  # Convert the datatype to float\n",
    "float(a)"
   ]
  },
  {
   "cell_type": "code",
   "execution_count": null,
   "id": "1eab5b02",
   "metadata": {},
   "outputs": [],
   "source": [
    "float('2.3')"
   ]
  },
  {
   "cell_type": "code",
   "execution_count": null,
   "id": "a6e03b79",
   "metadata": {},
   "outputs": [],
   "source": [
    "float('2')"
   ]
  },
  {
   "cell_type": "code",
   "execution_count": null,
   "id": "492e9667",
   "metadata": {},
   "outputs": [],
   "source": [
    "int('2.3')"
   ]
  },
  {
   "cell_type": "code",
   "execution_count": null,
   "id": "395b4aa7",
   "metadata": {
    "scrolled": true
   },
   "outputs": [],
   "source": [
    "bool(8.9)#converting float type into bool"
   ]
  },
  {
   "cell_type": "code",
   "execution_count": null,
   "id": "a48861ee",
   "metadata": {
    "scrolled": true
   },
   "outputs": [],
   "source": [
    "bool(0)"
   ]
  },
  {
   "cell_type": "code",
   "execution_count": null,
   "id": "00a8c882",
   "metadata": {
    "scrolled": true
   },
   "outputs": [],
   "source": [
    "bool(-5)"
   ]
  },
  {
   "cell_type": "code",
   "execution_count": null,
   "id": "c5d63c72",
   "metadata": {},
   "outputs": [],
   "source": [
    "bool(\"jack\")"
   ]
  },
  {
   "cell_type": "code",
   "execution_count": null,
   "id": "27847b53",
   "metadata": {},
   "outputs": [],
   "source": [
    "bool(\"\")"
   ]
  },
  {
   "cell_type": "code",
   "execution_count": null,
   "id": "6283294b",
   "metadata": {},
   "outputs": [],
   "source": [
    "bool(\" \")"
   ]
  },
  {
   "cell_type": "code",
   "execution_count": null,
   "id": "85eff29b",
   "metadata": {},
   "outputs": [],
   "source": [
    "# Guess the output\n",
    "print(int(1.5)+4+bool(0)) # 1+4+False # 1+4+0 = 5\n",
    "\n",
    "print(int(5.6)+float(6)+bool(23)) # 5+6.0+True = 5.0 + 6.0 + 1.0 \n",
    "\n",
    "print(int(6.5)+1.2+int(5.5)+ bool(0)) # 6 + 1.2 + 5 + False = 6.0+1.2+5.0+0.0"
   ]
  },
  {
   "cell_type": "code",
   "execution_count": null,
   "id": "d470ebd8",
   "metadata": {},
   "outputs": [],
   "source": [
    "print(int(5.6)+float(6)+bool(23))\n",
    "\n",
    "# 5 + 6.0 + True\n",
    "# 5.0 + 6.0 + 1.0\n"
   ]
  },
  {
   "cell_type": "code",
   "execution_count": null,
   "id": "a8c93b79",
   "metadata": {
    "scrolled": true
   },
   "outputs": [],
   "source": [
    "str(5)"
   ]
  },
  {
   "cell_type": "code",
   "execution_count": null,
   "id": "62476512",
   "metadata": {},
   "outputs": [],
   "source": [
    "str(9.0)"
   ]
  },
  {
   "cell_type": "code",
   "execution_count": null,
   "id": "434e87de",
   "metadata": {},
   "outputs": [],
   "source": [
    "a = str(True)\n",
    "a"
   ]
  },
  {
   "cell_type": "code",
   "execution_count": null,
   "id": "e365918c",
   "metadata": {},
   "outputs": [],
   "source": [
    "# int(), float(), bool(), str()"
   ]
  },
  {
   "cell_type": "code",
   "execution_count": null,
   "id": "a82b3e91",
   "metadata": {},
   "outputs": [],
   "source": []
  },
  {
   "cell_type": "code",
   "execution_count": null,
   "id": "4c2036e4",
   "metadata": {},
   "outputs": [],
   "source": []
  },
  {
   "cell_type": "code",
   "execution_count": null,
   "id": "ccc5bc1f",
   "metadata": {},
   "outputs": [],
   "source": []
  }
 ],
 "metadata": {
  "kernelspec": {
   "display_name": "Python 3 (ipykernel)",
   "language": "python",
   "name": "python3"
  },
  "language_info": {
   "codemirror_mode": {
    "name": "ipython",
    "version": 3
   },
   "file_extension": ".py",
   "mimetype": "text/x-python",
   "name": "python",
   "nbconvert_exporter": "python",
   "pygments_lexer": "ipython3",
   "version": "3.9.7"
  }
 },
 "nbformat": 4,
 "nbformat_minor": 5
}
