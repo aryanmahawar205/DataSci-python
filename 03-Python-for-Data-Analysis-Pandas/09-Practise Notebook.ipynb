{
 "cells": [
  {
   "cell_type": "markdown",
   "metadata": {},
   "source": [
    "## Pandas - Series\n",
    "\n",
    "Series in Pandas is just like a NumPy array. The only difference that lies here is that Series can have axis labels. Some data / object having an axis label means to say that it can be indexed by a label (which could essentially be anything you want) instead of the traditional 0 number indexing in Python. A series can also hold any arbitrary Python object or a collection of objects."
   ]
  },
  {
   "cell_type": "code",
   "execution_count": 15,
   "metadata": {},
   "outputs": [
    {
     "name": "stdout",
     "output_type": "stream",
     "text": [
      "Pandas Series using List (Traditional Index) - \n",
      " 0    10\n",
      "1    20\n",
      "2    30\n",
      "dtype: int64\n",
      "\n",
      "Pandas Series using List (Custom Index) - \n",
      " a    10\n",
      "b    20\n",
      "c    30\n",
      "dtype: int64\n",
      "\n",
      "Pandas Series using NumPy Array (Traditional Index) - \n",
      " 0    10\n",
      "1    20\n",
      "2    30\n",
      "dtype: int32\n",
      "\n",
      "Pandas Series using NumPy Array (Custom Index) - \n",
      " a    10\n",
      "b    20\n",
      "c    30\n",
      "dtype: int32\n",
      "\n",
      "Pandas Series using Dictionary - \n",
      " a    10\n",
      "b    20\n",
      "c    30\n",
      "dtype: int64\n"
     ]
    }
   ],
   "source": [
    "import numpy as np\n",
    "import pandas as pd\n",
    "\n",
    "# we could essentially convert a list, numpy array or a dictionary into a Pandas series\n",
    "\n",
    "keys = ['a', 'b', 'c'] # a regular Python list\n",
    "ls = [10, 20, 30] # a regular Python list\n",
    "arr = np.array(ls) # a numpy array\n",
    "d = {'a':10, 'b':20, 'c':30} # a Python dictionary\n",
    "\n",
    "# creating Pandas series using a list\n",
    "seriesListRegularIndexing = pd.Series(data=ls) # Series created will have traditional 0 based indexing\n",
    "print(\"Pandas Series using List (Traditional Index) - \\n\", seriesListRegularIndexing)\n",
    "seriesListCustomIndexing = pd.Series(data=ls, index=keys) # Series created will have indexing as specified in list Keys\n",
    "print(\"\\nPandas Series using List (Custom Index) - \\n\", seriesListCustomIndexing)\n",
    "\n",
    "# creating Pandas series using a NumPy array\n",
    "seriesArrayRegularIndexing = pd.Series(data=arr) # Series created will have traditional 0 based indexing\n",
    "print(\"\\nPandas Series using NumPy Array (Traditional Index) - \\n\", seriesArrayRegularIndexing)\n",
    "seriesArrayCustomIndexing = pd.Series(data=arr, index=keys) # Series created will have indexing as specified in list Keys\n",
    "print(\"\\nPandas Series using NumPy Array (Custom Index) - \\n\", seriesArrayCustomIndexing)\n",
    "\n",
    "# creating Pandas series using a Python Dictionary\n",
    "# by default in creation of Series using a Dictionary, the keys are mapped to the index and values as the the actual elements of the series\n",
    "seriesDict = pd.Series(data=d) # Series created will have traditional 0 based indexing\n",
    "print(\"\\nPandas Series using Dictionary - \\n\", seriesDict)"
   ]
  }
 ],
 "metadata": {
  "kernelspec": {
   "display_name": "Python 3",
   "language": "python",
   "name": "python3"
  },
  "language_info": {
   "codemirror_mode": {
    "name": "ipython",
    "version": 3
   },
   "file_extension": ".py",
   "mimetype": "text/x-python",
   "name": "python",
   "nbconvert_exporter": "python",
   "pygments_lexer": "ipython3",
   "version": "3.12.3"
  }
 },
 "nbformat": 4,
 "nbformat_minor": 2
}
