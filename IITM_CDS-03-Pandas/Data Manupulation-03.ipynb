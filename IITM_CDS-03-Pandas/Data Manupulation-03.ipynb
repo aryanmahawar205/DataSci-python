{
 "cells": [
  {
   "cell_type": "code",
   "execution_count": null,
   "metadata": {
    "id": "UyMhEK3RFYaG"
   },
   "outputs": [],
   "source": [
    "import pandas as pd\n",
    "import numpy as np"
   ]
  },
  {
   "cell_type": "code",
   "execution_count": null,
   "metadata": {
    "id": "o4SSfYZOFYaJ"
   },
   "outputs": [],
   "source": [
    "## reading the data from github\n",
    "data = pd.read_csv('train.csv')"
   ]
  },
  {
   "cell_type": "code",
   "execution_count": null,
   "metadata": {
    "id": "2E16kG4EFYaJ",
    "outputId": "3814fb0f-9a4b-44cd-9c5d-ecc99c10171b"
   },
   "outputs": [],
   "source": [
    "data"
   ]
  },
  {
   "cell_type": "raw",
   "metadata": {},
   "source": [
    "PassengerId\tUnique identifier of each passenger\n",
    "Survived\tWhether the passenger survived\n",
    "(0 = No, 1 = Yes)\n",
    "\n",
    "Pclass\tTicket class\n",
    "(1 = 1st class, 2 = 2nd class, 3 = 3rd class)\n",
    "\n",
    "Name-\tName of the passenger, title of the passenger is also included\n",
    "Gender-\tMale/female\n",
    "Age\t-   Age in years\n",
    "SibSp-\t# of siblings / spouses aboard the Titanic\n",
    "Parch-\t# of parents / children aboard the Titanic\n",
    "Ticket-\tTicket number\n",
    "Fare-\tFare amount\n",
    "Cabin-\tCabin number\n",
    "Embarked-\tPort of embarkation (port from which the ship depart)\n",
    "(C = Cherbourg, Q = Queenstown, S = Southampton)\n",
    "\n",
    "https://monicawongds.wordpress.com/2018/01/20/predicting-the-survival-of-titanic-passengers-part-1/"
   ]
  },
  {
   "cell_type": "code",
   "execution_count": null,
   "metadata": {
    "id": "lD6e42ewFYaK",
    "outputId": "8a6a0740-2c8b-4521-bd4b-8742b6adfccb"
   },
   "outputs": [],
   "source": [
    "##checking the head part\n",
    "data.head()"
   ]
  },
  {
   "cell_type": "code",
   "execution_count": null,
   "metadata": {
    "id": "_KcmR0p-FYaL",
    "outputId": "45bcebdc-568c-4be0-83ed-2dda018fb2b0"
   },
   "outputs": [],
   "source": [
    "## checking the tail part\n",
    "data.tail(3)"
   ]
  },
  {
   "cell_type": "code",
   "execution_count": null,
   "metadata": {
    "id": "XK9AyqfLFYaN",
    "outputId": "e710044a-7808-47fa-94e2-b368e7e2c9df"
   },
   "outputs": [],
   "source": [
    "## Information about dataframe\n",
    "data.info()"
   ]
  },
  {
   "cell_type": "code",
   "execution_count": null,
   "metadata": {
    "id": "fqs3VHPjFYaL",
    "outputId": "ed31b9e6-50e6-443e-be3b-5e78b765d0fe",
    "scrolled": true
   },
   "outputs": [],
   "source": [
    "## Describe give statistical information of numerical data\n",
    "data.describe()"
   ]
  },
  {
   "cell_type": "code",
   "execution_count": null,
   "metadata": {
    "id": "JJUM3pcaFYaM",
    "outputId": "d8c5302f-23a2-46f0-b001-070f70973da9",
    "scrolled": false
   },
   "outputs": [],
   "source": [
    "# statistical information for categorical data (represented as 'O' ie., object)\n",
    "data.describe(include='O') "
   ]
  },
  {
   "cell_type": "code",
   "execution_count": null,
   "metadata": {
    "id": "-V_4sV1SFYaN",
    "outputId": "e750e932-71d6-4ca0-f08a-f472206efe29"
   },
   "outputs": [],
   "source": [
    "## Getting the column names\n",
    "data.columns"
   ]
  },
  {
   "cell_type": "code",
   "execution_count": null,
   "metadata": {
    "id": "Q5AIKsu_FYaN",
    "outputId": "2dad3899-46e4-4f57-a88e-7b3968cec8dc",
    "scrolled": true
   },
   "outputs": [],
   "source": [
    "data.head()"
   ]
  },
  {
   "cell_type": "code",
   "execution_count": null,
   "metadata": {
    "colab": {
     "base_uri": "https://localhost:8080/",
     "height": 171
    },
    "executionInfo": {
     "elapsed": 36,
     "status": "error",
     "timestamp": 1622465401441,
     "user": {
      "displayName": "himanshi shrivastava",
      "photoUrl": "",
      "userId": "16933945394446450896"
     },
     "user_tz": -330
    },
    "id": "YP5xdR-SFYaO",
    "outputId": "a2853875-39f1-4488-a9c9-14fd9e1e1c95",
    "scrolled": true
   },
   "outputs": [],
   "source": [
    "data.Survived.unique() ## Unique represents how many unique labels are present in the feature"
   ]
  },
  {
   "cell_type": "code",
   "execution_count": null,
   "metadata": {
    "id": "RatnHsWgFYaO",
    "outputId": "9f1b78e8-ee25-4c94-87b7-9a2fad91e38a"
   },
   "outputs": [],
   "source": [
    "## unique ## categorical data and discrete\n",
    "\n",
    "data.Gender.unique() ## give the unique label"
   ]
  },
  {
   "cell_type": "code",
   "execution_count": null,
   "metadata": {
    "id": "Dvowei2yFYaP",
    "outputId": "6e7200db-2327-4e55-fb77-5af377c4c181"
   },
   "outputs": [],
   "source": [
    "## gves the count of unique values\n",
    "data.Gender.value_counts()"
   ]
  },
  {
   "cell_type": "code",
   "execution_count": null,
   "metadata": {
    "id": "Tp5xtiG_FYaP",
    "outputId": "87aa6304-d02e-4258-da1b-b17ef5c86e27"
   },
   "outputs": [],
   "source": [
    "data.Pclass.value_counts()"
   ]
  },
  {
   "cell_type": "code",
   "execution_count": null,
   "metadata": {
    "id": "etiLh8G0FYaP",
    "outputId": "161705b5-d47d-4e5c-f328-2f0be41e9734"
   },
   "outputs": [],
   "source": [
    "data.Cabin.value_counts() "
   ]
  },
  {
   "cell_type": "code",
   "execution_count": null,
   "metadata": {
    "id": "u0QiXRmhFYaQ",
    "outputId": "d699e1c9-98f8-44d8-c78f-895ed6a66420"
   },
   "outputs": [],
   "source": [
    "## getting the specific column from the dataframe\n",
    "data['Survived']"
   ]
  },
  {
   "cell_type": "code",
   "execution_count": null,
   "metadata": {},
   "outputs": [],
   "source": [
    "data"
   ]
  },
  {
   "cell_type": "code",
   "execution_count": null,
   "metadata": {
    "id": "3Oxgp0ZxFYaR"
   },
   "outputs": [],
   "source": [
    "pd.set_option('display.max_rows',None) ## displaying all rows"
   ]
  },
  {
   "cell_type": "code",
   "execution_count": null,
   "metadata": {},
   "outputs": [],
   "source": [
    "data"
   ]
  },
  {
   "cell_type": "code",
   "execution_count": null,
   "metadata": {
    "id": "Ij4BqAKaevBL"
   },
   "outputs": [],
   "source": [
    "pd.reset_option('display.max_rows',None)"
   ]
  },
  {
   "cell_type": "code",
   "execution_count": null,
   "metadata": {},
   "outputs": [],
   "source": [
    "data"
   ]
  },
  {
   "cell_type": "code",
   "execution_count": null,
   "metadata": {
    "id": "fAKA_ledFYaR"
   },
   "outputs": [],
   "source": [
    "pd.set_option('display.max_columns',None) ## display all columns"
   ]
  },
  {
   "cell_type": "code",
   "execution_count": null,
   "metadata": {
    "id": "MJ4JPiLgFYaR",
    "outputId": "b141b97a-1c12-4691-c218-4aa00f2df091"
   },
   "outputs": [],
   "source": [
    "## getting multiple columns\n",
    "data[['Survived','Age','Gender']]"
   ]
  },
  {
   "cell_type": "code",
   "execution_count": null,
   "metadata": {
    "id": "Esb_y2JAFYaR"
   },
   "outputs": [],
   "source": [
    "## want new dataframe which will have columns from  data\n",
    "d1=data[['Survived','Age','Gender']]"
   ]
  },
  {
   "cell_type": "code",
   "execution_count": null,
   "metadata": {
    "id": "FV-xRmUkFYaS",
    "outputId": "39e5c4f7-c7ce-4938-a137-608d7dda3564"
   },
   "outputs": [],
   "source": [
    "d1"
   ]
  },
  {
   "cell_type": "code",
   "execution_count": null,
   "metadata": {
    "id": "41JYWxcgFYaS",
    "outputId": "9d069dcf-d34e-43ab-8852-6f5bd2983d66"
   },
   "outputs": [],
   "source": [
    "##getting specific rows from a specific column\n",
    "d1[15:30]"
   ]
  },
  {
   "cell_type": "code",
   "execution_count": null,
   "metadata": {},
   "outputs": [],
   "source": [
    "data.head()"
   ]
  },
  {
   "cell_type": "code",
   "execution_count": null,
   "metadata": {
    "id": "NHduoV0XFYaS",
    "outputId": "7e6e0049-b809-4e36-9632-3d5c356d9bb3"
   },
   "outputs": [],
   "source": [
    "data.iloc[15:30,1:8]"
   ]
  },
  {
   "cell_type": "code",
   "execution_count": null,
   "metadata": {
    "id": "qnItviHrFYaS",
    "outputId": "340f9338-993d-48fe-b9a5-cfe628144dde"
   },
   "outputs": [],
   "source": [
    "data.head()"
   ]
  },
  {
   "cell_type": "code",
   "execution_count": null,
   "metadata": {},
   "outputs": [],
   "source": [
    "data.loc[1:6, ['Gender']]"
   ]
  },
  {
   "cell_type": "code",
   "execution_count": null,
   "metadata": {
    "id": "F-U53L4wFYaT",
    "outputId": "dce059c6-fbf7-48bd-c787-6e32814dd387"
   },
   "outputs": [],
   "source": [
    "## searching specific values from dataframe\n",
    "data.loc[data['Gender']=='female']"
   ]
  },
  {
   "cell_type": "code",
   "execution_count": null,
   "metadata": {},
   "outputs": [],
   "source": [
    "## task:-Get all passenger details whose age is greater than 50"
   ]
  },
  {
   "cell_type": "code",
   "execution_count": null,
   "metadata": {
    "id": "qD9TWkyoFYaT",
    "outputId": "6dc46044-2674-4ca9-ac79-5bd2a245ec1b"
   },
   "outputs": [],
   "source": [
    "data.loc[(data['Gender']=='female') & (data['Age']<38)]"
   ]
  },
  {
   "cell_type": "code",
   "execution_count": null,
   "metadata": {},
   "outputs": [],
   "source": [
    "## write the or condition\n",
    "d1"
   ]
  },
  {
   "cell_type": "code",
   "execution_count": null,
   "metadata": {
    "id": "z82e2IxYFYaT",
    "outputId": "5d3c7b64-0f42-4582-a14b-8e10be6fa794"
   },
   "outputs": [],
   "source": [
    "d1.loc[d1['Survived']==1]  "
   ]
  },
  {
   "cell_type": "code",
   "execution_count": null,
   "metadata": {
    "id": "t1SViABbFYaT",
    "outputId": "d73614b1-fbe3-4464-f997-b87fc39d5220"
   },
   "outputs": [],
   "source": [
    "data.loc[(data['Gender']=='female') & (data['Age']==22)]"
   ]
  },
  {
   "cell_type": "code",
   "execution_count": null,
   "metadata": {},
   "outputs": [],
   "source": [
    "data.loc[(data['Gender']=='female') | (data['Age']==22)]"
   ]
  },
  {
   "cell_type": "code",
   "execution_count": null,
   "metadata": {
    "id": "C3DZEgLsFYaU",
    "outputId": "0b2583eb-6e0d-4727-9f47-0751edbe5741"
   },
   "outputs": [],
   "source": [
    "data.head()"
   ]
  },
  {
   "cell_type": "code",
   "execution_count": null,
   "metadata": {
    "id": "k9hVK8pxFYaV",
    "outputId": "63167177-814a-4920-8e19-cc76963317d0"
   },
   "outputs": [],
   "source": [
    "data.loc[(data['Gender']=='female') & (data['Age']<38) | (data['Fare']<20)]"
   ]
  },
  {
   "cell_type": "code",
   "execution_count": null,
   "metadata": {},
   "outputs": [],
   "source": [
    "data.loc[(data['Gender']=='female') & (data['Age']<10) | (data['Fare']<20)]"
   ]
  },
  {
   "cell_type": "code",
   "execution_count": null,
   "metadata": {},
   "outputs": [],
   "source": [
    "data.head()"
   ]
  },
  {
   "cell_type": "code",
   "execution_count": null,
   "metadata": {
    "id": "u2QTxyMbFYaV",
    "outputId": "cba6f310-82a8-4773-85a8-a06c7ba1fc02"
   },
   "outputs": [],
   "source": [
    "## when se will not makyou want to set any specific column as index\n",
    "data.set_index('Gender', inplace=True) #  will make changes  in original dataframe  \n",
    "\n",
    "## by default--> inplace=False "
   ]
  },
  {
   "cell_type": "code",
   "execution_count": null,
   "metadata": {
    "id": "pg6Hc15gFYaW",
    "outputId": "c8beef73-d471-407d-a079-ebe3fa10fa02"
   },
   "outputs": [],
   "source": [
    "data.head(10)"
   ]
  },
  {
   "cell_type": "code",
   "execution_count": null,
   "metadata": {
    "id": "m6uQXP4yFYaX"
   },
   "outputs": [],
   "source": [
    "data.reset_index(inplace=True)"
   ]
  },
  {
   "cell_type": "code",
   "execution_count": null,
   "metadata": {
    "id": "pac215spFYaZ",
    "outputId": "0b3eb24e-d7a8-4dce-8180-34cf13108ed3",
    "scrolled": true
   },
   "outputs": [],
   "source": [
    "data.head()"
   ]
  },
  {
   "cell_type": "code",
   "execution_count": null,
   "metadata": {
    "id": "gfMoJXw9FYab"
   },
   "outputs": [],
   "source": [
    "## Creating new column \n",
    "data['DS']='Data Science'"
   ]
  },
  {
   "cell_type": "code",
   "execution_count": null,
   "metadata": {
    "id": "Ip3A510VFYac",
    "outputId": "644ea6db-5a86-48cf-d49e-118695269dbe"
   },
   "outputs": [],
   "source": [
    "data.head()"
   ]
  },
  {
   "cell_type": "code",
   "execution_count": null,
   "metadata": {
    "id": "81ha-1DaFYad",
    "outputId": "04b9976c-f13d-4c04-cb9e-2b5634543240"
   },
   "outputs": [],
   "source": [
    "## Dropping of the column\n",
    "data.drop('DS',axis=1)  ## axis=0 will refer to row and axis=1 will refer to column"
   ]
  },
  {
   "cell_type": "code",
   "execution_count": null,
   "metadata": {},
   "outputs": [],
   "source": [
    "data.head()"
   ]
  },
  {
   "cell_type": "code",
   "execution_count": null,
   "metadata": {
    "id": "V7xHorS1FYae"
   },
   "outputs": [],
   "source": [
    "data.drop(['DS'],axis=1,inplace=True)\n",
    "data.head()"
   ]
  },
  {
   "cell_type": "code",
   "execution_count": null,
   "metadata": {},
   "outputs": [],
   "source": [
    "data"
   ]
  },
  {
   "cell_type": "code",
   "execution_count": null,
   "metadata": {
    "id": "BEiV_G7vFYae",
    "outputId": "d10b77c0-36cd-419a-b599-184b4ebb01e2"
   },
   "outputs": [],
   "source": [
    "## Dropping the row\n",
    "data.drop(1,axis=0) #inplace=True - for removing permanently"
   ]
  },
  {
   "cell_type": "code",
   "execution_count": null,
   "metadata": {
    "id": "ZQ0dSFGfFYaf",
    "outputId": "43cb9db3-0d13-4b73-93c5-158f7c9f053d"
   },
   "outputs": [],
   "source": [
    "## Dropping the multiple row\n",
    "data.drop([1,2,8,96,85],axis=0)"
   ]
  },
  {
   "cell_type": "code",
   "execution_count": null,
   "metadata": {
    "id": "f_xaPFYaFYae"
   },
   "outputs": [],
   "source": [
    "## copy as backup\n",
    "new_data=data.copy()"
   ]
  },
  {
   "cell_type": "code",
   "execution_count": null,
   "metadata": {},
   "outputs": [],
   "source": [
    "new_data"
   ]
  },
  {
   "cell_type": "code",
   "execution_count": null,
   "metadata": {
    "id": "WAoXwkPZFYaf",
    "outputId": "86e624fa-8bb1-4ae3-adee-45b16ca41dbc"
   },
   "outputs": [],
   "source": [
    "data.head()"
   ]
  },
  {
   "cell_type": "code",
   "execution_count": null,
   "metadata": {
    "id": "fKhdHlWbFYag"
   },
   "outputs": [],
   "source": [
    "## creating new column using existing coulmns\n",
    "data['Family']=data['SibSp'] + data['Parch']"
   ]
  },
  {
   "cell_type": "code",
   "execution_count": null,
   "metadata": {
    "id": "QcIzk9gBFYah",
    "outputId": "7a353c68-e52f-42f8-a2e8-dd12540a726f"
   },
   "outputs": [],
   "source": [
    "data.head()"
   ]
  },
  {
   "cell_type": "markdown",
   "metadata": {
    "id": "ZiFqplPuevBT"
   },
   "source": [
    "## Missing Values"
   ]
  },
  {
   "cell_type": "code",
   "execution_count": null,
   "metadata": {
    "id": "TtgmczjVevBT",
    "outputId": "6dafc1ab-2180-4276-c658-a16cd6bcb8f5"
   },
   "outputs": [],
   "source": [
    "## counting the missing values\n",
    "data.isnull().sum()"
   ]
  },
  {
   "cell_type": "code",
   "execution_count": null,
   "metadata": {
    "id": "fCIwLBAUevBT"
   },
   "outputs": [],
   "source": [
    "## getting the indexes of rows where values are missing in specific column\n",
    "missing=np.where(data['Age'].isnull()==True)"
   ]
  },
  {
   "cell_type": "code",
   "execution_count": null,
   "metadata": {
    "id": "nuCNiEsOevBT",
    "outputId": "f15cd2f2-0167-4d9a-e533-6788ddcb85f2"
   },
   "outputs": [],
   "source": [
    "missing"
   ]
  },
  {
   "cell_type": "code",
   "execution_count": null,
   "metadata": {
    "id": "1TtUXweeevBT",
    "outputId": "4bef2a52-4830-4201-a542-94a71b347a0b"
   },
   "outputs": [],
   "source": [
    "##getting the actual data from the indexes\n",
    "data.iloc[missing]"
   ]
  },
  {
   "cell_type": "code",
   "execution_count": null,
   "metadata": {},
   "outputs": [],
   "source": [
    "## getting missing values by loc function\n",
    "data.loc[data['Age'].isnull()==True]"
   ]
  },
  {
   "cell_type": "code",
   "execution_count": null,
   "metadata": {
    "id": "F3Tjr4VlevBT"
   },
   "outputs": [],
   "source": [
    "## Handling the missing values\n",
    "## 1)Imputation  2)Dropping"
   ]
  },
  {
   "cell_type": "code",
   "execution_count": null,
   "metadata": {
    "id": "zRLprQtbevBU",
    "outputId": "8387e1b3-ec1b-4889-fa79-91788a1ef24d"
   },
   "outputs": [],
   "source": [
    "## Fillna\n",
    "data.fillna(value='MISSING')"
   ]
  },
  {
   "cell_type": "code",
   "execution_count": null,
   "metadata": {
    "id": "C3kalD_yevBU",
    "outputId": "42625367-ea40-4654-cc04-f46e9d24e06d"
   },
   "outputs": [],
   "source": [
    "data['Age'].mean()"
   ]
  },
  {
   "cell_type": "code",
   "execution_count": null,
   "metadata": {
    "id": "yrxZZR0uevBU",
    "outputId": "90dde4b3-3723-470d-8049-eae531c52c18"
   },
   "outputs": [],
   "source": [
    "data.fillna(value=data['Age'].mean())"
   ]
  },
  {
   "cell_type": "code",
   "execution_count": null,
   "metadata": {},
   "outputs": [],
   "source": [
    "data"
   ]
  },
  {
   "cell_type": "code",
   "execution_count": null,
   "metadata": {
    "id": "tnxlfrV8evBU",
    "outputId": "8de3438b-ca7f-4c55-f1f9-028f05525ea1"
   },
   "outputs": [],
   "source": [
    "data.fillna(method='ffill')"
   ]
  },
  {
   "cell_type": "code",
   "execution_count": null,
   "metadata": {
    "id": "sRlbLqZWevBU",
    "outputId": "4c009948-0fd7-4833-da09-abdc981ec4df"
   },
   "outputs": [],
   "source": [
    "data"
   ]
  },
  {
   "cell_type": "code",
   "execution_count": null,
   "metadata": {
    "id": "qiw-eDVyevBU"
   },
   "outputs": [],
   "source": [
    "##Using loc function to impute missing on a specific column\n",
    "\n",
    "data.loc[data['Age'].isnull()==True,'Age']= 29"
   ]
  },
  {
   "cell_type": "code",
   "execution_count": null,
   "metadata": {},
   "outputs": [],
   "source": [
    "data"
   ]
  },
  {
   "cell_type": "code",
   "execution_count": null,
   "metadata": {
    "id": "C4jAKRUtevBU",
    "outputId": "4344fcd9-9219-4d9d-f4b4-d1feb1347fb5",
    "scrolled": true
   },
   "outputs": [],
   "source": [
    "data.Cabin.isnull().sum()"
   ]
  },
  {
   "cell_type": "markdown",
   "metadata": {
    "id": "-7jI4GeZevBV"
   },
   "source": [
    "## Sorting the dataframe"
   ]
  },
  {
   "cell_type": "code",
   "execution_count": null,
   "metadata": {
    "scrolled": true
   },
   "outputs": [],
   "source": [
    "data.head()"
   ]
  },
  {
   "cell_type": "code",
   "execution_count": null,
   "metadata": {
    "id": "IudCI7mdevBV",
    "outputId": "12cc34ae-6f8c-4a03-804f-4d61a1b0d799"
   },
   "outputs": [],
   "source": [
    "## arranging\n",
    "data.sort_values('Pclass', ascending=False, ignore_index=True)"
   ]
  },
  {
   "cell_type": "code",
   "execution_count": null,
   "metadata": {
    "id": "eM7kn9lSevBV",
    "outputId": "d5b63114-6669-4a49-dece-a3d524702ae0"
   },
   "outputs": [],
   "source": [
    "data.sort_values(by=['Age','Pclass'],ascending=[1,0])"
   ]
  },
  {
   "cell_type": "markdown",
   "metadata": {
    "id": "c0QYnDc1evBV"
   },
   "source": [
    "## Grouping the data"
   ]
  },
  {
   "cell_type": "code",
   "execution_count": null,
   "metadata": {
    "id": "Ic-4jAtrevBV",
    "outputId": "33035f42-4a8f-4f78-ce2b-f2c3c6b38a64",
    "scrolled": true
   },
   "outputs": [],
   "source": [
    "data.groupby(data['Pclass']).count()"
   ]
  },
  {
   "cell_type": "code",
   "execution_count": null,
   "metadata": {},
   "outputs": [],
   "source": [
    "data.groupby(data['Pclass']).max('Fare')"
   ]
  },
  {
   "cell_type": "code",
   "execution_count": null,
   "metadata": {
    "id": "RbxVwcJ2evBV",
    "outputId": "80dc3e11-bf3b-4d05-efb0-8a632e199db4"
   },
   "outputs": [],
   "source": [
    "data.groupby(data['Pclass']).agg({'Fare':'max'})"
   ]
  },
  {
   "cell_type": "code",
   "execution_count": null,
   "metadata": {
    "id": "WZMwG0WHevBV",
    "outputId": "a0f13dab-2a12-472a-df89-a290714d4831"
   },
   "outputs": [],
   "source": [
    "data.groupby(data['Gender']).mean()"
   ]
  },
  {
   "cell_type": "markdown",
   "metadata": {
    "id": "K1saVJjmevBW"
   },
   "source": [
    "## Changing the datatype"
   ]
  },
  {
   "cell_type": "code",
   "execution_count": null,
   "metadata": {},
   "outputs": [],
   "source": [
    "data.info()"
   ]
  },
  {
   "cell_type": "code",
   "execution_count": null,
   "metadata": {
    "id": "X6T656kBevBW",
    "scrolled": true
   },
   "outputs": [],
   "source": [
    "data['Age']=data.Age.astype('float16')"
   ]
  },
  {
   "cell_type": "code",
   "execution_count": null,
   "metadata": {},
   "outputs": [],
   "source": [
    "data.info()"
   ]
  },
  {
   "cell_type": "code",
   "execution_count": null,
   "metadata": {},
   "outputs": [],
   "source": [
    "data['Age'] = data.Age.astype('object')"
   ]
  },
  {
   "cell_type": "code",
   "execution_count": null,
   "metadata": {},
   "outputs": [],
   "source": [
    "data.info()"
   ]
  },
  {
   "cell_type": "code",
   "execution_count": null,
   "metadata": {},
   "outputs": [],
   "source": [
    "data['Age'] = data.Age.astype('float32')"
   ]
  },
  {
   "cell_type": "code",
   "execution_count": null,
   "metadata": {
    "id": "USzX6ALPevBW",
    "outputId": "90ba22f5-a3ab-4339-e980-09e60e6eafd0",
    "scrolled": true
   },
   "outputs": [],
   "source": [
    "data['Fare']=pd.to_numeric(data.Fare,downcast='float')"
   ]
  },
  {
   "cell_type": "code",
   "execution_count": null,
   "metadata": {},
   "outputs": [],
   "source": [
    "data.info()"
   ]
  },
  {
   "cell_type": "code",
   "execution_count": null,
   "metadata": {
    "id": "3pdyXaHrevBW",
    "outputId": "616cc36f-c75c-4294-824d-48d7acc4e1fe"
   },
   "outputs": [],
   "source": [
    "data['Parch'] = pd.to_numeric(data.Parch,downcast='integer')"
   ]
  },
  {
   "cell_type": "code",
   "execution_count": null,
   "metadata": {},
   "outputs": [],
   "source": [
    "data['Name'] = data.Name.astype('int')"
   ]
  },
  {
   "cell_type": "code",
   "execution_count": null,
   "metadata": {},
   "outputs": [],
   "source": [
    "data.info()"
   ]
  },
  {
   "cell_type": "code",
   "execution_count": null,
   "metadata": {},
   "outputs": [],
   "source": [
    "data.info()"
   ]
  },
  {
   "cell_type": "markdown",
   "metadata": {
    "id": "bicFz4LgevBW"
   },
   "source": [
    "## Joining the dataframe"
   ]
  },
  {
   "cell_type": "code",
   "execution_count": null,
   "metadata": {
    "id": "_mujXWFievBW"
   },
   "outputs": [],
   "source": [
    "df1=pd.DataFrame({'A':['A0','A1','A2','A3','A4','A5'],\n",
    "                 'B':['B0','B1','B2','B3','B4','B5'],\n",
    "                'C':['C0','C1','C2','C3','C4','C5'],\n",
    "                'D':['D0','D1','D2','D3','D4','D5']})"
   ]
  },
  {
   "cell_type": "code",
   "execution_count": null,
   "metadata": {
    "id": "Tqd4oOgpevBX",
    "outputId": "76405e5c-8187-4b0b-b94a-947bbc76512e"
   },
   "outputs": [],
   "source": [
    "df1"
   ]
  },
  {
   "cell_type": "code",
   "execution_count": null,
   "metadata": {
    "id": "VKlkI_mPevBX"
   },
   "outputs": [],
   "source": [
    "df2=pd.DataFrame({'E':['A0','A1','A2','A3','A4','A5'],\n",
    "                 'F':['B0','B1','B2','B3','B4','B5'],\n",
    "                'G':['C0','C1','C2','C3','C4','C5'],\n",
    "                'H':['D0','D1','D2','D3','D4','D5']})"
   ]
  },
  {
   "cell_type": "code",
   "execution_count": null,
   "metadata": {
    "id": "daozBRz8evBX",
    "outputId": "834a3c04-6fa2-4a46-c339-055d0b5acd8b"
   },
   "outputs": [],
   "source": [
    "df2"
   ]
  },
  {
   "cell_type": "code",
   "execution_count": null,
   "metadata": {
    "id": "nVISHuzYevBX",
    "outputId": "60e11ac9-5afa-48c2-9581-0166b0b1ab0c"
   },
   "outputs": [],
   "source": [
    "## when 2 dataframe have same columns and we need to just append the row\n",
    "pd.concat([df1,df2],axis=0, ignore_index=True)"
   ]
  },
  {
   "cell_type": "code",
   "execution_count": null,
   "metadata": {
    "id": "hmp-ZmX3evBX",
    "outputId": "813a51fa-7ca8-44cd-88a6-408fe7d5c983"
   },
   "outputs": [],
   "source": [
    "## When 2 dataframe and have same column and want \n",
    "##   to append according to columns\n",
    "\n",
    "pd.concat([df1,df2],axis=1)"
   ]
  },
  {
   "cell_type": "code",
   "execution_count": null,
   "metadata": {},
   "outputs": [],
   "source": []
  },
  {
   "cell_type": "code",
   "execution_count": null,
   "metadata": {},
   "outputs": [],
   "source": [
    "#pip install --upgrade pandas"
   ]
  }
 ],
 "metadata": {
  "colab": {
   "name": "Data Manupulation.ipynb",
   "provenance": []
  },
  "kernelspec": {
   "display_name": "Python 3 (ipykernel)",
   "language": "python",
   "name": "python3"
  },
  "language_info": {
   "codemirror_mode": {
    "name": "ipython",
    "version": 3
   },
   "file_extension": ".py",
   "mimetype": "text/x-python",
   "name": "python",
   "nbconvert_exporter": "python",
   "pygments_lexer": "ipython3",
   "version": "3.9.7"
  }
 },
 "nbformat": 4,
 "nbformat_minor": 1
}
