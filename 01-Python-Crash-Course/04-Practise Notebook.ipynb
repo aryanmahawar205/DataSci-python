{
 "cells": [
  {
   "cell_type": "code",
   "execution_count": 3,
   "metadata": {},
   "outputs": [
    {
     "name": "stdout",
     "output_type": "stream",
     "text": [
      "My number is 12 and my name is Sam.\n",
      "\n",
      "My number is 12 and my name is Sam.\n"
     ]
    }
   ],
   "source": [
    "#string formatting\n",
    "\n",
    "#method 1\n",
    "num = 12\n",
    "name = \"Sam\"\n",
    "strg = \"My number is {} and my name is {}.\".format(num, name)\n",
    "print(strg)\n",
    "\n",
    "print()\n",
    "\n",
    "#method 2\n",
    "num = 12\n",
    "name = \"Sam\"\n",
    "strg = \"My number is {one} and my name is {two}.\".format(one = num, two = name)\n",
    "print(strg)"
   ]
  },
  {
   "cell_type": "code",
   "execution_count": 2,
   "metadata": {},
   "outputs": [
    {
     "name": "stdout",
     "output_type": "stream",
     "text": [
      "[1, 4, 9, 16]\n",
      "\n",
      "[1, 4, 9, 16]\n"
     ]
    }
   ],
   "source": [
    "#list comprehension\n",
    "\n",
    "#traditional way\n",
    "x = [1, 2, 3, 4]\n",
    "out = []\n",
    "for num in x:\n",
    "    out.append(num**2)\n",
    "print(out)\n",
    "\n",
    "print()\n",
    "\n",
    "#list comprehension way\n",
    "out = [num**2 for num in x]             #basically the for loop to be written in a reverse fashion\n",
    "print(out)"
   ]
  },
  {
   "cell_type": "code",
   "execution_count": 36,
   "metadata": {},
   "outputs": [
    {
     "name": "stdout",
     "output_type": "stream",
     "text": [
      "[2, 4, 6, 8, 10]\n"
     ]
    }
   ],
   "source": [
    "#map() function\n",
    "\n",
    "def times2(var):\n",
    "    return var*2\n",
    "\n",
    "seq = [1, 2, 3, 4, 5]\n",
    "\n",
    "ls = list(map(times2, seq))             #map(some_function_name, some_valid_sequence)\n",
    "\n",
    "print(ls)"
   ]
  },
  {
   "cell_type": "code",
   "execution_count": 37,
   "metadata": {},
   "outputs": [
    {
     "name": "stdout",
     "output_type": "stream",
     "text": [
      "4\n",
      "\n",
      "12\n",
      "[3, 6, 9, 12, 15]\n"
     ]
    }
   ],
   "source": [
    "#lambda expression / lambda function\n",
    "\n",
    "def times2(var): return var*2\n",
    "print(times2(2))\n",
    "\n",
    "'''\n",
    "The lambda expression or the lambda function removes the obvious parts of the function body\n",
    "For example, the def keyword and the return keyword could be replaced by the lambda function\n",
    "'''\n",
    "print()\n",
    "#using lambda function\n",
    "\n",
    "t = lambda var : var*2\n",
    "print(t(6))\n",
    "\n",
    "#lambda in map()\n",
    "\n",
    "seq = [1, 2, 3, 4, 5]\n",
    "\n",
    "ls = list(map(lambda var : var*3, seq))             \n",
    "\n",
    "print(ls)"
   ]
  }
 ],
 "metadata": {
  "kernelspec": {
   "display_name": "Python 3",
   "language": "python",
   "name": "python3"
  },
  "language_info": {
   "codemirror_mode": {
    "name": "ipython",
    "version": 3
   },
   "file_extension": ".py",
   "mimetype": "text/x-python",
   "name": "python",
   "nbconvert_exporter": "python",
   "pygments_lexer": "ipython3",
   "version": "3.11.5"
  },
  "orig_nbformat": 4
 },
 "nbformat": 4,
 "nbformat_minor": 2
}
